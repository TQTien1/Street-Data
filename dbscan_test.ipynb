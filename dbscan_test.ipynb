{
 "cells": [
  {
   "cell_type": "code",
   "execution_count": 352,
   "id": "b31a266e-16c5-410f-896e-d5c4d830d90d",
   "metadata": {
    "tags": []
   },
   "outputs": [],
   "source": [
    "#Import libraries\n",
    "from sklearn.cluster import DBSCAN\n",
    "from sklearn.metrics import silhouette_score as ss\n",
    "import pandas as pd \n",
    "import numpy as np\n",
    "import plotly.express as px\n",
    "import itertools as it "
   ]
  },
  {
   "cell_type": "code",
   "execution_count": 353,
   "id": "3d6170fb-87c4-4a8a-bf3e-27dd61d792d4",
   "metadata": {
    "tags": []
   },
   "outputs": [
    {
     "data": {
      "text/html": [
       "<div>\n",
       "<style scoped>\n",
       "    .dataframe tbody tr th:only-of-type {\n",
       "        vertical-align: middle;\n",
       "    }\n",
       "\n",
       "    .dataframe tbody tr th {\n",
       "        vertical-align: top;\n",
       "    }\n",
       "\n",
       "    .dataframe thead th {\n",
       "        text-align: right;\n",
       "    }\n",
       "</style>\n",
       "<table border=\"1\" class=\"dataframe\">\n",
       "  <thead>\n",
       "    <tr style=\"text-align: right;\">\n",
       "      <th></th>\n",
       "      <th>Index</th>\n",
       "      <th>District</th>\n",
       "      <th>Ward</th>\n",
       "      <th>Street Name 1</th>\n",
       "      <th>Street name 2</th>\n",
       "      <th>Street Name 3</th>\n",
       "      <th>Street Name 4</th>\n",
       "      <th>Longitude</th>\n",
       "      <th>Latitude</th>\n",
       "      <th>Traffic Level</th>\n",
       "    </tr>\n",
       "  </thead>\n",
       "  <tbody>\n",
       "    <tr>\n",
       "      <th>0</th>\n",
       "      <td>10101</td>\n",
       "      <td>Ba Đình</td>\n",
       "      <td>Phúc Xá</td>\n",
       "      <td>An Xá</td>\n",
       "      <td>Nghĩa Dũng</td>\n",
       "      <td>NaN</td>\n",
       "      <td>NaN</td>\n",
       "      <td>21.046224</td>\n",
       "      <td>105.849289</td>\n",
       "      <td>1</td>\n",
       "    </tr>\n",
       "    <tr>\n",
       "      <th>1</th>\n",
       "      <td>10102</td>\n",
       "      <td>Ba Đình</td>\n",
       "      <td>Phúc Xá</td>\n",
       "      <td>An Xá</td>\n",
       "      <td>Tân Mỹ</td>\n",
       "      <td>NaN</td>\n",
       "      <td>NaN</td>\n",
       "      <td>21.042412</td>\n",
       "      <td>105.852127</td>\n",
       "      <td>1</td>\n",
       "    </tr>\n",
       "    <tr>\n",
       "      <th>2</th>\n",
       "      <td>10103</td>\n",
       "      <td>Ba Đình</td>\n",
       "      <td>Phúc Xá</td>\n",
       "      <td>An Xá</td>\n",
       "      <td>Phúc Xá</td>\n",
       "      <td>NaN</td>\n",
       "      <td>NaN</td>\n",
       "      <td>21.046067</td>\n",
       "      <td>105.849022</td>\n",
       "      <td>1</td>\n",
       "    </tr>\n",
       "    <tr>\n",
       "      <th>3</th>\n",
       "      <td>11901</td>\n",
       "      <td>Ba Đình</td>\n",
       "      <td>Điện Biên</td>\n",
       "      <td>Bà Huyện Thanh Quan</td>\n",
       "      <td>Chùa Một Cột</td>\n",
       "      <td>NaN</td>\n",
       "      <td>NaN</td>\n",
       "      <td>21.034974</td>\n",
       "      <td>105.835874</td>\n",
       "      <td>1</td>\n",
       "    </tr>\n",
       "    <tr>\n",
       "      <th>4</th>\n",
       "      <td>11902</td>\n",
       "      <td>Ba Đình</td>\n",
       "      <td>Điện Biên</td>\n",
       "      <td>Bà Huyện Thanh Quan</td>\n",
       "      <td>Lê Hồng Phong</td>\n",
       "      <td>NaN</td>\n",
       "      <td>NaN</td>\n",
       "      <td>21.033849</td>\n",
       "      <td>105.835607</td>\n",
       "      <td>2</td>\n",
       "    </tr>\n",
       "    <tr>\n",
       "      <th>...</th>\n",
       "      <td>...</td>\n",
       "      <td>...</td>\n",
       "      <td>...</td>\n",
       "      <td>...</td>\n",
       "      <td>...</td>\n",
       "      <td>...</td>\n",
       "      <td>...</td>\n",
       "      <td>...</td>\n",
       "      <td>...</td>\n",
       "      <td>...</td>\n",
       "    </tr>\n",
       "    <tr>\n",
       "      <th>350</th>\n",
       "      <td>11976</td>\n",
       "      <td>Ba Đình</td>\n",
       "      <td>Điện Biên</td>\n",
       "      <td>Tôn Thất Thiệp</td>\n",
       "      <td>Lý Nam Đế</td>\n",
       "      <td>NaN</td>\n",
       "      <td>NaN</td>\n",
       "      <td>21.034050</td>\n",
       "      <td>105.844725</td>\n",
       "      <td>2</td>\n",
       "    </tr>\n",
       "    <tr>\n",
       "      <th>362</th>\n",
       "      <td>11985</td>\n",
       "      <td>Ba Đình</td>\n",
       "      <td>Điện Biên</td>\n",
       "      <td>Trần Phú</td>\n",
       "      <td>Lý Nam Đế</td>\n",
       "      <td>NaN</td>\n",
       "      <td>NaN</td>\n",
       "      <td>21.030093</td>\n",
       "      <td>105.843887</td>\n",
       "      <td>2</td>\n",
       "    </tr>\n",
       "    <tr>\n",
       "      <th>363</th>\n",
       "      <td>11986</td>\n",
       "      <td>Ba Đình</td>\n",
       "      <td>Điện Biên</td>\n",
       "      <td>Trần Phú</td>\n",
       "      <td>Tống Duy Tân</td>\n",
       "      <td>NaN</td>\n",
       "      <td>NaN</td>\n",
       "      <td>21.029998</td>\n",
       "      <td>105.844335</td>\n",
       "      <td>2</td>\n",
       "    </tr>\n",
       "    <tr>\n",
       "      <th>364</th>\n",
       "      <td>11987</td>\n",
       "      <td>Ba Đình</td>\n",
       "      <td>Điện Biên</td>\n",
       "      <td>Trần Phú</td>\n",
       "      <td>Phùng Hưng</td>\n",
       "      <td>Hà Trung</td>\n",
       "      <td>NaN</td>\n",
       "      <td>21.029973</td>\n",
       "      <td>105.844738</td>\n",
       "      <td>2</td>\n",
       "    </tr>\n",
       "    <tr>\n",
       "      <th>381</th>\n",
       "      <td>10813</td>\n",
       "      <td>Ba Đình</td>\n",
       "      <td>Liễu Giai</td>\n",
       "      <td>Vạn Bảo</td>\n",
       "      <td>Vạn Phúc</td>\n",
       "      <td>NaN</td>\n",
       "      <td>NaN</td>\n",
       "      <td>21.033170</td>\n",
       "      <td>105.816966</td>\n",
       "      <td>2</td>\n",
       "    </tr>\n",
       "  </tbody>\n",
       "</table>\n",
       "<p>197 rows × 10 columns</p>\n",
       "</div>"
      ],
      "text/plain": [
       "     Index District       Ward        Street Name 1  Street name 2  \\\n",
       "0    10101  Ba Đình    Phúc Xá                An Xá     Nghĩa Dũng   \n",
       "1    10102  Ba Đình    Phúc Xá                An Xá         Tân Mỹ   \n",
       "2    10103  Ba Đình    Phúc Xá                An Xá        Phúc Xá   \n",
       "3    11901  Ba Đình  Điện Biên  Bà Huyện Thanh Quan   Chùa Một Cột   \n",
       "4    11902  Ba Đình  Điện Biên  Bà Huyện Thanh Quan  Lê Hồng Phong   \n",
       "..     ...      ...        ...                  ...            ...   \n",
       "350  11976  Ba Đình  Điện Biên       Tôn Thất Thiệp      Lý Nam Đế   \n",
       "362  11985  Ba Đình  Điện Biên             Trần Phú      Lý Nam Đế   \n",
       "363  11986  Ba Đình  Điện Biên             Trần Phú   Tống Duy Tân   \n",
       "364  11987  Ba Đình  Điện Biên             Trần Phú     Phùng Hưng   \n",
       "381  10813  Ba Đình  Liễu Giai              Vạn Bảo       Vạn Phúc   \n",
       "\n",
       "    Street Name 3 Street Name 4  Longitude    Latitude  Traffic Level  \n",
       "0             NaN           NaN  21.046224  105.849289              1  \n",
       "1             NaN           NaN  21.042412  105.852127              1  \n",
       "2             NaN           NaN  21.046067  105.849022              1  \n",
       "3             NaN           NaN  21.034974  105.835874              1  \n",
       "4             NaN           NaN  21.033849  105.835607              2  \n",
       "..            ...           ...        ...         ...            ...  \n",
       "350           NaN           NaN  21.034050  105.844725              2  \n",
       "362           NaN           NaN  21.030093  105.843887              2  \n",
       "363           NaN           NaN  21.029998  105.844335              2  \n",
       "364      Hà Trung           NaN  21.029973  105.844738              2  \n",
       "381           NaN           NaN  21.033170  105.816966              2  \n",
       "\n",
       "[197 rows x 10 columns]"
      ]
     },
     "execution_count": 353,
     "metadata": {},
     "output_type": "execute_result"
    }
   ],
   "source": [
    "#Original dataframe\n",
    "original_df = pd.read_excel('Street Data_BaDinh.xlsx')\n",
    "#Drop duplicates\n",
    "new_df = original_df.drop_duplicates(subset=['Longitude','Latitude'])\n",
    "new_df\n"
   ]
  },
  {
   "cell_type": "code",
   "execution_count": 354,
   "id": "00b90546",
   "metadata": {},
   "outputs": [
    {
     "name": "stdout",
     "output_type": "stream",
     "text": [
      "Index              0\n",
      "District           0\n",
      "Ward               0\n",
      "Street Name 1      0\n",
      "Street name 2      0\n",
      "Street Name 3    165\n",
      "Street Name 4    194\n",
      "Longitude          0\n",
      "Latitude           0\n",
      "Traffic Level      0\n",
      "dtype: int64\n"
     ]
    },
    {
     "data": {
      "text/plain": [
       "Index              int64\n",
       "District          object\n",
       "Ward              object\n",
       "Street Name 1     object\n",
       "Street name 2     object\n",
       "Street Name 3     object\n",
       "Street Name 4     object\n",
       "Longitude        float64\n",
       "Latitude         float64\n",
       "Traffic Level      int64\n",
       "dtype: object"
      ]
     },
     "execution_count": 354,
     "metadata": {},
     "output_type": "execute_result"
    }
   ],
   "source": [
    "#Count Missing Value\n",
    "print(new_df.isnull().sum())\n",
    "#Check Datatype\n",
    "new_df.dtypes"
   ]
  },
  {
   "cell_type": "code",
   "execution_count": 355,
   "metadata": {},
   "outputs": [
    {
     "data": {
      "application/vnd.plotly.v1+json": {
       "config": {
        "plotlyServerURL": "https://plot.ly"
       },
       "data": [
        {
         "alignmentgroup": "True",
         "hovertemplate": "color=1<br>Ward=%{x}<br>count=%{y}<extra></extra>",
         "legendgroup": "1",
         "marker": {
          "color": "#636efa",
          "pattern": {
           "shape": ""
          }
         },
         "name": "1",
         "offsetgroup": "1",
         "orientation": "v",
         "showlegend": true,
         "textposition": "auto",
         "type": "bar",
         "x": [
          "Phúc Xá",
          "Phúc Xá",
          "Phúc Xá",
          "Điện Biên",
          "Điện Biên",
          "Điện Biên",
          "Điện Biên",
          "Ngọc Hà",
          "Quán Thánh",
          "Trúc Bạch",
          "Trúc Bạch",
          "Trúc Bạch",
          "Trúc Bạch",
          "Điện Biên",
          "Điện Biên",
          "Quán Thánh",
          "Quán Thánh",
          "Trúc Bạch",
          "Quán Thánh",
          "Quán Thánh",
          "Điện Biên",
          "Nguyễn Trung Trực",
          "Nguyễn Trung Trực",
          "Nguyễn Trung Trực",
          "Quán Thánh",
          "Điện Biên",
          "Quán Thánh",
          "Nguyễn Trung Trực",
          "Điện Biên",
          "Điện Biên",
          "Điện Biên",
          "Giảng Võ",
          "Trúc Bạch",
          "Trúc Bạch",
          "Trúc Bạch",
          "Trúc Bạch",
          "Điện Biên",
          "Trúc Bạch",
          "Trúc Bạch",
          "Trúc Bạch",
          "Trúc Bạch",
          "Trúc Bạch",
          "Phúc Xá",
          "Kim Mã",
          "Trúc Bạch",
          "Trúc Bạch",
          "Quán Thánh",
          "Quán Thánh",
          "Ngọc Khánh",
          "Trúc Bạch",
          "Trúc Bạch",
          "Ngọc Hà",
          "Nguyễn Trung Trực",
          "Quán Thánh",
          "Nguyễn Trung Trực",
          "Điện Biên",
          "Trúc Bạch",
          "Quán Thánh",
          "Trúc Bạch"
         ],
         "xaxis": "x",
         "y": [
          1,
          1,
          1,
          1,
          1,
          1,
          1,
          1,
          1,
          1,
          1,
          1,
          1,
          1,
          1,
          1,
          1,
          1,
          1,
          1,
          1,
          1,
          1,
          1,
          1,
          1,
          1,
          1,
          1,
          1,
          1,
          1,
          1,
          1,
          1,
          1,
          1,
          1,
          1,
          1,
          1,
          1,
          1,
          1,
          1,
          1,
          1,
          1,
          1,
          1,
          1,
          1,
          1,
          1,
          1,
          1,
          1,
          1,
          1
         ],
         "yaxis": "y"
        },
        {
         "alignmentgroup": "True",
         "hovertemplate": "color=2<br>Ward=%{x}<br>count=%{y}<extra></extra>",
         "legendgroup": "2",
         "marker": {
          "color": "#EF553B",
          "pattern": {
           "shape": ""
          }
         },
         "name": "2",
         "offsetgroup": "2",
         "orientation": "v",
         "showlegend": true,
         "textposition": "auto",
         "type": "bar",
         "x": [
          "Điện Biên",
          "Cống Vị",
          "Điện Biên",
          "Điện Biên",
          "Điện Biên",
          "Ngọc Khánh",
          "Ngọc Khánh",
          "Điện Biên",
          "Điện Biên",
          "Quán Thánh",
          "Quán Thánh",
          "Trúc Bạch",
          "Trúc Bạch",
          "Trúc Bạch",
          "Cống Vị",
          "Ngọc Khánh",
          "Ngọc Khánh",
          "Điện Biên",
          "Điện Biên",
          "Điện Biên",
          "Điện Biên",
          "Điện Biên",
          "Liễu Giai",
          "Vĩnh Phúc",
          "Vĩnh Phúc",
          "Đội Cấn",
          "Kim Mã",
          "Giảng Võ",
          "Giảng Võ",
          "Giảng Võ",
          "Giảng Võ",
          "Kim Mã",
          "Nguyễn Trung Trực",
          "Nguyễn Trung Trực",
          "Nguyễn Trung Trực",
          "Nguyễn Trung Trực",
          "Nguyễn Trung Trực",
          "Quán Thánh",
          "Quán Thánh",
          "Nguyễn Trung Trực",
          "Nguyễn Trung Trực",
          "Nguyễn Trung Trực",
          "Nguyễn Trung Trực",
          "Nguyễn Trung Trực",
          "Điện Biên",
          "Điện Biên",
          "Điện Biên",
          "Quán Thánh",
          "Quán Thánh",
          "Liễu Giai",
          "Ngọc Hà",
          "Ngọc Hà",
          "Vĩnh Phúc",
          "Nguyễn Trung Trực",
          "Nguyễn Trung Trực",
          "Quán Thánh",
          "Phúc Xá",
          "Điện Biên",
          "Điện Biên",
          "Giảng Võ",
          "Kim Mã",
          "Kim Mã",
          "Ngọc Khánh",
          "Thành Công",
          "Điện Biên",
          "Điện Biên",
          "Giảng Võ",
          "Giảng Võ",
          "Ngọc Khánh",
          "Quán Thánh",
          "Ngọc Khánh",
          "Ngọc Khánh",
          "Thành Công",
          "Kim Mã",
          "Điện Biên",
          "Trúc Bạch",
          "Quán Thánh",
          "Quán Thánh",
          "Quán Thánh",
          "Liễu Giai",
          "Kim Mã",
          "Kim Mã",
          "Quán Thánh",
          "Quán Thánh",
          "Trúc Bạch",
          "Điện Biên",
          "Điện Biên",
          "Điện Biên",
          "Điện Biên",
          "Điện Biên",
          "Liễu Giai"
         ],
         "xaxis": "x",
         "y": [
          1,
          1,
          1,
          1,
          1,
          1,
          1,
          1,
          1,
          1,
          1,
          1,
          1,
          1,
          1,
          1,
          1,
          1,
          1,
          1,
          1,
          1,
          1,
          1,
          1,
          1,
          1,
          1,
          1,
          1,
          1,
          1,
          1,
          1,
          1,
          1,
          1,
          1,
          1,
          1,
          1,
          1,
          1,
          1,
          1,
          1,
          1,
          1,
          1,
          1,
          1,
          1,
          1,
          1,
          1,
          1,
          1,
          1,
          1,
          1,
          1,
          1,
          1,
          1,
          1,
          1,
          1,
          1,
          1,
          1,
          1,
          1,
          1,
          1,
          1,
          1,
          1,
          1,
          1,
          1,
          1,
          1,
          1,
          1,
          1,
          1,
          1,
          1,
          1,
          1,
          1
         ],
         "yaxis": "y"
        },
        {
         "alignmentgroup": "True",
         "hovertemplate": "color=3<br>Ward=%{x}<br>count=%{y}<extra></extra>",
         "legendgroup": "3",
         "marker": {
          "color": "#00cc96",
          "pattern": {
           "shape": ""
          }
         },
         "name": "3",
         "offsetgroup": "3",
         "orientation": "v",
         "showlegend": true,
         "textposition": "auto",
         "type": "bar",
         "x": [
          "Cống Vị",
          "Ngọc Khánh",
          "Ngọc Khánh",
          "Vĩnh Phúc",
          "Điện Biên",
          "Điện Biên",
          "Trúc Bạch",
          "Cống Vị",
          "Ngọc Khánh",
          "Giảng Võ",
          "Ngọc Khánh",
          "Thành Công",
          "Thành Công",
          "Điện Biên",
          "Điện Biên",
          "Điện Biên",
          "Điện Biên",
          "Cống Vị",
          "Cống Vị",
          "Đội Cấn",
          "Liễu Giai",
          "Liễu Giai",
          "Liễu Giai",
          "Kim Mã",
          "Quán Thánh",
          "Quán Thánh",
          "Nguyễn Trung Trực",
          "Ngọc Hà",
          "Quán Thánh",
          "Điện Biên",
          "Điện Biên",
          "Thành Công",
          "Thành Công",
          "Thành Công",
          "Giảng Võ",
          "Kim Mã",
          "Ngọc Khánh",
          "Cống Vị",
          "Cống Vị",
          "Điện Biên",
          "Điện Biên",
          "Liễu Giai",
          "Cống Vị",
          "Ngọc Khánh",
          "Ngọc Khánh",
          "Cống Vị",
          "Trúc Bạch"
         ],
         "xaxis": "x",
         "y": [
          1,
          1,
          1,
          1,
          1,
          1,
          1,
          1,
          1,
          1,
          1,
          1,
          1,
          1,
          1,
          1,
          1,
          1,
          1,
          1,
          1,
          1,
          1,
          1,
          1,
          1,
          1,
          1,
          1,
          1,
          1,
          1,
          1,
          1,
          1,
          1,
          1,
          1,
          1,
          1,
          1,
          1,
          1,
          1,
          1,
          1,
          1
         ],
         "yaxis": "y"
        }
       ],
       "layout": {
        "barmode": "relative",
        "legend": {
         "title": {
          "text": "color"
         },
         "tracegroupgap": 0
        },
        "margin": {
         "t": 60
        },
        "template": {
         "data": {
          "bar": [
           {
            "error_x": {
             "color": "#2a3f5f"
            },
            "error_y": {
             "color": "#2a3f5f"
            },
            "marker": {
             "line": {
              "color": "#E5ECF6",
              "width": 0.5
             },
             "pattern": {
              "fillmode": "overlay",
              "size": 10,
              "solidity": 0.2
             }
            },
            "type": "bar"
           }
          ],
          "barpolar": [
           {
            "marker": {
             "line": {
              "color": "#E5ECF6",
              "width": 0.5
             },
             "pattern": {
              "fillmode": "overlay",
              "size": 10,
              "solidity": 0.2
             }
            },
            "type": "barpolar"
           }
          ],
          "carpet": [
           {
            "aaxis": {
             "endlinecolor": "#2a3f5f",
             "gridcolor": "white",
             "linecolor": "white",
             "minorgridcolor": "white",
             "startlinecolor": "#2a3f5f"
            },
            "baxis": {
             "endlinecolor": "#2a3f5f",
             "gridcolor": "white",
             "linecolor": "white",
             "minorgridcolor": "white",
             "startlinecolor": "#2a3f5f"
            },
            "type": "carpet"
           }
          ],
          "choropleth": [
           {
            "colorbar": {
             "outlinewidth": 0,
             "ticks": ""
            },
            "type": "choropleth"
           }
          ],
          "contour": [
           {
            "colorbar": {
             "outlinewidth": 0,
             "ticks": ""
            },
            "colorscale": [
             [
              0,
              "#0d0887"
             ],
             [
              0.1111111111111111,
              "#46039f"
             ],
             [
              0.2222222222222222,
              "#7201a8"
             ],
             [
              0.3333333333333333,
              "#9c179e"
             ],
             [
              0.4444444444444444,
              "#bd3786"
             ],
             [
              0.5555555555555556,
              "#d8576b"
             ],
             [
              0.6666666666666666,
              "#ed7953"
             ],
             [
              0.7777777777777778,
              "#fb9f3a"
             ],
             [
              0.8888888888888888,
              "#fdca26"
             ],
             [
              1,
              "#f0f921"
             ]
            ],
            "type": "contour"
           }
          ],
          "contourcarpet": [
           {
            "colorbar": {
             "outlinewidth": 0,
             "ticks": ""
            },
            "type": "contourcarpet"
           }
          ],
          "heatmap": [
           {
            "colorbar": {
             "outlinewidth": 0,
             "ticks": ""
            },
            "colorscale": [
             [
              0,
              "#0d0887"
             ],
             [
              0.1111111111111111,
              "#46039f"
             ],
             [
              0.2222222222222222,
              "#7201a8"
             ],
             [
              0.3333333333333333,
              "#9c179e"
             ],
             [
              0.4444444444444444,
              "#bd3786"
             ],
             [
              0.5555555555555556,
              "#d8576b"
             ],
             [
              0.6666666666666666,
              "#ed7953"
             ],
             [
              0.7777777777777778,
              "#fb9f3a"
             ],
             [
              0.8888888888888888,
              "#fdca26"
             ],
             [
              1,
              "#f0f921"
             ]
            ],
            "type": "heatmap"
           }
          ],
          "heatmapgl": [
           {
            "colorbar": {
             "outlinewidth": 0,
             "ticks": ""
            },
            "colorscale": [
             [
              0,
              "#0d0887"
             ],
             [
              0.1111111111111111,
              "#46039f"
             ],
             [
              0.2222222222222222,
              "#7201a8"
             ],
             [
              0.3333333333333333,
              "#9c179e"
             ],
             [
              0.4444444444444444,
              "#bd3786"
             ],
             [
              0.5555555555555556,
              "#d8576b"
             ],
             [
              0.6666666666666666,
              "#ed7953"
             ],
             [
              0.7777777777777778,
              "#fb9f3a"
             ],
             [
              0.8888888888888888,
              "#fdca26"
             ],
             [
              1,
              "#f0f921"
             ]
            ],
            "type": "heatmapgl"
           }
          ],
          "histogram": [
           {
            "marker": {
             "pattern": {
              "fillmode": "overlay",
              "size": 10,
              "solidity": 0.2
             }
            },
            "type": "histogram"
           }
          ],
          "histogram2d": [
           {
            "colorbar": {
             "outlinewidth": 0,
             "ticks": ""
            },
            "colorscale": [
             [
              0,
              "#0d0887"
             ],
             [
              0.1111111111111111,
              "#46039f"
             ],
             [
              0.2222222222222222,
              "#7201a8"
             ],
             [
              0.3333333333333333,
              "#9c179e"
             ],
             [
              0.4444444444444444,
              "#bd3786"
             ],
             [
              0.5555555555555556,
              "#d8576b"
             ],
             [
              0.6666666666666666,
              "#ed7953"
             ],
             [
              0.7777777777777778,
              "#fb9f3a"
             ],
             [
              0.8888888888888888,
              "#fdca26"
             ],
             [
              1,
              "#f0f921"
             ]
            ],
            "type": "histogram2d"
           }
          ],
          "histogram2dcontour": [
           {
            "colorbar": {
             "outlinewidth": 0,
             "ticks": ""
            },
            "colorscale": [
             [
              0,
              "#0d0887"
             ],
             [
              0.1111111111111111,
              "#46039f"
             ],
             [
              0.2222222222222222,
              "#7201a8"
             ],
             [
              0.3333333333333333,
              "#9c179e"
             ],
             [
              0.4444444444444444,
              "#bd3786"
             ],
             [
              0.5555555555555556,
              "#d8576b"
             ],
             [
              0.6666666666666666,
              "#ed7953"
             ],
             [
              0.7777777777777778,
              "#fb9f3a"
             ],
             [
              0.8888888888888888,
              "#fdca26"
             ],
             [
              1,
              "#f0f921"
             ]
            ],
            "type": "histogram2dcontour"
           }
          ],
          "mesh3d": [
           {
            "colorbar": {
             "outlinewidth": 0,
             "ticks": ""
            },
            "type": "mesh3d"
           }
          ],
          "parcoords": [
           {
            "line": {
             "colorbar": {
              "outlinewidth": 0,
              "ticks": ""
             }
            },
            "type": "parcoords"
           }
          ],
          "pie": [
           {
            "automargin": true,
            "type": "pie"
           }
          ],
          "scatter": [
           {
            "fillpattern": {
             "fillmode": "overlay",
             "size": 10,
             "solidity": 0.2
            },
            "type": "scatter"
           }
          ],
          "scatter3d": [
           {
            "line": {
             "colorbar": {
              "outlinewidth": 0,
              "ticks": ""
             }
            },
            "marker": {
             "colorbar": {
              "outlinewidth": 0,
              "ticks": ""
             }
            },
            "type": "scatter3d"
           }
          ],
          "scattercarpet": [
           {
            "marker": {
             "colorbar": {
              "outlinewidth": 0,
              "ticks": ""
             }
            },
            "type": "scattercarpet"
           }
          ],
          "scattergeo": [
           {
            "marker": {
             "colorbar": {
              "outlinewidth": 0,
              "ticks": ""
             }
            },
            "type": "scattergeo"
           }
          ],
          "scattergl": [
           {
            "marker": {
             "colorbar": {
              "outlinewidth": 0,
              "ticks": ""
             }
            },
            "type": "scattergl"
           }
          ],
          "scattermapbox": [
           {
            "marker": {
             "colorbar": {
              "outlinewidth": 0,
              "ticks": ""
             }
            },
            "type": "scattermapbox"
           }
          ],
          "scatterpolar": [
           {
            "marker": {
             "colorbar": {
              "outlinewidth": 0,
              "ticks": ""
             }
            },
            "type": "scatterpolar"
           }
          ],
          "scatterpolargl": [
           {
            "marker": {
             "colorbar": {
              "outlinewidth": 0,
              "ticks": ""
             }
            },
            "type": "scatterpolargl"
           }
          ],
          "scatterternary": [
           {
            "marker": {
             "colorbar": {
              "outlinewidth": 0,
              "ticks": ""
             }
            },
            "type": "scatterternary"
           }
          ],
          "surface": [
           {
            "colorbar": {
             "outlinewidth": 0,
             "ticks": ""
            },
            "colorscale": [
             [
              0,
              "#0d0887"
             ],
             [
              0.1111111111111111,
              "#46039f"
             ],
             [
              0.2222222222222222,
              "#7201a8"
             ],
             [
              0.3333333333333333,
              "#9c179e"
             ],
             [
              0.4444444444444444,
              "#bd3786"
             ],
             [
              0.5555555555555556,
              "#d8576b"
             ],
             [
              0.6666666666666666,
              "#ed7953"
             ],
             [
              0.7777777777777778,
              "#fb9f3a"
             ],
             [
              0.8888888888888888,
              "#fdca26"
             ],
             [
              1,
              "#f0f921"
             ]
            ],
            "type": "surface"
           }
          ],
          "table": [
           {
            "cells": {
             "fill": {
              "color": "#EBF0F8"
             },
             "line": {
              "color": "white"
             }
            },
            "header": {
             "fill": {
              "color": "#C8D4E3"
             },
             "line": {
              "color": "white"
             }
            },
            "type": "table"
           }
          ]
         },
         "layout": {
          "annotationdefaults": {
           "arrowcolor": "#2a3f5f",
           "arrowhead": 0,
           "arrowwidth": 1
          },
          "autotypenumbers": "strict",
          "coloraxis": {
           "colorbar": {
            "outlinewidth": 0,
            "ticks": ""
           }
          },
          "colorscale": {
           "diverging": [
            [
             0,
             "#8e0152"
            ],
            [
             0.1,
             "#c51b7d"
            ],
            [
             0.2,
             "#de77ae"
            ],
            [
             0.3,
             "#f1b6da"
            ],
            [
             0.4,
             "#fde0ef"
            ],
            [
             0.5,
             "#f7f7f7"
            ],
            [
             0.6,
             "#e6f5d0"
            ],
            [
             0.7,
             "#b8e186"
            ],
            [
             0.8,
             "#7fbc41"
            ],
            [
             0.9,
             "#4d9221"
            ],
            [
             1,
             "#276419"
            ]
           ],
           "sequential": [
            [
             0,
             "#0d0887"
            ],
            [
             0.1111111111111111,
             "#46039f"
            ],
            [
             0.2222222222222222,
             "#7201a8"
            ],
            [
             0.3333333333333333,
             "#9c179e"
            ],
            [
             0.4444444444444444,
             "#bd3786"
            ],
            [
             0.5555555555555556,
             "#d8576b"
            ],
            [
             0.6666666666666666,
             "#ed7953"
            ],
            [
             0.7777777777777778,
             "#fb9f3a"
            ],
            [
             0.8888888888888888,
             "#fdca26"
            ],
            [
             1,
             "#f0f921"
            ]
           ],
           "sequentialminus": [
            [
             0,
             "#0d0887"
            ],
            [
             0.1111111111111111,
             "#46039f"
            ],
            [
             0.2222222222222222,
             "#7201a8"
            ],
            [
             0.3333333333333333,
             "#9c179e"
            ],
            [
             0.4444444444444444,
             "#bd3786"
            ],
            [
             0.5555555555555556,
             "#d8576b"
            ],
            [
             0.6666666666666666,
             "#ed7953"
            ],
            [
             0.7777777777777778,
             "#fb9f3a"
            ],
            [
             0.8888888888888888,
             "#fdca26"
            ],
            [
             1,
             "#f0f921"
            ]
           ]
          },
          "colorway": [
           "#636efa",
           "#EF553B",
           "#00cc96",
           "#ab63fa",
           "#FFA15A",
           "#19d3f3",
           "#FF6692",
           "#B6E880",
           "#FF97FF",
           "#FECB52"
          ],
          "font": {
           "color": "#2a3f5f"
          },
          "geo": {
           "bgcolor": "white",
           "lakecolor": "white",
           "landcolor": "#E5ECF6",
           "showlakes": true,
           "showland": true,
           "subunitcolor": "white"
          },
          "hoverlabel": {
           "align": "left"
          },
          "hovermode": "closest",
          "mapbox": {
           "style": "light"
          },
          "paper_bgcolor": "white",
          "plot_bgcolor": "#E5ECF6",
          "polar": {
           "angularaxis": {
            "gridcolor": "white",
            "linecolor": "white",
            "ticks": ""
           },
           "bgcolor": "#E5ECF6",
           "radialaxis": {
            "gridcolor": "white",
            "linecolor": "white",
            "ticks": ""
           }
          },
          "scene": {
           "xaxis": {
            "backgroundcolor": "#E5ECF6",
            "gridcolor": "white",
            "gridwidth": 2,
            "linecolor": "white",
            "showbackground": true,
            "ticks": "",
            "zerolinecolor": "white"
           },
           "yaxis": {
            "backgroundcolor": "#E5ECF6",
            "gridcolor": "white",
            "gridwidth": 2,
            "linecolor": "white",
            "showbackground": true,
            "ticks": "",
            "zerolinecolor": "white"
           },
           "zaxis": {
            "backgroundcolor": "#E5ECF6",
            "gridcolor": "white",
            "gridwidth": 2,
            "linecolor": "white",
            "showbackground": true,
            "ticks": "",
            "zerolinecolor": "white"
           }
          },
          "shapedefaults": {
           "line": {
            "color": "#2a3f5f"
           }
          },
          "ternary": {
           "aaxis": {
            "gridcolor": "white",
            "linecolor": "white",
            "ticks": ""
           },
           "baxis": {
            "gridcolor": "white",
            "linecolor": "white",
            "ticks": ""
           },
           "bgcolor": "#E5ECF6",
           "caxis": {
            "gridcolor": "white",
            "linecolor": "white",
            "ticks": ""
           }
          },
          "title": {
           "x": 0.05
          },
          "xaxis": {
           "automargin": true,
           "gridcolor": "white",
           "linecolor": "white",
           "ticks": "",
           "title": {
            "standoff": 15
           },
           "zerolinecolor": "white",
           "zerolinewidth": 2
          },
          "yaxis": {
           "automargin": true,
           "gridcolor": "white",
           "linecolor": "white",
           "ticks": "",
           "title": {
            "standoff": 15
           },
           "zerolinecolor": "white",
           "zerolinewidth": 2
          }
         }
        },
        "xaxis": {
         "anchor": "y",
         "domain": [
          0,
          1
         ],
         "title": {
          "text": "Ward"
         }
        },
        "yaxis": {
         "anchor": "x",
         "domain": [
          0,
          1
         ],
         "title": {
          "text": "count"
         }
        }
       }
      }
     },
     "metadata": {},
     "output_type": "display_data"
    }
   ],
   "source": [
    "fig = px.bar(new_df, x=\"Ward\", color=new_df[\"Traffic Level\"].astype(str))\n",
    "fig.show()"
   ]
  },
  {
   "cell_type": "code",
   "execution_count": 356,
   "id": "e9ef47ac",
   "metadata": {},
   "outputs": [
    {
     "data": {
      "application/vnd.plotly.v1+json": {
       "config": {
        "plotlyServerURL": "https://plot.ly"
       },
       "data": [
        {
         "alignmentgroup": "True",
         "hovertemplate": "Ward=%{x}<br>y=%{y}<extra></extra>",
         "legendgroup": "",
         "marker": {
          "color": "#636efa",
          "pattern": {
           "shape": ""
          }
         },
         "name": "",
         "offsetgroup": "",
         "orientation": "v",
         "showlegend": false,
         "textposition": "auto",
         "type": "bar",
         "x": [
          "Điện Biên",
          "Quán Thánh",
          "Trúc Bạch",
          "Nguyễn Trung Trực",
          "Ngọc Khánh",
          "Cống Vị",
          "Giảng Võ",
          "Kim Mã",
          "Liễu Giai",
          "Thành Công",
          "Phúc Xá",
          "Ngọc Hà",
          "Vĩnh Phúc",
          "Đội Cấn"
         ],
         "xaxis": "x",
         "y": [
          47,
          27,
          27,
          19,
          16,
          10,
          10,
          10,
          8,
          7,
          5,
          5,
          4,
          2
         ],
         "yaxis": "y"
        }
       ],
       "layout": {
        "barmode": "relative",
        "legend": {
         "tracegroupgap": 0
        },
        "margin": {
         "t": 60
        },
        "template": {
         "data": {
          "bar": [
           {
            "error_x": {
             "color": "#2a3f5f"
            },
            "error_y": {
             "color": "#2a3f5f"
            },
            "marker": {
             "line": {
              "color": "#E5ECF6",
              "width": 0.5
             },
             "pattern": {
              "fillmode": "overlay",
              "size": 10,
              "solidity": 0.2
             }
            },
            "type": "bar"
           }
          ],
          "barpolar": [
           {
            "marker": {
             "line": {
              "color": "#E5ECF6",
              "width": 0.5
             },
             "pattern": {
              "fillmode": "overlay",
              "size": 10,
              "solidity": 0.2
             }
            },
            "type": "barpolar"
           }
          ],
          "carpet": [
           {
            "aaxis": {
             "endlinecolor": "#2a3f5f",
             "gridcolor": "white",
             "linecolor": "white",
             "minorgridcolor": "white",
             "startlinecolor": "#2a3f5f"
            },
            "baxis": {
             "endlinecolor": "#2a3f5f",
             "gridcolor": "white",
             "linecolor": "white",
             "minorgridcolor": "white",
             "startlinecolor": "#2a3f5f"
            },
            "type": "carpet"
           }
          ],
          "choropleth": [
           {
            "colorbar": {
             "outlinewidth": 0,
             "ticks": ""
            },
            "type": "choropleth"
           }
          ],
          "contour": [
           {
            "colorbar": {
             "outlinewidth": 0,
             "ticks": ""
            },
            "colorscale": [
             [
              0,
              "#0d0887"
             ],
             [
              0.1111111111111111,
              "#46039f"
             ],
             [
              0.2222222222222222,
              "#7201a8"
             ],
             [
              0.3333333333333333,
              "#9c179e"
             ],
             [
              0.4444444444444444,
              "#bd3786"
             ],
             [
              0.5555555555555556,
              "#d8576b"
             ],
             [
              0.6666666666666666,
              "#ed7953"
             ],
             [
              0.7777777777777778,
              "#fb9f3a"
             ],
             [
              0.8888888888888888,
              "#fdca26"
             ],
             [
              1,
              "#f0f921"
             ]
            ],
            "type": "contour"
           }
          ],
          "contourcarpet": [
           {
            "colorbar": {
             "outlinewidth": 0,
             "ticks": ""
            },
            "type": "contourcarpet"
           }
          ],
          "heatmap": [
           {
            "colorbar": {
             "outlinewidth": 0,
             "ticks": ""
            },
            "colorscale": [
             [
              0,
              "#0d0887"
             ],
             [
              0.1111111111111111,
              "#46039f"
             ],
             [
              0.2222222222222222,
              "#7201a8"
             ],
             [
              0.3333333333333333,
              "#9c179e"
             ],
             [
              0.4444444444444444,
              "#bd3786"
             ],
             [
              0.5555555555555556,
              "#d8576b"
             ],
             [
              0.6666666666666666,
              "#ed7953"
             ],
             [
              0.7777777777777778,
              "#fb9f3a"
             ],
             [
              0.8888888888888888,
              "#fdca26"
             ],
             [
              1,
              "#f0f921"
             ]
            ],
            "type": "heatmap"
           }
          ],
          "heatmapgl": [
           {
            "colorbar": {
             "outlinewidth": 0,
             "ticks": ""
            },
            "colorscale": [
             [
              0,
              "#0d0887"
             ],
             [
              0.1111111111111111,
              "#46039f"
             ],
             [
              0.2222222222222222,
              "#7201a8"
             ],
             [
              0.3333333333333333,
              "#9c179e"
             ],
             [
              0.4444444444444444,
              "#bd3786"
             ],
             [
              0.5555555555555556,
              "#d8576b"
             ],
             [
              0.6666666666666666,
              "#ed7953"
             ],
             [
              0.7777777777777778,
              "#fb9f3a"
             ],
             [
              0.8888888888888888,
              "#fdca26"
             ],
             [
              1,
              "#f0f921"
             ]
            ],
            "type": "heatmapgl"
           }
          ],
          "histogram": [
           {
            "marker": {
             "pattern": {
              "fillmode": "overlay",
              "size": 10,
              "solidity": 0.2
             }
            },
            "type": "histogram"
           }
          ],
          "histogram2d": [
           {
            "colorbar": {
             "outlinewidth": 0,
             "ticks": ""
            },
            "colorscale": [
             [
              0,
              "#0d0887"
             ],
             [
              0.1111111111111111,
              "#46039f"
             ],
             [
              0.2222222222222222,
              "#7201a8"
             ],
             [
              0.3333333333333333,
              "#9c179e"
             ],
             [
              0.4444444444444444,
              "#bd3786"
             ],
             [
              0.5555555555555556,
              "#d8576b"
             ],
             [
              0.6666666666666666,
              "#ed7953"
             ],
             [
              0.7777777777777778,
              "#fb9f3a"
             ],
             [
              0.8888888888888888,
              "#fdca26"
             ],
             [
              1,
              "#f0f921"
             ]
            ],
            "type": "histogram2d"
           }
          ],
          "histogram2dcontour": [
           {
            "colorbar": {
             "outlinewidth": 0,
             "ticks": ""
            },
            "colorscale": [
             [
              0,
              "#0d0887"
             ],
             [
              0.1111111111111111,
              "#46039f"
             ],
             [
              0.2222222222222222,
              "#7201a8"
             ],
             [
              0.3333333333333333,
              "#9c179e"
             ],
             [
              0.4444444444444444,
              "#bd3786"
             ],
             [
              0.5555555555555556,
              "#d8576b"
             ],
             [
              0.6666666666666666,
              "#ed7953"
             ],
             [
              0.7777777777777778,
              "#fb9f3a"
             ],
             [
              0.8888888888888888,
              "#fdca26"
             ],
             [
              1,
              "#f0f921"
             ]
            ],
            "type": "histogram2dcontour"
           }
          ],
          "mesh3d": [
           {
            "colorbar": {
             "outlinewidth": 0,
             "ticks": ""
            },
            "type": "mesh3d"
           }
          ],
          "parcoords": [
           {
            "line": {
             "colorbar": {
              "outlinewidth": 0,
              "ticks": ""
             }
            },
            "type": "parcoords"
           }
          ],
          "pie": [
           {
            "automargin": true,
            "type": "pie"
           }
          ],
          "scatter": [
           {
            "fillpattern": {
             "fillmode": "overlay",
             "size": 10,
             "solidity": 0.2
            },
            "type": "scatter"
           }
          ],
          "scatter3d": [
           {
            "line": {
             "colorbar": {
              "outlinewidth": 0,
              "ticks": ""
             }
            },
            "marker": {
             "colorbar": {
              "outlinewidth": 0,
              "ticks": ""
             }
            },
            "type": "scatter3d"
           }
          ],
          "scattercarpet": [
           {
            "marker": {
             "colorbar": {
              "outlinewidth": 0,
              "ticks": ""
             }
            },
            "type": "scattercarpet"
           }
          ],
          "scattergeo": [
           {
            "marker": {
             "colorbar": {
              "outlinewidth": 0,
              "ticks": ""
             }
            },
            "type": "scattergeo"
           }
          ],
          "scattergl": [
           {
            "marker": {
             "colorbar": {
              "outlinewidth": 0,
              "ticks": ""
             }
            },
            "type": "scattergl"
           }
          ],
          "scattermapbox": [
           {
            "marker": {
             "colorbar": {
              "outlinewidth": 0,
              "ticks": ""
             }
            },
            "type": "scattermapbox"
           }
          ],
          "scatterpolar": [
           {
            "marker": {
             "colorbar": {
              "outlinewidth": 0,
              "ticks": ""
             }
            },
            "type": "scatterpolar"
           }
          ],
          "scatterpolargl": [
           {
            "marker": {
             "colorbar": {
              "outlinewidth": 0,
              "ticks": ""
             }
            },
            "type": "scatterpolargl"
           }
          ],
          "scatterternary": [
           {
            "marker": {
             "colorbar": {
              "outlinewidth": 0,
              "ticks": ""
             }
            },
            "type": "scatterternary"
           }
          ],
          "surface": [
           {
            "colorbar": {
             "outlinewidth": 0,
             "ticks": ""
            },
            "colorscale": [
             [
              0,
              "#0d0887"
             ],
             [
              0.1111111111111111,
              "#46039f"
             ],
             [
              0.2222222222222222,
              "#7201a8"
             ],
             [
              0.3333333333333333,
              "#9c179e"
             ],
             [
              0.4444444444444444,
              "#bd3786"
             ],
             [
              0.5555555555555556,
              "#d8576b"
             ],
             [
              0.6666666666666666,
              "#ed7953"
             ],
             [
              0.7777777777777778,
              "#fb9f3a"
             ],
             [
              0.8888888888888888,
              "#fdca26"
             ],
             [
              1,
              "#f0f921"
             ]
            ],
            "type": "surface"
           }
          ],
          "table": [
           {
            "cells": {
             "fill": {
              "color": "#EBF0F8"
             },
             "line": {
              "color": "white"
             }
            },
            "header": {
             "fill": {
              "color": "#C8D4E3"
             },
             "line": {
              "color": "white"
             }
            },
            "type": "table"
           }
          ]
         },
         "layout": {
          "annotationdefaults": {
           "arrowcolor": "#2a3f5f",
           "arrowhead": 0,
           "arrowwidth": 1
          },
          "autotypenumbers": "strict",
          "coloraxis": {
           "colorbar": {
            "outlinewidth": 0,
            "ticks": ""
           }
          },
          "colorscale": {
           "diverging": [
            [
             0,
             "#8e0152"
            ],
            [
             0.1,
             "#c51b7d"
            ],
            [
             0.2,
             "#de77ae"
            ],
            [
             0.3,
             "#f1b6da"
            ],
            [
             0.4,
             "#fde0ef"
            ],
            [
             0.5,
             "#f7f7f7"
            ],
            [
             0.6,
             "#e6f5d0"
            ],
            [
             0.7,
             "#b8e186"
            ],
            [
             0.8,
             "#7fbc41"
            ],
            [
             0.9,
             "#4d9221"
            ],
            [
             1,
             "#276419"
            ]
           ],
           "sequential": [
            [
             0,
             "#0d0887"
            ],
            [
             0.1111111111111111,
             "#46039f"
            ],
            [
             0.2222222222222222,
             "#7201a8"
            ],
            [
             0.3333333333333333,
             "#9c179e"
            ],
            [
             0.4444444444444444,
             "#bd3786"
            ],
            [
             0.5555555555555556,
             "#d8576b"
            ],
            [
             0.6666666666666666,
             "#ed7953"
            ],
            [
             0.7777777777777778,
             "#fb9f3a"
            ],
            [
             0.8888888888888888,
             "#fdca26"
            ],
            [
             1,
             "#f0f921"
            ]
           ],
           "sequentialminus": [
            [
             0,
             "#0d0887"
            ],
            [
             0.1111111111111111,
             "#46039f"
            ],
            [
             0.2222222222222222,
             "#7201a8"
            ],
            [
             0.3333333333333333,
             "#9c179e"
            ],
            [
             0.4444444444444444,
             "#bd3786"
            ],
            [
             0.5555555555555556,
             "#d8576b"
            ],
            [
             0.6666666666666666,
             "#ed7953"
            ],
            [
             0.7777777777777778,
             "#fb9f3a"
            ],
            [
             0.8888888888888888,
             "#fdca26"
            ],
            [
             1,
             "#f0f921"
            ]
           ]
          },
          "colorway": [
           "#636efa",
           "#EF553B",
           "#00cc96",
           "#ab63fa",
           "#FFA15A",
           "#19d3f3",
           "#FF6692",
           "#B6E880",
           "#FF97FF",
           "#FECB52"
          ],
          "font": {
           "color": "#2a3f5f"
          },
          "geo": {
           "bgcolor": "white",
           "lakecolor": "white",
           "landcolor": "#E5ECF6",
           "showlakes": true,
           "showland": true,
           "subunitcolor": "white"
          },
          "hoverlabel": {
           "align": "left"
          },
          "hovermode": "closest",
          "mapbox": {
           "style": "light"
          },
          "paper_bgcolor": "white",
          "plot_bgcolor": "#E5ECF6",
          "polar": {
           "angularaxis": {
            "gridcolor": "white",
            "linecolor": "white",
            "ticks": ""
           },
           "bgcolor": "#E5ECF6",
           "radialaxis": {
            "gridcolor": "white",
            "linecolor": "white",
            "ticks": ""
           }
          },
          "scene": {
           "xaxis": {
            "backgroundcolor": "#E5ECF6",
            "gridcolor": "white",
            "gridwidth": 2,
            "linecolor": "white",
            "showbackground": true,
            "ticks": "",
            "zerolinecolor": "white"
           },
           "yaxis": {
            "backgroundcolor": "#E5ECF6",
            "gridcolor": "white",
            "gridwidth": 2,
            "linecolor": "white",
            "showbackground": true,
            "ticks": "",
            "zerolinecolor": "white"
           },
           "zaxis": {
            "backgroundcolor": "#E5ECF6",
            "gridcolor": "white",
            "gridwidth": 2,
            "linecolor": "white",
            "showbackground": true,
            "ticks": "",
            "zerolinecolor": "white"
           }
          },
          "shapedefaults": {
           "line": {
            "color": "#2a3f5f"
           }
          },
          "ternary": {
           "aaxis": {
            "gridcolor": "white",
            "linecolor": "white",
            "ticks": ""
           },
           "baxis": {
            "gridcolor": "white",
            "linecolor": "white",
            "ticks": ""
           },
           "bgcolor": "#E5ECF6",
           "caxis": {
            "gridcolor": "white",
            "linecolor": "white",
            "ticks": ""
           }
          },
          "title": {
           "x": 0.05
          },
          "xaxis": {
           "automargin": true,
           "gridcolor": "white",
           "linecolor": "white",
           "ticks": "",
           "title": {
            "standoff": 15
           },
           "zerolinecolor": "white",
           "zerolinewidth": 2
          },
          "yaxis": {
           "automargin": true,
           "gridcolor": "white",
           "linecolor": "white",
           "ticks": "",
           "title": {
            "standoff": 15
           },
           "zerolinecolor": "white",
           "zerolinewidth": 2
          }
         }
        },
        "xaxis": {
         "anchor": "y",
         "domain": [
          0,
          1
         ],
         "title": {
          "text": "Ward"
         }
        },
        "yaxis": {
         "anchor": "x",
         "domain": [
          0,
          1
         ],
         "title": {
          "text": "y"
         }
        }
       }
      }
     },
     "metadata": {},
     "output_type": "display_data"
    }
   ],
   "source": [
    "#Count\n",
    "CountsTotal = []\n",
    "Ward_Count_Total = new_df['Ward'].value_counts()\n",
    "for i in range (0, len(Ward_Count_Total)): \n",
    "    CountsTotal.append(Ward_Count_Total[i])\n",
    "px.bar(Ward_Count_Total, y = CountsTotal)"
   ]
  },
  {
   "cell_type": "code",
   "execution_count": 357,
   "id": "ded5351d-31ab-42ec-8028-df61bb17f651",
   "metadata": {},
   "outputs": [
    {
     "data": {
      "text/html": [
       "<div>\n",
       "<style scoped>\n",
       "    .dataframe tbody tr th:only-of-type {\n",
       "        vertical-align: middle;\n",
       "    }\n",
       "\n",
       "    .dataframe tbody tr th {\n",
       "        vertical-align: top;\n",
       "    }\n",
       "\n",
       "    .dataframe thead th {\n",
       "        text-align: right;\n",
       "    }\n",
       "</style>\n",
       "<table border=\"1\" class=\"dataframe\">\n",
       "  <thead>\n",
       "    <tr style=\"text-align: right;\">\n",
       "      <th></th>\n",
       "      <th>Longitude</th>\n",
       "      <th>Latitude</th>\n",
       "      <th>Traffic Level</th>\n",
       "    </tr>\n",
       "  </thead>\n",
       "  <tbody>\n",
       "    <tr>\n",
       "      <th>0</th>\n",
       "      <td>21.046224</td>\n",
       "      <td>105.849289</td>\n",
       "      <td>1</td>\n",
       "    </tr>\n",
       "    <tr>\n",
       "      <th>1</th>\n",
       "      <td>21.042412</td>\n",
       "      <td>105.852127</td>\n",
       "      <td>1</td>\n",
       "    </tr>\n",
       "    <tr>\n",
       "      <th>2</th>\n",
       "      <td>21.046067</td>\n",
       "      <td>105.849022</td>\n",
       "      <td>1</td>\n",
       "    </tr>\n",
       "    <tr>\n",
       "      <th>3</th>\n",
       "      <td>21.034974</td>\n",
       "      <td>105.835874</td>\n",
       "      <td>1</td>\n",
       "    </tr>\n",
       "    <tr>\n",
       "      <th>4</th>\n",
       "      <td>21.033849</td>\n",
       "      <td>105.835607</td>\n",
       "      <td>2</td>\n",
       "    </tr>\n",
       "    <tr>\n",
       "      <th>5</th>\n",
       "      <td>21.035962</td>\n",
       "      <td>105.839265</td>\n",
       "      <td>1</td>\n",
       "    </tr>\n",
       "    <tr>\n",
       "      <th>6</th>\n",
       "      <td>21.035980</td>\n",
       "      <td>105.838074</td>\n",
       "      <td>1</td>\n",
       "    </tr>\n",
       "    <tr>\n",
       "      <th>7</th>\n",
       "      <td>21.036582</td>\n",
       "      <td>105.836578</td>\n",
       "      <td>1</td>\n",
       "    </tr>\n",
       "    <tr>\n",
       "      <th>8</th>\n",
       "      <td>21.037553</td>\n",
       "      <td>105.831080</td>\n",
       "      <td>1</td>\n",
       "    </tr>\n",
       "    <tr>\n",
       "      <th>9</th>\n",
       "      <td>21.037688</td>\n",
       "      <td>105.807348</td>\n",
       "      <td>3</td>\n",
       "    </tr>\n",
       "  </tbody>\n",
       "</table>\n",
       "</div>"
      ],
      "text/plain": [
       "   Longitude    Latitude  Traffic Level\n",
       "0  21.046224  105.849289              1\n",
       "1  21.042412  105.852127              1\n",
       "2  21.046067  105.849022              1\n",
       "3  21.034974  105.835874              1\n",
       "4  21.033849  105.835607              2\n",
       "5  21.035962  105.839265              1\n",
       "6  21.035980  105.838074              1\n",
       "7  21.036582  105.836578              1\n",
       "8  21.037553  105.831080              1\n",
       "9  21.037688  105.807348              3"
      ]
     },
     "execution_count": 357,
     "metadata": {},
     "output_type": "execute_result"
    }
   ],
   "source": [
    "#Cordinates and Traffic Level\n",
    "main = new_df.iloc[:,[7,8,9]]\n",
    "main.head(10)"
   ]
  },
  {
   "cell_type": "code",
   "execution_count": 358,
   "id": "b7f08fc0-0b74-45fa-8a30-ee175eb305fe",
   "metadata": {},
   "outputs": [
    {
     "data": {
      "text/html": [
       "<div>\n",
       "<style scoped>\n",
       "    .dataframe tbody tr th:only-of-type {\n",
       "        vertical-align: middle;\n",
       "    }\n",
       "\n",
       "    .dataframe tbody tr th {\n",
       "        vertical-align: top;\n",
       "    }\n",
       "\n",
       "    .dataframe thead th {\n",
       "        text-align: right;\n",
       "    }\n",
       "</style>\n",
       "<table border=\"1\" class=\"dataframe\">\n",
       "  <thead>\n",
       "    <tr style=\"text-align: right;\">\n",
       "      <th></th>\n",
       "      <th>Longitude</th>\n",
       "      <th>Latitude</th>\n",
       "    </tr>\n",
       "  </thead>\n",
       "  <tbody>\n",
       "    <tr>\n",
       "      <th>0</th>\n",
       "      <td>21.046224</td>\n",
       "      <td>105.849289</td>\n",
       "    </tr>\n",
       "    <tr>\n",
       "      <th>1</th>\n",
       "      <td>21.042412</td>\n",
       "      <td>105.852127</td>\n",
       "    </tr>\n",
       "    <tr>\n",
       "      <th>2</th>\n",
       "      <td>21.046067</td>\n",
       "      <td>105.849022</td>\n",
       "    </tr>\n",
       "    <tr>\n",
       "      <th>3</th>\n",
       "      <td>21.034974</td>\n",
       "      <td>105.835874</td>\n",
       "    </tr>\n",
       "    <tr>\n",
       "      <th>5</th>\n",
       "      <td>21.035962</td>\n",
       "      <td>105.839265</td>\n",
       "    </tr>\n",
       "    <tr>\n",
       "      <th>6</th>\n",
       "      <td>21.035980</td>\n",
       "      <td>105.838074</td>\n",
       "    </tr>\n",
       "    <tr>\n",
       "      <th>7</th>\n",
       "      <td>21.036582</td>\n",
       "      <td>105.836578</td>\n",
       "    </tr>\n",
       "    <tr>\n",
       "      <th>8</th>\n",
       "      <td>21.037553</td>\n",
       "      <td>105.831080</td>\n",
       "    </tr>\n",
       "    <tr>\n",
       "      <th>20</th>\n",
       "      <td>21.042534</td>\n",
       "      <td>105.841838</td>\n",
       "    </tr>\n",
       "    <tr>\n",
       "      <th>21</th>\n",
       "      <td>21.043551</td>\n",
       "      <td>105.842065</td>\n",
       "    </tr>\n",
       "  </tbody>\n",
       "</table>\n",
       "</div>"
      ],
      "text/plain": [
       "    Longitude    Latitude\n",
       "0   21.046224  105.849289\n",
       "1   21.042412  105.852127\n",
       "2   21.046067  105.849022\n",
       "3   21.034974  105.835874\n",
       "5   21.035962  105.839265\n",
       "6   21.035980  105.838074\n",
       "7   21.036582  105.836578\n",
       "8   21.037553  105.831080\n",
       "20  21.042534  105.841838\n",
       "21  21.043551  105.842065"
      ]
     },
     "execution_count": 358,
     "metadata": {},
     "output_type": "execute_result"
    }
   ],
   "source": [
    "#Cordinates for Traffic Level 1 \n",
    "TF_1 = main[main['Traffic Level'] == 1].iloc[:,[0,1]]\n",
    "TF_1.head(10)"
   ]
  },
  {
   "cell_type": "code",
   "execution_count": 359,
   "id": "9821aaf0-4e60-4466-bba1-a1f55684435f",
   "metadata": {
    "tags": []
   },
   "outputs": [
    {
     "data": {
      "text/html": [
       "<div>\n",
       "<style scoped>\n",
       "    .dataframe tbody tr th:only-of-type {\n",
       "        vertical-align: middle;\n",
       "    }\n",
       "\n",
       "    .dataframe tbody tr th {\n",
       "        vertical-align: top;\n",
       "    }\n",
       "\n",
       "    .dataframe thead th {\n",
       "        text-align: right;\n",
       "    }\n",
       "</style>\n",
       "<table border=\"1\" class=\"dataframe\">\n",
       "  <thead>\n",
       "    <tr style=\"text-align: right;\">\n",
       "      <th></th>\n",
       "      <th>Longitude</th>\n",
       "      <th>Latitude</th>\n",
       "    </tr>\n",
       "  </thead>\n",
       "  <tbody>\n",
       "    <tr>\n",
       "      <th>4</th>\n",
       "      <td>21.033849</td>\n",
       "      <td>105.835607</td>\n",
       "    </tr>\n",
       "    <tr>\n",
       "      <th>10</th>\n",
       "      <td>21.036802</td>\n",
       "      <td>105.806949</td>\n",
       "    </tr>\n",
       "    <tr>\n",
       "      <th>14</th>\n",
       "      <td>21.030388</td>\n",
       "      <td>105.838591</td>\n",
       "    </tr>\n",
       "    <tr>\n",
       "      <th>15</th>\n",
       "      <td>21.029578</td>\n",
       "      <td>105.841557</td>\n",
       "    </tr>\n",
       "    <tr>\n",
       "      <th>16</th>\n",
       "      <td>21.030178</td>\n",
       "      <td>105.836997</td>\n",
       "    </tr>\n",
       "    <tr>\n",
       "      <th>18</th>\n",
       "      <td>21.028600</td>\n",
       "      <td>105.805231</td>\n",
       "    </tr>\n",
       "    <tr>\n",
       "      <th>19</th>\n",
       "      <td>21.028430</td>\n",
       "      <td>105.805509</td>\n",
       "    </tr>\n",
       "    <tr>\n",
       "      <th>25</th>\n",
       "      <td>21.034975</td>\n",
       "      <td>105.836843</td>\n",
       "    </tr>\n",
       "    <tr>\n",
       "      <th>26</th>\n",
       "      <td>21.033652</td>\n",
       "      <td>105.836641</td>\n",
       "    </tr>\n",
       "    <tr>\n",
       "      <th>33</th>\n",
       "      <td>21.040651</td>\n",
       "      <td>105.842084</td>\n",
       "    </tr>\n",
       "  </tbody>\n",
       "</table>\n",
       "</div>"
      ],
      "text/plain": [
       "    Longitude    Latitude\n",
       "4   21.033849  105.835607\n",
       "10  21.036802  105.806949\n",
       "14  21.030388  105.838591\n",
       "15  21.029578  105.841557\n",
       "16  21.030178  105.836997\n",
       "18  21.028600  105.805231\n",
       "19  21.028430  105.805509\n",
       "25  21.034975  105.836843\n",
       "26  21.033652  105.836641\n",
       "33  21.040651  105.842084"
      ]
     },
     "execution_count": 359,
     "metadata": {},
     "output_type": "execute_result"
    }
   ],
   "source": [
    "#Cordinates for Traffic Level 2\n",
    "TF_2 = main[main['Traffic Level'] == 2].iloc[:,[0,1]]\n",
    "TF_2.head(10)"
   ]
  },
  {
   "cell_type": "code",
   "execution_count": 360,
   "id": "ac0aa9c9-b758-4f82-8e74-e4d571330137",
   "metadata": {
    "tags": []
   },
   "outputs": [
    {
     "data": {
      "text/html": [
       "<div>\n",
       "<style scoped>\n",
       "    .dataframe tbody tr th:only-of-type {\n",
       "        vertical-align: middle;\n",
       "    }\n",
       "\n",
       "    .dataframe tbody tr th {\n",
       "        vertical-align: top;\n",
       "    }\n",
       "\n",
       "    .dataframe thead th {\n",
       "        text-align: right;\n",
       "    }\n",
       "</style>\n",
       "<table border=\"1\" class=\"dataframe\">\n",
       "  <thead>\n",
       "    <tr style=\"text-align: right;\">\n",
       "      <th></th>\n",
       "      <th>Longitude</th>\n",
       "      <th>Latitude</th>\n",
       "    </tr>\n",
       "  </thead>\n",
       "  <tbody>\n",
       "    <tr>\n",
       "      <th>9</th>\n",
       "      <td>21.037688</td>\n",
       "      <td>105.807348</td>\n",
       "    </tr>\n",
       "    <tr>\n",
       "      <th>11</th>\n",
       "      <td>21.034335</td>\n",
       "      <td>105.805245</td>\n",
       "    </tr>\n",
       "    <tr>\n",
       "      <th>12</th>\n",
       "      <td>21.029744</td>\n",
       "      <td>105.802636</td>\n",
       "    </tr>\n",
       "    <tr>\n",
       "      <th>13</th>\n",
       "      <td>21.047508</td>\n",
       "      <td>105.806128</td>\n",
       "    </tr>\n",
       "    <tr>\n",
       "      <th>27</th>\n",
       "      <td>21.031582</td>\n",
       "      <td>105.836236</td>\n",
       "    </tr>\n",
       "    <tr>\n",
       "      <th>28</th>\n",
       "      <td>21.030390</td>\n",
       "      <td>105.836007</td>\n",
       "    </tr>\n",
       "    <tr>\n",
       "      <th>38</th>\n",
       "      <td>21.045600</td>\n",
       "      <td>105.843339</td>\n",
       "    </tr>\n",
       "    <tr>\n",
       "      <th>44</th>\n",
       "      <td>21.032382</td>\n",
       "      <td>105.809576</td>\n",
       "    </tr>\n",
       "    <tr>\n",
       "      <th>48</th>\n",
       "      <td>21.030593</td>\n",
       "      <td>105.815841</td>\n",
       "    </tr>\n",
       "    <tr>\n",
       "      <th>49</th>\n",
       "      <td>21.023419</td>\n",
       "      <td>105.819744</td>\n",
       "    </tr>\n",
       "    <tr>\n",
       "      <th>52</th>\n",
       "      <td>21.025028</td>\n",
       "      <td>105.811353</td>\n",
       "    </tr>\n",
       "    <tr>\n",
       "      <th>53</th>\n",
       "      <td>21.024753</td>\n",
       "      <td>105.811542</td>\n",
       "    </tr>\n",
       "    <tr>\n",
       "      <th>54</th>\n",
       "      <td>21.023892</td>\n",
       "      <td>105.816397</td>\n",
       "    </tr>\n",
       "    <tr>\n",
       "      <th>56</th>\n",
       "      <td>21.029268</td>\n",
       "      <td>105.842539</td>\n",
       "    </tr>\n",
       "    <tr>\n",
       "      <th>57</th>\n",
       "      <td>21.029943</td>\n",
       "      <td>105.841645</td>\n",
       "    </tr>\n",
       "    <tr>\n",
       "      <th>58</th>\n",
       "      <td>21.030650</td>\n",
       "      <td>105.841138</td>\n",
       "    </tr>\n",
       "    <tr>\n",
       "      <th>61</th>\n",
       "      <td>21.033316</td>\n",
       "      <td>105.838517</td>\n",
       "    </tr>\n",
       "    <tr>\n",
       "      <th>67</th>\n",
       "      <td>21.037977</td>\n",
       "      <td>105.813382</td>\n",
       "    </tr>\n",
       "    <tr>\n",
       "      <th>72</th>\n",
       "      <td>21.037806</td>\n",
       "      <td>105.810512</td>\n",
       "    </tr>\n",
       "    <tr>\n",
       "      <th>73</th>\n",
       "      <td>21.034370</td>\n",
       "      <td>105.831691</td>\n",
       "    </tr>\n",
       "    <tr>\n",
       "      <th>75</th>\n",
       "      <td>21.035549</td>\n",
       "      <td>105.817837</td>\n",
       "    </tr>\n",
       "    <tr>\n",
       "      <th>76</th>\n",
       "      <td>21.037077</td>\n",
       "      <td>105.815192</td>\n",
       "    </tr>\n",
       "    <tr>\n",
       "      <th>77</th>\n",
       "      <td>21.037339</td>\n",
       "      <td>105.814822</td>\n",
       "    </tr>\n",
       "    <tr>\n",
       "      <th>82</th>\n",
       "      <td>21.029649</td>\n",
       "      <td>105.827205</td>\n",
       "    </tr>\n",
       "    <tr>\n",
       "      <th>97</th>\n",
       "      <td>21.040270</td>\n",
       "      <td>105.847122</td>\n",
       "    </tr>\n",
       "    <tr>\n",
       "      <th>98</th>\n",
       "      <td>21.039903</td>\n",
       "      <td>105.847135</td>\n",
       "    </tr>\n",
       "    <tr>\n",
       "      <th>108</th>\n",
       "      <td>21.043650</td>\n",
       "      <td>105.847180</td>\n",
       "    </tr>\n",
       "    <tr>\n",
       "      <th>120</th>\n",
       "      <td>21.041846</td>\n",
       "      <td>105.835080</td>\n",
       "    </tr>\n",
       "    <tr>\n",
       "      <th>133</th>\n",
       "      <td>21.040059</td>\n",
       "      <td>105.845352</td>\n",
       "    </tr>\n",
       "    <tr>\n",
       "      <th>141</th>\n",
       "      <td>21.042687</td>\n",
       "      <td>105.836402</td>\n",
       "    </tr>\n",
       "    <tr>\n",
       "      <th>143</th>\n",
       "      <td>21.032001</td>\n",
       "      <td>105.834192</td>\n",
       "    </tr>\n",
       "    <tr>\n",
       "      <th>146</th>\n",
       "      <td>21.018159</td>\n",
       "      <td>105.811810</td>\n",
       "    </tr>\n",
       "    <tr>\n",
       "      <th>147</th>\n",
       "      <td>21.019851</td>\n",
       "      <td>105.808448</td>\n",
       "    </tr>\n",
       "    <tr>\n",
       "      <th>148</th>\n",
       "      <td>21.016867</td>\n",
       "      <td>105.814942</td>\n",
       "    </tr>\n",
       "    <tr>\n",
       "      <th>151</th>\n",
       "      <td>21.031178</td>\n",
       "      <td>105.821698</td>\n",
       "    </tr>\n",
       "    <tr>\n",
       "      <th>157</th>\n",
       "      <td>21.030753</td>\n",
       "      <td>105.817272</td>\n",
       "    </tr>\n",
       "    <tr>\n",
       "      <th>162</th>\n",
       "      <td>21.030350</td>\n",
       "      <td>105.813100</td>\n",
       "    </tr>\n",
       "    <tr>\n",
       "      <th>163</th>\n",
       "      <td>21.036139</td>\n",
       "      <td>105.810572</td>\n",
       "    </tr>\n",
       "    <tr>\n",
       "      <th>164</th>\n",
       "      <td>21.035724</td>\n",
       "      <td>105.814386</td>\n",
       "    </tr>\n",
       "    <tr>\n",
       "      <th>172</th>\n",
       "      <td>21.028851</td>\n",
       "      <td>105.841527</td>\n",
       "    </tr>\n",
       "    <tr>\n",
       "      <th>183</th>\n",
       "      <td>21.032189</td>\n",
       "      <td>105.833159</td>\n",
       "    </tr>\n",
       "    <tr>\n",
       "      <th>189</th>\n",
       "      <td>21.033896</td>\n",
       "      <td>105.814029</td>\n",
       "    </tr>\n",
       "    <tr>\n",
       "      <th>194</th>\n",
       "      <td>21.034866</td>\n",
       "      <td>105.810359</td>\n",
       "    </tr>\n",
       "    <tr>\n",
       "      <th>225</th>\n",
       "      <td>21.025275</td>\n",
       "      <td>105.811511</td>\n",
       "    </tr>\n",
       "    <tr>\n",
       "      <th>229</th>\n",
       "      <td>21.026312</td>\n",
       "      <td>105.811716</td>\n",
       "    </tr>\n",
       "    <tr>\n",
       "      <th>275</th>\n",
       "      <td>21.034492</td>\n",
       "      <td>105.811661</td>\n",
       "    </tr>\n",
       "    <tr>\n",
       "      <th>311</th>\n",
       "      <td>21.049900</td>\n",
       "      <td>105.839279</td>\n",
       "    </tr>\n",
       "  </tbody>\n",
       "</table>\n",
       "</div>"
      ],
      "text/plain": [
       "     Longitude    Latitude\n",
       "9    21.037688  105.807348\n",
       "11   21.034335  105.805245\n",
       "12   21.029744  105.802636\n",
       "13   21.047508  105.806128\n",
       "27   21.031582  105.836236\n",
       "28   21.030390  105.836007\n",
       "38   21.045600  105.843339\n",
       "44   21.032382  105.809576\n",
       "48   21.030593  105.815841\n",
       "49   21.023419  105.819744\n",
       "52   21.025028  105.811353\n",
       "53   21.024753  105.811542\n",
       "54   21.023892  105.816397\n",
       "56   21.029268  105.842539\n",
       "57   21.029943  105.841645\n",
       "58   21.030650  105.841138\n",
       "61   21.033316  105.838517\n",
       "67   21.037977  105.813382\n",
       "72   21.037806  105.810512\n",
       "73   21.034370  105.831691\n",
       "75   21.035549  105.817837\n",
       "76   21.037077  105.815192\n",
       "77   21.037339  105.814822\n",
       "82   21.029649  105.827205\n",
       "97   21.040270  105.847122\n",
       "98   21.039903  105.847135\n",
       "108  21.043650  105.847180\n",
       "120  21.041846  105.835080\n",
       "133  21.040059  105.845352\n",
       "141  21.042687  105.836402\n",
       "143  21.032001  105.834192\n",
       "146  21.018159  105.811810\n",
       "147  21.019851  105.808448\n",
       "148  21.016867  105.814942\n",
       "151  21.031178  105.821698\n",
       "157  21.030753  105.817272\n",
       "162  21.030350  105.813100\n",
       "163  21.036139  105.810572\n",
       "164  21.035724  105.814386\n",
       "172  21.028851  105.841527\n",
       "183  21.032189  105.833159\n",
       "189  21.033896  105.814029\n",
       "194  21.034866  105.810359\n",
       "225  21.025275  105.811511\n",
       "229  21.026312  105.811716\n",
       "275  21.034492  105.811661\n",
       "311  21.049900  105.839279"
      ]
     },
     "execution_count": 360,
     "metadata": {},
     "output_type": "execute_result"
    }
   ],
   "source": [
    "#Cordinates for Traffic Level 3\n",
    "TF_3 = main[main['Traffic Level'] == 3].iloc[:,[0,1]]\n",
    "TF_3"
   ]
  },
  {
   "cell_type": "code",
   "execution_count": 361,
   "id": "f8c24e40-cf91-443b-a7d2-5513b7eca10c",
   "metadata": {
    "tags": []
   },
   "outputs": [],
   "source": [
    "#DATA CLEAN"
   ]
  },
  {
   "cell_type": "code",
   "execution_count": 362,
   "id": "37a1b750-8c5e-4a42-be3b-48416d26ec3f",
   "metadata": {},
   "outputs": [],
   "source": [
    "#Defining Models and Clusters\\\n",
    "cluster1 = TF_1.to_numpy()\n",
    "cluster2 = TF_2.to_numpy()\n",
    "cluster3 = TF_3.to_numpy()"
   ]
  },
  {
   "cell_type": "markdown",
   "id": "e4e290ab-ff67-4ec4-baf0-85e297de3ee9",
   "metadata": {
    "tags": []
   },
   "source": [
    "#Training Model for Traffic Level 1\n",
    "model1 = DBSCAN(0.005,min_samples=5).fit(cluster1)\n",
    "TF_1['labs'] = model1.labels_\n",
    "print((TF_1['labs']).value_counts())\n",
    "score1 = ss(cluster1, TF_1['labs'])\n",
    "score1"
   ]
  },
  {
   "cell_type": "markdown",
   "id": "9196024d-819f-42d9-9728-c8d3ea43e389",
   "metadata": {
    "tags": []
   },
   "source": [
    "after_fig1 = px.scatter(TF_1, \n",
    "                        y = \"Latitude\",\n",
    "                        x = \"Longitude\", \n",
    "                        color=TF_1['labs'].astype(str),\n",
    "                        labels={\"color\" : \"Group\"},\n",
    "                      ) #Default eps, min\n",
    "after_fig1.update_layout(\n",
    "            title={\n",
    "            'text' : \"Area with low traffic\",\n",
    "            'x':0.5,\n",
    "            'xanchor': 'center',\n",
    "        })\n",
    "after_fig1"
   ]
  },
  {
   "cell_type": "markdown",
   "id": "67ee8251-dad5-4b87-b583-01cec9c224dd",
   "metadata": {
    "tags": []
   },
   "source": [
    "#Training Model for Traffic Level 2\n",
    "model2 = DBSCAN(0.005, min_samples=5).fit(cluster2)\n",
    "TF_2['labs'] = model2.labels_\n",
    "TF_2['labs'].value_counts()\n",
    "#score2 = ss(cluster2, TF_2['labs'])"
   ]
  },
  {
   "cell_type": "markdown",
   "id": "ef202984-9dc5-42ab-83aa-d80f280b7a6f",
   "metadata": {
    "tags": []
   },
   "source": [
    "after_fig2 = px.scatter(TF_2,\n",
    "                        y = \"Latitude\" , \n",
    "                        x = \"Longitude\", \n",
    "                        color=TF_2['labs'].astype(str),\n",
    "                        )\n",
    "after_fig2.update_layout(\n",
    "            title={\n",
    "            'text' : \"Area with moderate traffic\",\n",
    "            'x':0.5,\n",
    "            'xanchor': 'center',\n",
    "        })\n",
    "after_fig2"
   ]
  },
  {
   "cell_type": "markdown",
   "id": "b5865645-0785-4415-b100-0e67d4ed474f",
   "metadata": {
    "tags": []
   },
   "source": [
    "#Training Model for Traffic Level 3\n",
    "model3 = DBSCAN(0.005,min_samples=5).fit(cluster3) \n",
    "TF_3['labs']= model3.labels_\n",
    "TF_3['labs'].value_counts()\n",
    "#score3 = ss(cluster3, TF_3['labs'])"
   ]
  },
  {
   "cell_type": "markdown",
   "id": "e001ecb0-69fd-4ef7-a348-4170b7a06486",
   "metadata": {
    "tags": []
   },
   "source": [
    "after_fig3 = px.scatter(TF_3, \n",
    "                        y = \"Latitude\",\n",
    "                        x = \"Longitude\", \n",
    "                        color=TF_3['labs'].astype(str))\n",
    "after_fig3.update_layout(\n",
    "            title={\n",
    "            'text' : \"Area with highly-condensed traffic\",\n",
    "            'x':0.5,\n",
    "            'xanchor': 'center',\n",
    "        })\n",
    "after_fig3"
   ]
  },
  {
   "cell_type": "code",
   "execution_count": 405,
   "id": "ff53fe95-9e79-4154-8dc4-91d07ec6a3f5",
   "metadata": {
    "tags": []
   },
   "outputs": [
    {
     "data": {
      "text/plain": [
       "8000"
      ]
     },
     "execution_count": 405,
     "metadata": {},
     "output_type": "execute_result"
    }
   ],
   "source": [
    "#Range of Parameters\n",
    "#epsilon = [0.0005,0.0006,0.0007,0.0008,0.0009,0.001,0.0011,0.0012,0.0013,0.0014,0.0015,0.0016,0.0017,0.0018,0.0019,0.002,0.0021,0.0022,0.0023,0.0024,0.0025,0.0026,0.0027,0.0028,0.0029,0.003,0.0031,0.0032,0.0033,0.0034,0.0035,0.0036,0.0037,0.0038,0.0039,0.004]\n",
    "epsilon = np.linspace(0.0001, 0.01, num=1000).tolist()\n",
    "min_samples = [3,4,5,6,7,8,9,10]\n",
    "combinations = list(it.product(epsilon, min_samples))\n",
    "len(combinations)"
   ]
  },
  {
   "cell_type": "code",
   "execution_count": 427,
   "id": "f10a7c6c-01e3-4f4a-8692-2a4515478e61",
   "metadata": {},
   "outputs": [],
   "source": [
    "#Case 2: Using mupitle functions to get the best score\n",
    "def getScore1(combinations):\n",
    "    loop_count = 1\n",
    "    #Loop through parameters from combinations\n",
    "    for i, (epsilon, min_samples) in enumerate(combinations):\n",
    "        #Fit model\n",
    "        model1 = DBSCAN(eps = epsilon, min_samples = min_samples).fit(cluster1)\n",
    "        #Get lables\n",
    "        TF_1['labs'] = model1.labels_\n",
    "        num_clus = len(TF_1['labs'].value_counts()) \n",
    "        #Get scores\n",
    "        if num_clus > 2:\n",
    "            score = ss(cluster1, TF_1['labs'])\n",
    "            if score > 0.4 and num_clus>3: \n",
    "                print(\"Loop number:\",loop_count,\"| Parameters:\", epsilon,\",\", min_samples,\"| Score for Trafic Level 1:\", score,\"| Number of clusters:\", num_clus)\n",
    "        loop_count += 1\n",
    "def getScore2(combinations):\n",
    "    loop_count = 1\n",
    "    #Loop through parameters from combinations\n",
    "    for i, (epsilon, min_samples) in enumerate(combinations):\n",
    "        #Fit model\n",
    "        model2 = DBSCAN(eps = epsilon, min_samples = min_samples).fit(cluster2)\n",
    "        #Get lables\n",
    "        TF_2['labs'] = model2.labels_\n",
    "        num_clus = len(TF_2['labs'].value_counts()) \n",
    "        #Get scores\n",
    "        if num_clus > 2:\n",
    "            score = ss(cluster2, TF_2['labs']) \n",
    "            if score > 0.4568 and num_clus > 3:\n",
    "                print(\"Loop number:\",loop_count,\"| Parameters:\", epsilon,\",\", min_samples,\"| Score for Trafic Level 2:\", score,\"| Number of clusters:\", num_clus)\n",
    "        loop_count += 1\n",
    "def getScore3(combinations):\n",
    "    loop_count = 1\n",
    "    #Loop through parameters from combinations\n",
    "    for i, (epsilon, min_samples) in enumerate(combinations):\n",
    "        #Fit model\n",
    "        model3 = DBSCAN(eps = epsilon, min_samples = min_samples).fit(cluster3)\n",
    "        #Get lables\n",
    "        TF_3['labs'] = model3.labels_\n",
    "        num_clus = len(TF_3['labs'].value_counts()) \n",
    "        #Get scores\n",
    "        if num_clus > 2:\n",
    "            score = ss(cluster3, TF_3['labs']) \n",
    "            if score > 0.5 and num_clus > 3:\n",
    "                print(\"Loop number:\",loop_count,\"| Parameters:\", epsilon,\",\", min_samples,\"| Score for Trafic Level 3:\", score,\"| Number of clusters:\", num_clus)\n",
    "        loop_count += 1"
   ]
  },
  {
   "cell_type": "code",
   "execution_count": 413,
   "id": "802a0324",
   "metadata": {},
   "outputs": [
    {
     "name": "stdout",
     "output_type": "stream",
     "text": [
      "Loop number: 2157 | Parameters: 0.002765765765765766 , 7 | Score for Trafic Level 1: 0.4016969495894111 | Number of clusters: 4\n",
      "Loop number: 2165 | Parameters: 0.0027756756756756756 , 7 | Score for Trafic Level 1: 0.4016969495894111 | Number of clusters: 4\n",
      "Loop number: 2173 | Parameters: 0.0027855855855855854 , 7 | Score for Trafic Level 1: 0.4016969495894111 | Number of clusters: 4\n",
      "Loop number: 2181 | Parameters: 0.002795495495495495 , 7 | Score for Trafic Level 1: 0.4016969495894111 | Number of clusters: 4\n",
      "Loop number: 2189 | Parameters: 0.0028054054054054054 , 7 | Score for Trafic Level 1: 0.4016969495894111 | Number of clusters: 4\n",
      "Loop number: 2197 | Parameters: 0.002815315315315315 , 7 | Score for Trafic Level 1: 0.4016969495894111 | Number of clusters: 4\n",
      "Loop number: 2205 | Parameters: 0.002825225225225225 , 7 | Score for Trafic Level 1: 0.4016969495894111 | Number of clusters: 4\n",
      "Loop number: 2213 | Parameters: 0.0028351351351351348 , 7 | Score for Trafic Level 1: 0.4016969495894111 | Number of clusters: 4\n",
      "Loop number: 2221 | Parameters: 0.002845045045045045 , 7 | Score for Trafic Level 1: 0.4016969495894111 | Number of clusters: 4\n",
      "Loop number: 2229 | Parameters: 0.0028549549549549548 , 7 | Score for Trafic Level 1: 0.4016969495894111 | Number of clusters: 4\n",
      "Loop number: 2237 | Parameters: 0.0028648648648648646 , 7 | Score for Trafic Level 1: 0.4016969495894111 | Number of clusters: 4\n",
      "Loop number: 2245 | Parameters: 0.002874774774774775 , 7 | Score for Trafic Level 1: 0.4016969495894111 | Number of clusters: 4\n",
      "Loop number: 2253 | Parameters: 0.0028846846846846846 , 7 | Score for Trafic Level 1: 0.4016969495894111 | Number of clusters: 4\n",
      "Loop number: 2261 | Parameters: 0.0028945945945945944 , 7 | Score for Trafic Level 1: 0.4016969495894111 | Number of clusters: 4\n",
      "Loop number: 2269 | Parameters: 0.002904504504504504 , 7 | Score for Trafic Level 1: 0.4016969495894111 | Number of clusters: 4\n",
      "Loop number: 2277 | Parameters: 0.0029144144144144144 , 7 | Score for Trafic Level 1: 0.4016969495894111 | Number of clusters: 4\n",
      "Loop number: 2285 | Parameters: 0.002924324324324324 , 7 | Score for Trafic Level 1: 0.4070910531898813 | Number of clusters: 4\n",
      "Loop number: 2293 | Parameters: 0.002934234234234234 , 7 | Score for Trafic Level 1: 0.4070910531898813 | Number of clusters: 4\n",
      "Loop number: 2301 | Parameters: 0.0029441441441441438 , 7 | Score for Trafic Level 1: 0.4070910531898813 | Number of clusters: 4\n",
      "Loop number: 2309 | Parameters: 0.002954054054054054 , 7 | Score for Trafic Level 1: 0.4070910531898813 | Number of clusters: 4\n",
      "Loop number: 2317 | Parameters: 0.002963963963963964 , 7 | Score for Trafic Level 1: 0.41488584456394306 | Number of clusters: 4\n",
      "Loop number: 2325 | Parameters: 0.0029738738738738736 , 7 | Score for Trafic Level 1: 0.41488584456394306 | Number of clusters: 4\n",
      "Loop number: 2333 | Parameters: 0.002983783783783784 , 7 | Score for Trafic Level 1: 0.41488584456394306 | Number of clusters: 4\n"
     ]
    }
   ],
   "source": [
    "getScore1(combinations)"
   ]
  },
  {
   "cell_type": "code",
   "execution_count": 428,
   "id": "b66d7175",
   "metadata": {},
   "outputs": [
    {
     "name": "stdout",
     "output_type": "stream",
     "text": [
      "Loop number: 3802 | Parameters: 0.004807207207207207 , 4 | Score for Trafic Level 2: 0.4569707840575685 | Number of clusters: 4\n",
      "Loop number: 3810 | Parameters: 0.004817117117117117 , 4 | Score for Trafic Level 2: 0.4569707840575685 | Number of clusters: 4\n",
      "Loop number: 3818 | Parameters: 0.0048270270270270275 , 4 | Score for Trafic Level 2: 0.4569707840575685 | Number of clusters: 4\n",
      "Loop number: 3826 | Parameters: 0.004836936936936937 , 4 | Score for Trafic Level 2: 0.4569707840575685 | Number of clusters: 4\n"
     ]
    }
   ],
   "source": [
    "getScore2(combinations)"
   ]
  },
  {
   "cell_type": "code",
   "execution_count": 418,
   "id": "e028fdc9",
   "metadata": {},
   "outputs": [
    {
     "name": "stdout",
     "output_type": "stream",
     "text": [
      "Loop number: 4601 | Parameters: 0.005798198198198198 , 3 | Score for Trafic Level 3: 0.5171859719938379 | Number of clusters: 4\n",
      "Loop number: 4609 | Parameters: 0.005808108108108109 , 3 | Score for Trafic Level 3: 0.5171859719938379 | Number of clusters: 4\n",
      "Loop number: 4617 | Parameters: 0.005818018018018018 , 3 | Score for Trafic Level 3: 0.5171859719938379 | Number of clusters: 4\n",
      "Loop number: 4625 | Parameters: 0.005827927927927928 , 3 | Score for Trafic Level 3: 0.5171859719938379 | Number of clusters: 4\n",
      "Loop number: 4633 | Parameters: 0.005837837837837838 , 3 | Score for Trafic Level 3: 0.5171859719938379 | Number of clusters: 4\n",
      "Loop number: 4641 | Parameters: 0.005847747747747748 , 3 | Score for Trafic Level 3: 0.5171859719938379 | Number of clusters: 4\n",
      "Loop number: 4649 | Parameters: 0.005857657657657658 , 3 | Score for Trafic Level 3: 0.5171859719938379 | Number of clusters: 4\n",
      "Loop number: 4657 | Parameters: 0.005867567567567568 , 3 | Score for Trafic Level 3: 0.5171859719938379 | Number of clusters: 4\n",
      "Loop number: 4665 | Parameters: 0.005877477477477478 , 3 | Score for Trafic Level 3: 0.5171859719938379 | Number of clusters: 4\n",
      "Loop number: 4673 | Parameters: 0.005887387387387388 , 3 | Score for Trafic Level 3: 0.5171859719938379 | Number of clusters: 4\n",
      "Loop number: 4681 | Parameters: 0.005897297297297297 , 3 | Score for Trafic Level 3: 0.5171859719938379 | Number of clusters: 4\n",
      "Loop number: 4689 | Parameters: 0.005907207207207207 , 3 | Score for Trafic Level 3: 0.5171859719938379 | Number of clusters: 4\n",
      "Loop number: 4697 | Parameters: 0.005917117117117118 , 3 | Score for Trafic Level 3: 0.5074491577988823 | Number of clusters: 4\n",
      "Loop number: 4705 | Parameters: 0.005927027027027027 , 3 | Score for Trafic Level 3: 0.5074491577988823 | Number of clusters: 4\n",
      "Loop number: 4713 | Parameters: 0.005936936936936937 , 3 | Score for Trafic Level 3: 0.5074491577988823 | Number of clusters: 4\n",
      "Loop number: 4721 | Parameters: 0.005946846846846847 , 3 | Score for Trafic Level 3: 0.5074491577988823 | Number of clusters: 4\n",
      "Loop number: 4729 | Parameters: 0.005956756756756757 , 3 | Score for Trafic Level 3: 0.5074491577988823 | Number of clusters: 4\n",
      "Loop number: 4737 | Parameters: 0.005966666666666667 , 3 | Score for Trafic Level 3: 0.5074491577988823 | Number of clusters: 4\n",
      "Loop number: 4745 | Parameters: 0.005976576576576577 , 3 | Score for Trafic Level 3: 0.5074491577988823 | Number of clusters: 4\n",
      "Loop number: 4753 | Parameters: 0.005986486486486487 , 3 | Score for Trafic Level 3: 0.5074491577988823 | Number of clusters: 4\n",
      "Loop number: 4761 | Parameters: 0.005996396396396397 , 3 | Score for Trafic Level 3: 0.5074491577988823 | Number of clusters: 4\n",
      "Loop number: 4769 | Parameters: 0.006006306306306306 , 3 | Score for Trafic Level 3: 0.5074491577988823 | Number of clusters: 4\n",
      "Loop number: 4777 | Parameters: 0.006016216216216216 , 3 | Score for Trafic Level 3: 0.5074491577988823 | Number of clusters: 4\n",
      "Loop number: 4785 | Parameters: 0.006026126126126127 , 3 | Score for Trafic Level 3: 0.5074491577988823 | Number of clusters: 4\n",
      "Loop number: 4793 | Parameters: 0.006036036036036036 , 3 | Score for Trafic Level 3: 0.5074491577988823 | Number of clusters: 4\n",
      "Loop number: 4801 | Parameters: 0.006045945945945946 , 3 | Score for Trafic Level 3: 0.5074491577988823 | Number of clusters: 4\n",
      "Loop number: 4809 | Parameters: 0.006055855855855856 , 3 | Score for Trafic Level 3: 0.5074491577988823 | Number of clusters: 4\n",
      "Loop number: 4817 | Parameters: 0.006065765765765766 , 3 | Score for Trafic Level 3: 0.5074491577988823 | Number of clusters: 4\n",
      "Loop number: 4825 | Parameters: 0.006075675675675676 , 3 | Score for Trafic Level 3: 0.5074491577988823 | Number of clusters: 4\n",
      "Loop number: 4833 | Parameters: 0.006085585585585586 , 3 | Score for Trafic Level 3: 0.5074491577988823 | Number of clusters: 4\n",
      "Loop number: 4841 | Parameters: 0.006095495495495496 , 3 | Score for Trafic Level 3: 0.5074491577988823 | Number of clusters: 4\n",
      "Loop number: 4849 | Parameters: 0.006105405405405406 , 3 | Score for Trafic Level 3: 0.5074491577988823 | Number of clusters: 4\n",
      "Loop number: 4857 | Parameters: 0.006115315315315315 , 3 | Score for Trafic Level 3: 0.5074491577988823 | Number of clusters: 4\n",
      "Loop number: 4865 | Parameters: 0.006125225225225225 , 3 | Score for Trafic Level 3: 0.5074491577988823 | Number of clusters: 4\n",
      "Loop number: 4873 | Parameters: 0.006135135135135136 , 3 | Score for Trafic Level 3: 0.5074491577988823 | Number of clusters: 4\n",
      "Loop number: 4881 | Parameters: 0.006145045045045045 , 3 | Score for Trafic Level 3: 0.5074491577988823 | Number of clusters: 4\n",
      "Loop number: 4889 | Parameters: 0.006154954954954955 , 3 | Score for Trafic Level 3: 0.5074491577988823 | Number of clusters: 4\n",
      "Loop number: 4897 | Parameters: 0.006164864864864865 , 3 | Score for Trafic Level 3: 0.5074491577988823 | Number of clusters: 4\n",
      "Loop number: 4905 | Parameters: 0.006174774774774775 , 3 | Score for Trafic Level 3: 0.5074491577988823 | Number of clusters: 4\n",
      "Loop number: 4913 | Parameters: 0.006184684684684685 , 3 | Score for Trafic Level 3: 0.5074491577988823 | Number of clusters: 4\n",
      "Loop number: 4921 | Parameters: 0.006194594594594595 , 3 | Score for Trafic Level 3: 0.5074491577988823 | Number of clusters: 4\n",
      "Loop number: 4929 | Parameters: 0.006204504504504505 , 3 | Score for Trafic Level 3: 0.5074491577988823 | Number of clusters: 4\n",
      "Loop number: 4937 | Parameters: 0.006214414414414415 , 3 | Score for Trafic Level 3: 0.5074491577988823 | Number of clusters: 4\n",
      "Loop number: 4945 | Parameters: 0.006224324324324324 , 3 | Score for Trafic Level 3: 0.5074491577988823 | Number of clusters: 4\n",
      "Loop number: 4953 | Parameters: 0.006234234234234234 , 3 | Score for Trafic Level 3: 0.5074491577988823 | Number of clusters: 4\n",
      "Loop number: 4961 | Parameters: 0.006244144144144145 , 3 | Score for Trafic Level 3: 0.5074491577988823 | Number of clusters: 4\n",
      "Loop number: 4969 | Parameters: 0.006254054054054054 , 3 | Score for Trafic Level 3: 0.5074491577988823 | Number of clusters: 4\n",
      "Loop number: 4977 | Parameters: 0.006263963963963964 , 3 | Score for Trafic Level 3: 0.5074491577988823 | Number of clusters: 4\n",
      "Loop number: 4985 | Parameters: 0.006273873873873874 , 3 | Score for Trafic Level 3: 0.5074491577988823 | Number of clusters: 4\n",
      "Loop number: 4993 | Parameters: 0.006283783783783784 , 3 | Score for Trafic Level 3: 0.5074491577988823 | Number of clusters: 4\n",
      "Loop number: 5001 | Parameters: 0.006293693693693694 , 3 | Score for Trafic Level 3: 0.5074491577988823 | Number of clusters: 4\n",
      "Loop number: 5009 | Parameters: 0.006303603603603604 , 3 | Score for Trafic Level 3: 0.5074491577988823 | Number of clusters: 4\n",
      "Loop number: 5017 | Parameters: 0.006313513513513514 , 3 | Score for Trafic Level 3: 0.5074491577988823 | Number of clusters: 4\n",
      "Loop number: 5025 | Parameters: 0.006323423423423424 , 3 | Score for Trafic Level 3: 0.5074491577988823 | Number of clusters: 4\n",
      "Loop number: 5033 | Parameters: 0.006333333333333333 , 3 | Score for Trafic Level 3: 0.5074491577988823 | Number of clusters: 4\n",
      "Loop number: 5041 | Parameters: 0.006343243243243243 , 3 | Score for Trafic Level 3: 0.5074491577988823 | Number of clusters: 4\n",
      "Loop number: 5049 | Parameters: 0.006353153153153154 , 3 | Score for Trafic Level 3: 0.5074491577988823 | Number of clusters: 4\n",
      "Loop number: 5057 | Parameters: 0.006363063063063063 , 3 | Score for Trafic Level 3: 0.5074491577988823 | Number of clusters: 4\n",
      "Loop number: 5065 | Parameters: 0.006372972972972973 , 3 | Score for Trafic Level 3: 0.5074491577988823 | Number of clusters: 4\n",
      "Loop number: 5073 | Parameters: 0.0063828828828828834 , 3 | Score for Trafic Level 3: 0.5074491577988823 | Number of clusters: 4\n",
      "Loop number: 5081 | Parameters: 0.006392792792792793 , 3 | Score for Trafic Level 3: 0.5074491577988823 | Number of clusters: 4\n",
      "Loop number: 5089 | Parameters: 0.006402702702702703 , 3 | Score for Trafic Level 3: 0.5074491577988823 | Number of clusters: 4\n",
      "Loop number: 5097 | Parameters: 0.006412612612612613 , 3 | Score for Trafic Level 3: 0.5074491577988823 | Number of clusters: 4\n",
      "Loop number: 5105 | Parameters: 0.006422522522522523 , 3 | Score for Trafic Level 3: 0.5074491577988823 | Number of clusters: 4\n",
      "Loop number: 5113 | Parameters: 0.006432432432432433 , 3 | Score for Trafic Level 3: 0.5074491577988823 | Number of clusters: 4\n",
      "Loop number: 5121 | Parameters: 0.006442342342342343 , 3 | Score for Trafic Level 3: 0.5074491577988823 | Number of clusters: 4\n",
      "Loop number: 5129 | Parameters: 0.006452252252252252 , 3 | Score for Trafic Level 3: 0.5074491577988823 | Number of clusters: 4\n",
      "Loop number: 5137 | Parameters: 0.006462162162162163 , 3 | Score for Trafic Level 3: 0.5074491577988823 | Number of clusters: 4\n",
      "Loop number: 5145 | Parameters: 0.006472072072072072 , 3 | Score for Trafic Level 3: 0.5074491577988823 | Number of clusters: 4\n",
      "Loop number: 5483 | Parameters: 0.006888288288288288 , 5 | Score for Trafic Level 3: 0.5074491577988823 | Number of clusters: 4\n",
      "Loop number: 5491 | Parameters: 0.006898198198198199 , 5 | Score for Trafic Level 3: 0.5074491577988823 | Number of clusters: 4\n",
      "Loop number: 5499 | Parameters: 0.006908108108108108 , 5 | Score for Trafic Level 3: 0.5074491577988823 | Number of clusters: 4\n",
      "Loop number: 5507 | Parameters: 0.006918018018018018 , 5 | Score for Trafic Level 3: 0.5074491577988823 | Number of clusters: 4\n",
      "Loop number: 5515 | Parameters: 0.0069279279279279285 , 5 | Score for Trafic Level 3: 0.5074491577988823 | Number of clusters: 4\n",
      "Loop number: 5523 | Parameters: 0.006937837837837838 , 5 | Score for Trafic Level 3: 0.5074491577988823 | Number of clusters: 4\n",
      "Loop number: 5531 | Parameters: 0.006947747747747748 , 5 | Score for Trafic Level 3: 0.5074491577988823 | Number of clusters: 4\n",
      "Loop number: 5539 | Parameters: 0.006957657657657658 , 5 | Score for Trafic Level 3: 0.5074491577988823 | Number of clusters: 4\n",
      "Loop number: 5547 | Parameters: 0.006967567567567568 , 5 | Score for Trafic Level 3: 0.5074491577988823 | Number of clusters: 4\n",
      "Loop number: 5555 | Parameters: 0.006977477477477478 , 5 | Score for Trafic Level 3: 0.5074491577988823 | Number of clusters: 4\n",
      "Loop number: 5563 | Parameters: 0.006987387387387388 , 5 | Score for Trafic Level 3: 0.5074491577988823 | Number of clusters: 4\n",
      "Loop number: 5571 | Parameters: 0.0069972972972972974 , 5 | Score for Trafic Level 3: 0.5074491577988823 | Number of clusters: 4\n",
      "Loop number: 5579 | Parameters: 0.007007207207207208 , 5 | Score for Trafic Level 3: 0.5074491577988823 | Number of clusters: 4\n",
      "Loop number: 5587 | Parameters: 0.007017117117117117 , 5 | Score for Trafic Level 3: 0.5074491577988823 | Number of clusters: 4\n",
      "Loop number: 5595 | Parameters: 0.007027027027027027 , 5 | Score for Trafic Level 3: 0.5074491577988823 | Number of clusters: 4\n",
      "Loop number: 5603 | Parameters: 0.0070369369369369375 , 5 | Score for Trafic Level 3: 0.5074491577988823 | Number of clusters: 4\n",
      "Loop number: 5611 | Parameters: 0.007046846846846847 , 5 | Score for Trafic Level 3: 0.5074491577988823 | Number of clusters: 4\n",
      "Loop number: 5619 | Parameters: 0.007056756756756757 , 5 | Score for Trafic Level 3: 0.5074491577988823 | Number of clusters: 4\n",
      "Loop number: 5627 | Parameters: 0.007066666666666667 , 5 | Score for Trafic Level 3: 0.5074491577988823 | Number of clusters: 4\n",
      "Loop number: 5635 | Parameters: 0.007076576576576577 , 5 | Score for Trafic Level 3: 0.5074491577988823 | Number of clusters: 4\n",
      "Loop number: 5643 | Parameters: 0.007086486486486487 , 5 | Score for Trafic Level 3: 0.5074491577988823 | Number of clusters: 4\n",
      "Loop number: 5651 | Parameters: 0.007096396396396397 , 5 | Score for Trafic Level 3: 0.5074491577988823 | Number of clusters: 4\n",
      "Loop number: 5659 | Parameters: 0.0071063063063063064 , 5 | Score for Trafic Level 3: 0.5074491577988823 | Number of clusters: 4\n",
      "Loop number: 5667 | Parameters: 0.007116216216216217 , 5 | Score for Trafic Level 3: 0.5074491577988823 | Number of clusters: 4\n",
      "Loop number: 5675 | Parameters: 0.007126126126126126 , 5 | Score for Trafic Level 3: 0.5074491577988823 | Number of clusters: 4\n",
      "Loop number: 5676 | Parameters: 0.007126126126126126 , 6 | Score for Trafic Level 3: 0.5152555541813388 | Number of clusters: 4\n",
      "Loop number: 5683 | Parameters: 0.007136036036036036 , 5 | Score for Trafic Level 3: 0.5074491577988823 | Number of clusters: 4\n",
      "Loop number: 5684 | Parameters: 0.007136036036036036 , 6 | Score for Trafic Level 3: 0.5152555541813388 | Number of clusters: 4\n",
      "Loop number: 5691 | Parameters: 0.0071459459459459465 , 5 | Score for Trafic Level 3: 0.5074491577988823 | Number of clusters: 4\n",
      "Loop number: 5692 | Parameters: 0.0071459459459459465 , 6 | Score for Trafic Level 3: 0.5152555541813388 | Number of clusters: 4\n",
      "Loop number: 5699 | Parameters: 0.007155855855855856 , 5 | Score for Trafic Level 3: 0.5074491577988823 | Number of clusters: 4\n",
      "Loop number: 5700 | Parameters: 0.007155855855855856 , 6 | Score for Trafic Level 3: 0.5152555541813388 | Number of clusters: 4\n",
      "Loop number: 5707 | Parameters: 0.007165765765765766 , 5 | Score for Trafic Level 3: 0.5074491577988823 | Number of clusters: 4\n",
      "Loop number: 5708 | Parameters: 0.007165765765765766 , 6 | Score for Trafic Level 3: 0.5152555541813388 | Number of clusters: 4\n",
      "Loop number: 5715 | Parameters: 0.007175675675675676 , 5 | Score for Trafic Level 3: 0.5074491577988823 | Number of clusters: 4\n",
      "Loop number: 5716 | Parameters: 0.007175675675675676 , 6 | Score for Trafic Level 3: 0.5152555541813388 | Number of clusters: 4\n",
      "Loop number: 5723 | Parameters: 0.007185585585585586 , 5 | Score for Trafic Level 3: 0.5074491577988823 | Number of clusters: 4\n",
      "Loop number: 5724 | Parameters: 0.007185585585585586 , 6 | Score for Trafic Level 3: 0.5152555541813388 | Number of clusters: 4\n",
      "Loop number: 5731 | Parameters: 0.007195495495495496 , 5 | Score for Trafic Level 3: 0.5074491577988823 | Number of clusters: 4\n",
      "Loop number: 5732 | Parameters: 0.007195495495495496 , 6 | Score for Trafic Level 3: 0.5152555541813388 | Number of clusters: 4\n",
      "Loop number: 5739 | Parameters: 0.007205405405405406 , 5 | Score for Trafic Level 3: 0.5074491577988823 | Number of clusters: 4\n",
      "Loop number: 5740 | Parameters: 0.007205405405405406 , 6 | Score for Trafic Level 3: 0.5152555541813388 | Number of clusters: 4\n",
      "Loop number: 5747 | Parameters: 0.0072153153153153154 , 5 | Score for Trafic Level 3: 0.5074491577988823 | Number of clusters: 4\n",
      "Loop number: 5748 | Parameters: 0.0072153153153153154 , 6 | Score for Trafic Level 3: 0.5152555541813388 | Number of clusters: 4\n",
      "Loop number: 5755 | Parameters: 0.007225225225225226 , 5 | Score for Trafic Level 3: 0.5074491577988823 | Number of clusters: 4\n",
      "Loop number: 5756 | Parameters: 0.007225225225225226 , 6 | Score for Trafic Level 3: 0.5152555541813388 | Number of clusters: 4\n",
      "Loop number: 5763 | Parameters: 0.007235135135135135 , 5 | Score for Trafic Level 3: 0.5074491577988823 | Number of clusters: 4\n",
      "Loop number: 5764 | Parameters: 0.007235135135135135 , 6 | Score for Trafic Level 3: 0.5152555541813388 | Number of clusters: 4\n",
      "Loop number: 5771 | Parameters: 0.007245045045045045 , 5 | Score for Trafic Level 3: 0.5074491577988823 | Number of clusters: 4\n",
      "Loop number: 5772 | Parameters: 0.007245045045045045 , 6 | Score for Trafic Level 3: 0.5152555541813388 | Number of clusters: 4\n",
      "Loop number: 5779 | Parameters: 0.0072549549549549555 , 5 | Score for Trafic Level 3: 0.5074491577988823 | Number of clusters: 4\n",
      "Loop number: 5780 | Parameters: 0.0072549549549549555 , 6 | Score for Trafic Level 3: 0.5152555541813388 | Number of clusters: 4\n",
      "Loop number: 5787 | Parameters: 0.007264864864864865 , 5 | Score for Trafic Level 3: 0.5074491577988823 | Number of clusters: 4\n",
      "Loop number: 5788 | Parameters: 0.007264864864864865 , 6 | Score for Trafic Level 3: 0.5152555541813388 | Number of clusters: 4\n",
      "Loop number: 5795 | Parameters: 0.007274774774774775 , 5 | Score for Trafic Level 3: 0.5074491577988823 | Number of clusters: 4\n",
      "Loop number: 5796 | Parameters: 0.007274774774774775 , 6 | Score for Trafic Level 3: 0.5152555541813388 | Number of clusters: 4\n",
      "Loop number: 5803 | Parameters: 0.007284684684684685 , 5 | Score for Trafic Level 3: 0.5074491577988823 | Number of clusters: 4\n",
      "Loop number: 5804 | Parameters: 0.007284684684684685 , 6 | Score for Trafic Level 3: 0.5152555541813388 | Number of clusters: 4\n",
      "Loop number: 5811 | Parameters: 0.007294594594594595 , 5 | Score for Trafic Level 3: 0.5074491577988823 | Number of clusters: 4\n",
      "Loop number: 5812 | Parameters: 0.007294594594594595 , 6 | Score for Trafic Level 3: 0.5152555541813388 | Number of clusters: 4\n",
      "Loop number: 5819 | Parameters: 0.007304504504504505 , 5 | Score for Trafic Level 3: 0.5074491577988823 | Number of clusters: 4\n",
      "Loop number: 5820 | Parameters: 0.007304504504504505 , 6 | Score for Trafic Level 3: 0.5152555541813388 | Number of clusters: 4\n",
      "Loop number: 5827 | Parameters: 0.007314414414414415 , 5 | Score for Trafic Level 3: 0.5074491577988823 | Number of clusters: 4\n",
      "Loop number: 5828 | Parameters: 0.007314414414414415 , 6 | Score for Trafic Level 3: 0.5152555541813388 | Number of clusters: 4\n",
      "Loop number: 5835 | Parameters: 0.0073243243243243245 , 5 | Score for Trafic Level 3: 0.5074491577988823 | Number of clusters: 4\n",
      "Loop number: 5836 | Parameters: 0.0073243243243243245 , 6 | Score for Trafic Level 3: 0.5152555541813388 | Number of clusters: 4\n",
      "Loop number: 5843 | Parameters: 0.007334234234234235 , 5 | Score for Trafic Level 3: 0.5074491577988823 | Number of clusters: 4\n",
      "Loop number: 5844 | Parameters: 0.007334234234234235 , 6 | Score for Trafic Level 3: 0.5152555541813388 | Number of clusters: 4\n",
      "Loop number: 5851 | Parameters: 0.007344144144144144 , 5 | Score for Trafic Level 3: 0.5074491577988823 | Number of clusters: 4\n",
      "Loop number: 5852 | Parameters: 0.007344144144144144 , 6 | Score for Trafic Level 3: 0.5152555541813388 | Number of clusters: 4\n",
      "Loop number: 5859 | Parameters: 0.007354054054054054 , 5 | Score for Trafic Level 3: 0.5074491577988823 | Number of clusters: 4\n",
      "Loop number: 5860 | Parameters: 0.007354054054054054 , 6 | Score for Trafic Level 3: 0.5152555541813388 | Number of clusters: 4\n",
      "Loop number: 5867 | Parameters: 0.0073639639639639645 , 5 | Score for Trafic Level 3: 0.5074491577988823 | Number of clusters: 4\n",
      "Loop number: 5868 | Parameters: 0.0073639639639639645 , 6 | Score for Trafic Level 3: 0.5152555541813388 | Number of clusters: 4\n",
      "Loop number: 5876 | Parameters: 0.007373873873873874 , 6 | Score for Trafic Level 3: 0.5152555541813388 | Number of clusters: 4\n",
      "Loop number: 5884 | Parameters: 0.007383783783783784 , 6 | Score for Trafic Level 3: 0.5152555541813388 | Number of clusters: 4\n",
      "Loop number: 5892 | Parameters: 0.007393693693693694 , 6 | Score for Trafic Level 3: 0.5152555541813388 | Number of clusters: 4\n",
      "Loop number: 5900 | Parameters: 0.007403603603603604 , 6 | Score for Trafic Level 3: 0.5152555541813388 | Number of clusters: 4\n",
      "Loop number: 5908 | Parameters: 0.007413513513513514 , 6 | Score for Trafic Level 3: 0.5152555541813388 | Number of clusters: 4\n",
      "Loop number: 5916 | Parameters: 0.007423423423423424 , 6 | Score for Trafic Level 3: 0.5152555541813388 | Number of clusters: 4\n",
      "Loop number: 5924 | Parameters: 0.0074333333333333335 , 6 | Score for Trafic Level 3: 0.5152555541813388 | Number of clusters: 4\n",
      "Loop number: 5932 | Parameters: 0.007443243243243244 , 6 | Score for Trafic Level 3: 0.5152555541813388 | Number of clusters: 4\n",
      "Loop number: 5940 | Parameters: 0.007453153153153153 , 6 | Score for Trafic Level 3: 0.5152555541813388 | Number of clusters: 4\n",
      "Loop number: 5948 | Parameters: 0.007463063063063063 , 6 | Score for Trafic Level 3: 0.5152555541813388 | Number of clusters: 4\n",
      "Loop number: 5956 | Parameters: 0.0074729729729729735 , 6 | Score for Trafic Level 3: 0.5152555541813388 | Number of clusters: 4\n",
      "Loop number: 5964 | Parameters: 0.007482882882882883 , 6 | Score for Trafic Level 3: 0.5152555541813388 | Number of clusters: 4\n",
      "Loop number: 5972 | Parameters: 0.007492792792792793 , 6 | Score for Trafic Level 3: 0.5152555541813388 | Number of clusters: 4\n",
      "Loop number: 5980 | Parameters: 0.007502702702702703 , 6 | Score for Trafic Level 3: 0.5152555541813388 | Number of clusters: 4\n",
      "Loop number: 5988 | Parameters: 0.007512612612612613 , 6 | Score for Trafic Level 3: 0.5152555541813388 | Number of clusters: 4\n",
      "Loop number: 5996 | Parameters: 0.007522522522522523 , 6 | Score for Trafic Level 3: 0.5152555541813388 | Number of clusters: 4\n",
      "Loop number: 6004 | Parameters: 0.007532432432432433 , 6 | Score for Trafic Level 3: 0.500403655802354 | Number of clusters: 4\n",
      "Loop number: 6005 | Parameters: 0.007532432432432433 , 7 | Score for Trafic Level 3: 0.500403655802354 | Number of clusters: 4\n",
      "Loop number: 6012 | Parameters: 0.0075423423423423425 , 6 | Score for Trafic Level 3: 0.500403655802354 | Number of clusters: 4\n",
      "Loop number: 6013 | Parameters: 0.0075423423423423425 , 7 | Score for Trafic Level 3: 0.500403655802354 | Number of clusters: 4\n",
      "Loop number: 6020 | Parameters: 0.007552252252252253 , 6 | Score for Trafic Level 3: 0.500403655802354 | Number of clusters: 4\n",
      "Loop number: 6021 | Parameters: 0.007552252252252253 , 7 | Score for Trafic Level 3: 0.500403655802354 | Number of clusters: 4\n",
      "Loop number: 6028 | Parameters: 0.007562162162162162 , 6 | Score for Trafic Level 3: 0.500403655802354 | Number of clusters: 4\n",
      "Loop number: 6029 | Parameters: 0.007562162162162162 , 7 | Score for Trafic Level 3: 0.500403655802354 | Number of clusters: 4\n",
      "Loop number: 6036 | Parameters: 0.007572072072072072 , 6 | Score for Trafic Level 3: 0.500403655802354 | Number of clusters: 4\n",
      "Loop number: 6037 | Parameters: 0.007572072072072072 , 7 | Score for Trafic Level 3: 0.500403655802354 | Number of clusters: 4\n",
      "Loop number: 6044 | Parameters: 0.0075819819819819825 , 6 | Score for Trafic Level 3: 0.500403655802354 | Number of clusters: 4\n",
      "Loop number: 6045 | Parameters: 0.0075819819819819825 , 7 | Score for Trafic Level 3: 0.500403655802354 | Number of clusters: 4\n",
      "Loop number: 6052 | Parameters: 0.007591891891891892 , 6 | Score for Trafic Level 3: 0.500403655802354 | Number of clusters: 4\n",
      "Loop number: 6053 | Parameters: 0.007591891891891892 , 7 | Score for Trafic Level 3: 0.500403655802354 | Number of clusters: 4\n",
      "Loop number: 6060 | Parameters: 0.007601801801801802 , 6 | Score for Trafic Level 3: 0.500403655802354 | Number of clusters: 4\n",
      "Loop number: 6061 | Parameters: 0.007601801801801802 , 7 | Score for Trafic Level 3: 0.500403655802354 | Number of clusters: 4\n",
      "Loop number: 6068 | Parameters: 0.007611711711711712 , 6 | Score for Trafic Level 3: 0.500403655802354 | Number of clusters: 4\n",
      "Loop number: 6069 | Parameters: 0.007611711711711712 , 7 | Score for Trafic Level 3: 0.500403655802354 | Number of clusters: 4\n",
      "Loop number: 6076 | Parameters: 0.007621621621621622 , 6 | Score for Trafic Level 3: 0.500403655802354 | Number of clusters: 4\n",
      "Loop number: 6077 | Parameters: 0.007621621621621622 , 7 | Score for Trafic Level 3: 0.500403655802354 | Number of clusters: 4\n",
      "Loop number: 6084 | Parameters: 0.007631531531531532 , 6 | Score for Trafic Level 3: 0.500403655802354 | Number of clusters: 4\n",
      "Loop number: 6085 | Parameters: 0.007631531531531532 , 7 | Score for Trafic Level 3: 0.500403655802354 | Number of clusters: 4\n",
      "Loop number: 6092 | Parameters: 0.007641441441441442 , 6 | Score for Trafic Level 3: 0.500403655802354 | Number of clusters: 4\n",
      "Loop number: 6093 | Parameters: 0.007641441441441442 , 7 | Score for Trafic Level 3: 0.500403655802354 | Number of clusters: 4\n",
      "Loop number: 6100 | Parameters: 0.0076513513513513515 , 6 | Score for Trafic Level 3: 0.500403655802354 | Number of clusters: 4\n",
      "Loop number: 6101 | Parameters: 0.0076513513513513515 , 7 | Score for Trafic Level 3: 0.500403655802354 | Number of clusters: 4\n",
      "Loop number: 6108 | Parameters: 0.007661261261261262 , 6 | Score for Trafic Level 3: 0.500403655802354 | Number of clusters: 4\n",
      "Loop number: 6109 | Parameters: 0.007661261261261262 , 7 | Score for Trafic Level 3: 0.500403655802354 | Number of clusters: 4\n",
      "Loop number: 6116 | Parameters: 0.007671171171171171 , 6 | Score for Trafic Level 3: 0.500403655802354 | Number of clusters: 4\n",
      "Loop number: 6117 | Parameters: 0.007671171171171171 , 7 | Score for Trafic Level 3: 0.500403655802354 | Number of clusters: 4\n",
      "Loop number: 6124 | Parameters: 0.007681081081081081 , 6 | Score for Trafic Level 3: 0.500403655802354 | Number of clusters: 4\n",
      "Loop number: 6125 | Parameters: 0.007681081081081081 , 7 | Score for Trafic Level 3: 0.500403655802354 | Number of clusters: 4\n",
      "Loop number: 6132 | Parameters: 0.0076909909909909915 , 6 | Score for Trafic Level 3: 0.500403655802354 | Number of clusters: 4\n",
      "Loop number: 6133 | Parameters: 0.0076909909909909915 , 7 | Score for Trafic Level 3: 0.500403655802354 | Number of clusters: 4\n",
      "Loop number: 6140 | Parameters: 0.007700900900900901 , 6 | Score for Trafic Level 3: 0.500403655802354 | Number of clusters: 4\n",
      "Loop number: 6141 | Parameters: 0.007700900900900901 , 7 | Score for Trafic Level 3: 0.500403655802354 | Number of clusters: 4\n",
      "Loop number: 6148 | Parameters: 0.007710810810810811 , 6 | Score for Trafic Level 3: 0.500403655802354 | Number of clusters: 4\n",
      "Loop number: 6149 | Parameters: 0.007710810810810811 , 7 | Score for Trafic Level 3: 0.500403655802354 | Number of clusters: 4\n",
      "Loop number: 6156 | Parameters: 0.007720720720720721 , 6 | Score for Trafic Level 3: 0.500403655802354 | Number of clusters: 4\n",
      "Loop number: 6157 | Parameters: 0.007720720720720721 , 7 | Score for Trafic Level 3: 0.500403655802354 | Number of clusters: 4\n",
      "Loop number: 6164 | Parameters: 0.007730630630630631 , 6 | Score for Trafic Level 3: 0.500403655802354 | Number of clusters: 4\n",
      "Loop number: 6165 | Parameters: 0.007730630630630631 , 7 | Score for Trafic Level 3: 0.500403655802354 | Number of clusters: 4\n",
      "Loop number: 6172 | Parameters: 0.007740540540540541 , 6 | Score for Trafic Level 3: 0.500403655802354 | Number of clusters: 4\n",
      "Loop number: 6173 | Parameters: 0.007740540540540541 , 7 | Score for Trafic Level 3: 0.500403655802354 | Number of clusters: 4\n",
      "Loop number: 6180 | Parameters: 0.007750450450450451 , 6 | Score for Trafic Level 3: 0.500403655802354 | Number of clusters: 4\n",
      "Loop number: 6181 | Parameters: 0.007750450450450451 , 7 | Score for Trafic Level 3: 0.500403655802354 | Number of clusters: 4\n",
      "Loop number: 6188 | Parameters: 0.0077603603603603605 , 6 | Score for Trafic Level 3: 0.500403655802354 | Number of clusters: 4\n",
      "Loop number: 6189 | Parameters: 0.0077603603603603605 , 7 | Score for Trafic Level 3: 0.500403655802354 | Number of clusters: 4\n",
      "Loop number: 6196 | Parameters: 0.007770270270270271 , 6 | Score for Trafic Level 3: 0.500403655802354 | Number of clusters: 4\n",
      "Loop number: 6197 | Parameters: 0.007770270270270271 , 7 | Score for Trafic Level 3: 0.500403655802354 | Number of clusters: 4\n",
      "Loop number: 6204 | Parameters: 0.00778018018018018 , 6 | Score for Trafic Level 3: 0.500403655802354 | Number of clusters: 4\n",
      "Loop number: 6205 | Parameters: 0.00778018018018018 , 7 | Score for Trafic Level 3: 0.500403655802354 | Number of clusters: 4\n",
      "Loop number: 6212 | Parameters: 0.00779009009009009 , 6 | Score for Trafic Level 3: 0.500403655802354 | Number of clusters: 4\n",
      "Loop number: 6213 | Parameters: 0.00779009009009009 , 7 | Score for Trafic Level 3: 0.500403655802354 | Number of clusters: 4\n",
      "Loop number: 6220 | Parameters: 0.0078000000000000005 , 6 | Score for Trafic Level 3: 0.500403655802354 | Number of clusters: 4\n",
      "Loop number: 6221 | Parameters: 0.0078000000000000005 , 7 | Score for Trafic Level 3: 0.500403655802354 | Number of clusters: 4\n",
      "Loop number: 6228 | Parameters: 0.00780990990990991 , 6 | Score for Trafic Level 3: 0.500403655802354 | Number of clusters: 4\n",
      "Loop number: 6229 | Parameters: 0.00780990990990991 , 7 | Score for Trafic Level 3: 0.500403655802354 | Number of clusters: 4\n",
      "Loop number: 6236 | Parameters: 0.00781981981981982 , 6 | Score for Trafic Level 3: 0.500403655802354 | Number of clusters: 4\n",
      "Loop number: 6237 | Parameters: 0.00781981981981982 , 7 | Score for Trafic Level 3: 0.500403655802354 | Number of clusters: 4\n",
      "Loop number: 6244 | Parameters: 0.00782972972972973 , 6 | Score for Trafic Level 3: 0.500403655802354 | Number of clusters: 4\n",
      "Loop number: 6245 | Parameters: 0.00782972972972973 , 7 | Score for Trafic Level 3: 0.500403655802354 | Number of clusters: 4\n",
      "Loop number: 6252 | Parameters: 0.007839639639639639 , 6 | Score for Trafic Level 3: 0.500403655802354 | Number of clusters: 4\n",
      "Loop number: 6253 | Parameters: 0.007839639639639639 , 7 | Score for Trafic Level 3: 0.500403655802354 | Number of clusters: 4\n",
      "Loop number: 6260 | Parameters: 0.007849549549549549 , 6 | Score for Trafic Level 3: 0.500403655802354 | Number of clusters: 4\n",
      "Loop number: 6261 | Parameters: 0.007849549549549549 , 7 | Score for Trafic Level 3: 0.500403655802354 | Number of clusters: 4\n",
      "Loop number: 6268 | Parameters: 0.00785945945945946 , 6 | Score for Trafic Level 3: 0.500403655802354 | Number of clusters: 4\n",
      "Loop number: 6269 | Parameters: 0.00785945945945946 , 7 | Score for Trafic Level 3: 0.500403655802354 | Number of clusters: 4\n",
      "Loop number: 6276 | Parameters: 0.00786936936936937 , 6 | Score for Trafic Level 3: 0.500403655802354 | Number of clusters: 4\n",
      "Loop number: 6277 | Parameters: 0.00786936936936937 , 7 | Score for Trafic Level 3: 0.500403655802354 | Number of clusters: 4\n",
      "Loop number: 6284 | Parameters: 0.00787927927927928 , 6 | Score for Trafic Level 3: 0.500403655802354 | Number of clusters: 4\n",
      "Loop number: 6285 | Parameters: 0.00787927927927928 , 7 | Score for Trafic Level 3: 0.500403655802354 | Number of clusters: 4\n",
      "Loop number: 6292 | Parameters: 0.007889189189189188 , 6 | Score for Trafic Level 3: 0.500403655802354 | Number of clusters: 4\n",
      "Loop number: 6293 | Parameters: 0.007889189189189188 , 7 | Score for Trafic Level 3: 0.500403655802354 | Number of clusters: 4\n",
      "Loop number: 6300 | Parameters: 0.007899099099099098 , 6 | Score for Trafic Level 3: 0.500403655802354 | Number of clusters: 4\n",
      "Loop number: 6301 | Parameters: 0.007899099099099098 , 7 | Score for Trafic Level 3: 0.500403655802354 | Number of clusters: 4\n",
      "Loop number: 6308 | Parameters: 0.007909009009009009 , 6 | Score for Trafic Level 3: 0.500403655802354 | Number of clusters: 4\n",
      "Loop number: 6309 | Parameters: 0.007909009009009009 , 7 | Score for Trafic Level 3: 0.500403655802354 | Number of clusters: 4\n",
      "Loop number: 6316 | Parameters: 0.007918918918918919 , 6 | Score for Trafic Level 3: 0.500403655802354 | Number of clusters: 4\n",
      "Loop number: 6317 | Parameters: 0.007918918918918919 , 7 | Score for Trafic Level 3: 0.500403655802354 | Number of clusters: 4\n",
      "Loop number: 6324 | Parameters: 0.007928828828828829 , 6 | Score for Trafic Level 3: 0.500403655802354 | Number of clusters: 4\n",
      "Loop number: 6325 | Parameters: 0.007928828828828829 , 7 | Score for Trafic Level 3: 0.500403655802354 | Number of clusters: 4\n",
      "Loop number: 6332 | Parameters: 0.007938738738738738 , 6 | Score for Trafic Level 3: 0.500403655802354 | Number of clusters: 4\n",
      "Loop number: 6333 | Parameters: 0.007938738738738738 , 7 | Score for Trafic Level 3: 0.500403655802354 | Number of clusters: 4\n",
      "Loop number: 6340 | Parameters: 0.007948648648648648 , 6 | Score for Trafic Level 3: 0.500403655802354 | Number of clusters: 4\n",
      "Loop number: 6341 | Parameters: 0.007948648648648648 , 7 | Score for Trafic Level 3: 0.500403655802354 | Number of clusters: 4\n",
      "Loop number: 6348 | Parameters: 0.007958558558558558 , 6 | Score for Trafic Level 3: 0.500403655802354 | Number of clusters: 4\n",
      "Loop number: 6349 | Parameters: 0.007958558558558558 , 7 | Score for Trafic Level 3: 0.500403655802354 | Number of clusters: 4\n",
      "Loop number: 6356 | Parameters: 0.007968468468468468 , 6 | Score for Trafic Level 3: 0.500403655802354 | Number of clusters: 4\n",
      "Loop number: 6357 | Parameters: 0.007968468468468468 , 7 | Score for Trafic Level 3: 0.500403655802354 | Number of clusters: 4\n",
      "Loop number: 6364 | Parameters: 0.007978378378378378 , 6 | Score for Trafic Level 3: 0.500403655802354 | Number of clusters: 4\n",
      "Loop number: 6365 | Parameters: 0.007978378378378378 , 7 | Score for Trafic Level 3: 0.500403655802354 | Number of clusters: 4\n",
      "Loop number: 6372 | Parameters: 0.007988288288288287 , 6 | Score for Trafic Level 3: 0.500403655802354 | Number of clusters: 4\n",
      "Loop number: 6373 | Parameters: 0.007988288288288287 , 7 | Score for Trafic Level 3: 0.500403655802354 | Number of clusters: 4\n",
      "Loop number: 6380 | Parameters: 0.007998198198198197 , 6 | Score for Trafic Level 3: 0.500403655802354 | Number of clusters: 4\n",
      "Loop number: 6381 | Parameters: 0.007998198198198197 , 7 | Score for Trafic Level 3: 0.500403655802354 | Number of clusters: 4\n",
      "Loop number: 6389 | Parameters: 0.008008108108108107 , 7 | Score for Trafic Level 3: 0.500403655802354 | Number of clusters: 4\n",
      "Loop number: 6397 | Parameters: 0.008018018018018018 , 7 | Score for Trafic Level 3: 0.500403655802354 | Number of clusters: 4\n",
      "Loop number: 6405 | Parameters: 0.008027927927927928 , 7 | Score for Trafic Level 3: 0.500403655802354 | Number of clusters: 4\n",
      "Loop number: 6413 | Parameters: 0.008037837837837838 , 7 | Score for Trafic Level 3: 0.500403655802354 | Number of clusters: 4\n",
      "Loop number: 6421 | Parameters: 0.008047747747747747 , 7 | Score for Trafic Level 3: 0.500403655802354 | Number of clusters: 4\n",
      "Loop number: 6429 | Parameters: 0.008057657657657657 , 7 | Score for Trafic Level 3: 0.500403655802354 | Number of clusters: 4\n",
      "Loop number: 6437 | Parameters: 0.008067567567567567 , 7 | Score for Trafic Level 3: 0.500403655802354 | Number of clusters: 4\n",
      "Loop number: 6445 | Parameters: 0.008077477477477477 , 7 | Score for Trafic Level 3: 0.500403655802354 | Number of clusters: 4\n",
      "Loop number: 6453 | Parameters: 0.008087387387387387 , 7 | Score for Trafic Level 3: 0.500403655802354 | Number of clusters: 4\n",
      "Loop number: 6461 | Parameters: 0.008097297297297296 , 7 | Score for Trafic Level 3: 0.500403655802354 | Number of clusters: 4\n",
      "Loop number: 6469 | Parameters: 0.008107207207207206 , 7 | Score for Trafic Level 3: 0.500403655802354 | Number of clusters: 4\n",
      "Loop number: 6477 | Parameters: 0.008117117117117116 , 7 | Score for Trafic Level 3: 0.500403655802354 | Number of clusters: 4\n",
      "Loop number: 6485 | Parameters: 0.008127027027027027 , 7 | Score for Trafic Level 3: 0.500403655802354 | Number of clusters: 4\n"
     ]
    }
   ],
   "source": [
    "getScore3(combinations)"
   ]
  },
  {
   "cell_type": "markdown",
   "id": "ed019f10",
   "metadata": {},
   "source": [
    "TF1\n",
    "Loop number: 2317 | Parameters: 0.002963963963963964 , 7 | Score for Trafic Level 1: 0.41488584456394306 | Number of clusters: 4\n",
    "Loop number: 2325 | Parameters: 0.0029738738738738736 , 7 | Score for Trafic Level 1: 0.41488584456394306 | Number of clusters: 4\n",
    "Loop number: 2333 | Parameters: 0.002983783783783784 , 7 | Score for Trafic Level 1: 0.41488584456394306 | Number of clusters: 4"
   ]
  },
  {
   "cell_type": "markdown",
   "id": "50fa3891",
   "metadata": {},
   "source": [
    "TF2\n",
    "Loop number: 3802 | Parameters: 0.004807207207207207 , 4 | Score for Trafic Level 2: 0.4569707840575685 | Number of clusters: 4\n",
    "Loop number: 3810 | Parameters: 0.004817117117117117 , 4 | Score for Trafic Level 2: 0.4569707840575685 | Number of clusters: 4\n",
    "Loop number: 3818 | Parameters: 0.0048270270270270275 , 4 | Score for Trafic Level 2: 0.4569707840575685 | Number of clusters: 4\n",
    "Loop number: 3826 | Parameters: 0.004836936936936937 , 4 | Score for Trafic Level 2: 0.4569707840575685 "
   ]
  },
  {
   "cell_type": "markdown",
   "id": "3d37fbf2",
   "metadata": {},
   "source": [
    "TF3\n",
    "Loop number: 4601 | Parameters: 0.005798198198198198 , 3 | Score for Trafic Level 3: 0.5171859719938379 | Number of clusters: 4\n",
    "Loop number: 4609 | Parameters: 0.005808108108108109 , 3 | Score for Trafic Level 3: 0.5171859719938379 | Number of clusters: 4\n",
    "Loop number: 4617 | Parameters: 0.005818018018018018 , 3 | Score for Trafic Level 3: 0.5171859719938379 | Number of clusters: 4\n",
    "Loop number: 4625 | Parameters: 0.005827927927927928 , 3 | Score for Trafic Level 3: 0.5171859719938379 | Number of clusters: 4\n",
    "Loop number: 4633 | Parameters: 0.005837837837837838 , 3 | Score for Trafic Level 3: 0.5171859719938379 | Number of clusters: 4\n",
    "Loop number: 4641 | Parameters: 0.005847747747747748 , 3 | Score for Trafic Level 3: 0.5171859719938379 | Number of clusters: 4\n",
    "Loop number: 4649 | Parameters: 0.005857657657657658 , 3 | Score for Trafic Level 3: 0.5171859719938379 | Number of clusters: 4\n",
    "Loop number: 4657 | Parameters: 0.005867567567567568 , 3 | Score for Trafic Level 3: 0.5171859719938379 | Number of clusters: 4\n",
    "Loop number: 4665 | Parameters: 0.005877477477477478 , 3 | Score for Trafic Level 3: 0.5171859719938379 | Number of clusters: 4\n",
    "Loop number: 4673 | Parameters: 0.005887387387387388 , 3 | Score for Trafic Level 3: 0.5171859719938379 | Number of clusters: 4\n",
    "Loop number: 4681 | Parameters: 0.005897297297297297 , 3 | Score for Trafic Level 3: 0.5171859719938379 | Number of clusters: 4\n",
    "Loop number: 4689 | Parameters: 0.005907207207207207 , 3 | Score for Trafic Level 3: 0.5171859719938379 | Number of clusters: 4"
   ]
  }
 ],
 "metadata": {
  "kernelspec": {
   "display_name": "Python 3 (ipykernel)",
   "language": "python",
   "name": "python3"
  },
  "language_info": {
   "codemirror_mode": {
    "name": "ipython",
    "version": 3
   },
   "file_extension": ".py",
   "mimetype": "text/x-python",
   "name": "python",
   "nbconvert_exporter": "python",
   "pygments_lexer": "ipython3",
   "version": "3.11.5"
  }
 },
 "nbformat": 4,
 "nbformat_minor": 5
}
