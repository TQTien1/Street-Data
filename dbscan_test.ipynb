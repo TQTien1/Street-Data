{
 "cells": [
  {
   "cell_type": "code",
   "execution_count": 42,
   "id": "b31a266e-16c5-410f-896e-d5c4d830d90d",
   "metadata": {
    "tags": []
   },
   "outputs": [],
   "source": [
    "#Import libraries\n",
    "from sklearn.cluster import DBSCAN\n",
    "from sklearn.metrics import silhouette_score as ss\n",
    "import pandas as pd \n",
    "import numpy as np\n",
    "import plotly.express as px\n",
    "import itertools as it \n",
    "import folium\n",
    "from folium.plugins import GroupedLayerControl\n",
    "import webbrowser"
   ]
  },
  {
   "cell_type": "code",
   "execution_count": 43,
   "id": "3d6170fb-87c4-4a8a-bf3e-27dd61d792d4",
   "metadata": {
    "tags": []
   },
   "outputs": [
    {
     "data": {
      "text/html": [
       "<div>\n",
       "<style scoped>\n",
       "    .dataframe tbody tr th:only-of-type {\n",
       "        vertical-align: middle;\n",
       "    }\n",
       "\n",
       "    .dataframe tbody tr th {\n",
       "        vertical-align: top;\n",
       "    }\n",
       "\n",
       "    .dataframe thead th {\n",
       "        text-align: right;\n",
       "    }\n",
       "</style>\n",
       "<table border=\"1\" class=\"dataframe\">\n",
       "  <thead>\n",
       "    <tr style=\"text-align: right;\">\n",
       "      <th></th>\n",
       "      <th>Index</th>\n",
       "      <th>District</th>\n",
       "      <th>Ward</th>\n",
       "      <th>Street Name 1</th>\n",
       "      <th>Street name 2</th>\n",
       "      <th>Street Name 3</th>\n",
       "      <th>Street Name 4</th>\n",
       "      <th>Longitude</th>\n",
       "      <th>Latitude</th>\n",
       "      <th>Traffic Level</th>\n",
       "    </tr>\n",
       "  </thead>\n",
       "  <tbody>\n",
       "    <tr>\n",
       "      <th>0</th>\n",
       "      <td>10101</td>\n",
       "      <td>Ba Đình</td>\n",
       "      <td>Phúc Xá</td>\n",
       "      <td>An Xá</td>\n",
       "      <td>Nghĩa Dũng</td>\n",
       "      <td>NaN</td>\n",
       "      <td>NaN</td>\n",
       "      <td>21.046224</td>\n",
       "      <td>105.849289</td>\n",
       "      <td>1</td>\n",
       "    </tr>\n",
       "    <tr>\n",
       "      <th>1</th>\n",
       "      <td>10102</td>\n",
       "      <td>Ba Đình</td>\n",
       "      <td>Phúc Xá</td>\n",
       "      <td>An Xá</td>\n",
       "      <td>Tân Mỹ</td>\n",
       "      <td>NaN</td>\n",
       "      <td>NaN</td>\n",
       "      <td>21.042412</td>\n",
       "      <td>105.852127</td>\n",
       "      <td>1</td>\n",
       "    </tr>\n",
       "    <tr>\n",
       "      <th>2</th>\n",
       "      <td>10103</td>\n",
       "      <td>Ba Đình</td>\n",
       "      <td>Phúc Xá</td>\n",
       "      <td>An Xá</td>\n",
       "      <td>Phúc Xá</td>\n",
       "      <td>NaN</td>\n",
       "      <td>NaN</td>\n",
       "      <td>21.046067</td>\n",
       "      <td>105.849022</td>\n",
       "      <td>1</td>\n",
       "    </tr>\n",
       "    <tr>\n",
       "      <th>3</th>\n",
       "      <td>11901</td>\n",
       "      <td>Ba Đình</td>\n",
       "      <td>Điện Biên</td>\n",
       "      <td>Bà Huyện Thanh Quan</td>\n",
       "      <td>Chùa Một Cột</td>\n",
       "      <td>NaN</td>\n",
       "      <td>NaN</td>\n",
       "      <td>21.034974</td>\n",
       "      <td>105.835874</td>\n",
       "      <td>1</td>\n",
       "    </tr>\n",
       "    <tr>\n",
       "      <th>4</th>\n",
       "      <td>11902</td>\n",
       "      <td>Ba Đình</td>\n",
       "      <td>Điện Biên</td>\n",
       "      <td>Bà Huyện Thanh Quan</td>\n",
       "      <td>Lê Hồng Phong</td>\n",
       "      <td>NaN</td>\n",
       "      <td>NaN</td>\n",
       "      <td>21.033849</td>\n",
       "      <td>105.835607</td>\n",
       "      <td>2</td>\n",
       "    </tr>\n",
       "    <tr>\n",
       "      <th>5</th>\n",
       "      <td>11903</td>\n",
       "      <td>Ba Đình</td>\n",
       "      <td>Điện Biên</td>\n",
       "      <td>Bắc Sơn</td>\n",
       "      <td>Hoàng Diệu</td>\n",
       "      <td>NaN</td>\n",
       "      <td>NaN</td>\n",
       "      <td>21.035962</td>\n",
       "      <td>105.839265</td>\n",
       "      <td>1</td>\n",
       "    </tr>\n",
       "    <tr>\n",
       "      <th>6</th>\n",
       "      <td>11904</td>\n",
       "      <td>Ba Đình</td>\n",
       "      <td>Điện Biên</td>\n",
       "      <td>Bắc Sơn</td>\n",
       "      <td>Tôn Thất Đàm</td>\n",
       "      <td>NaN</td>\n",
       "      <td>NaN</td>\n",
       "      <td>21.035980</td>\n",
       "      <td>105.838074</td>\n",
       "      <td>1</td>\n",
       "    </tr>\n",
       "    <tr>\n",
       "      <th>7</th>\n",
       "      <td>11905</td>\n",
       "      <td>Ba Đình</td>\n",
       "      <td>Điện Biên</td>\n",
       "      <td>Bắc Sơn</td>\n",
       "      <td>Độc Lập</td>\n",
       "      <td>NaN</td>\n",
       "      <td>NaN</td>\n",
       "      <td>21.036582</td>\n",
       "      <td>105.836578</td>\n",
       "      <td>1</td>\n",
       "    </tr>\n",
       "    <tr>\n",
       "      <th>8</th>\n",
       "      <td>11601</td>\n",
       "      <td>Ba Đình</td>\n",
       "      <td>Ngọc Hà</td>\n",
       "      <td>Bắc Sơn</td>\n",
       "      <td>Ngọc Hà</td>\n",
       "      <td>NaN</td>\n",
       "      <td>NaN</td>\n",
       "      <td>21.037553</td>\n",
       "      <td>105.831080</td>\n",
       "      <td>1</td>\n",
       "    </tr>\n",
       "    <tr>\n",
       "      <th>9</th>\n",
       "      <td>10701</td>\n",
       "      <td>Ba Đình</td>\n",
       "      <td>Cống Vị</td>\n",
       "      <td>Bưởi</td>\n",
       "      <td>Đội Cấn</td>\n",
       "      <td>NaN</td>\n",
       "      <td>NaN</td>\n",
       "      <td>21.037688</td>\n",
       "      <td>105.807348</td>\n",
       "      <td>3</td>\n",
       "    </tr>\n",
       "  </tbody>\n",
       "</table>\n",
       "</div>"
      ],
      "text/plain": [
       "   Index District       Ward        Street Name 1  Street name 2  \\\n",
       "0  10101  Ba Đình    Phúc Xá                An Xá     Nghĩa Dũng   \n",
       "1  10102  Ba Đình    Phúc Xá                An Xá         Tân Mỹ   \n",
       "2  10103  Ba Đình    Phúc Xá                An Xá        Phúc Xá   \n",
       "3  11901  Ba Đình  Điện Biên  Bà Huyện Thanh Quan   Chùa Một Cột   \n",
       "4  11902  Ba Đình  Điện Biên  Bà Huyện Thanh Quan  Lê Hồng Phong   \n",
       "5  11903  Ba Đình  Điện Biên              Bắc Sơn     Hoàng Diệu   \n",
       "6  11904  Ba Đình  Điện Biên              Bắc Sơn   Tôn Thất Đàm   \n",
       "7  11905  Ba Đình  Điện Biên              Bắc Sơn        Độc Lập   \n",
       "8  11601  Ba Đình    Ngọc Hà              Bắc Sơn        Ngọc Hà   \n",
       "9  10701  Ba Đình    Cống Vị                 Bưởi        Đội Cấn   \n",
       "\n",
       "  Street Name 3 Street Name 4  Longitude    Latitude  Traffic Level  \n",
       "0           NaN           NaN  21.046224  105.849289              1  \n",
       "1           NaN           NaN  21.042412  105.852127              1  \n",
       "2           NaN           NaN  21.046067  105.849022              1  \n",
       "3           NaN           NaN  21.034974  105.835874              1  \n",
       "4           NaN           NaN  21.033849  105.835607              2  \n",
       "5           NaN           NaN  21.035962  105.839265              1  \n",
       "6           NaN           NaN  21.035980  105.838074              1  \n",
       "7           NaN           NaN  21.036582  105.836578              1  \n",
       "8           NaN           NaN  21.037553  105.831080              1  \n",
       "9           NaN           NaN  21.037688  105.807348              3  "
      ]
     },
     "execution_count": 43,
     "metadata": {},
     "output_type": "execute_result"
    }
   ],
   "source": [
    "#Original dataframe\n",
    "original_df = pd.read_csv('Street Data_BaDinh.csv')\n",
    "#Drop duplicates\n",
    "new_df = original_df.drop_duplicates(subset=['Longitude','Latitude'])\n",
    "new_df.head(10)"
   ]
  },
  {
   "cell_type": "code",
   "execution_count": 44,
   "id": "00b90546",
   "metadata": {},
   "outputs": [
    {
     "name": "stdout",
     "output_type": "stream",
     "text": [
      "Index              0\n",
      "District           0\n",
      "Ward               0\n",
      "Street Name 1      0\n",
      "Street name 2      0\n",
      "Street Name 3    165\n",
      "Street Name 4    194\n",
      "Longitude          0\n",
      "Latitude           0\n",
      "Traffic Level      0\n",
      "dtype: int64 \n",
      "\n",
      "Index              int64\n",
      "District          object\n",
      "Ward              object\n",
      "Street Name 1     object\n",
      "Street name 2     object\n",
      "Street Name 3     object\n",
      "Street Name 4     object\n",
      "Longitude        float64\n",
      "Latitude         float64\n",
      "Traffic Level      int64\n",
      "dtype: object\n"
     ]
    }
   ],
   "source": [
    "#Count Missing Value\n",
    "print(new_df.isnull().sum(), \"\\n\")\n",
    "#Check Datatype\n",
    "print(new_df.dtypes)"
   ]
  },
  {
   "cell_type": "code",
   "execution_count": 45,
   "metadata": {},
   "outputs": [
    {
     "data": {
      "application/vnd.plotly.v1+json": {
       "config": {
        "plotlyServerURL": "https://plot.ly"
       },
       "data": [
        {
         "alignmentgroup": "True",
         "hovertemplate": "color=1<br>Ward=%{x}<br>count=%{y}<extra></extra>",
         "legendgroup": "1",
         "marker": {
          "color": "green",
          "pattern": {
           "shape": ""
          }
         },
         "name": "1",
         "offsetgroup": "1",
         "orientation": "v",
         "showlegend": true,
         "textposition": "auto",
         "type": "bar",
         "x": [
          "Phúc Xá",
          "Phúc Xá",
          "Phúc Xá",
          "Điện Biên",
          "Điện Biên",
          "Điện Biên",
          "Điện Biên",
          "Ngọc Hà",
          "Quán Thánh",
          "Trúc Bạch",
          "Trúc Bạch",
          "Trúc Bạch",
          "Trúc Bạch",
          "Điện Biên",
          "Điện Biên",
          "Quán Thánh",
          "Quán Thánh",
          "Trúc Bạch",
          "Quán Thánh",
          "Quán Thánh",
          "Điện Biên",
          "Nguyễn Trung Trực",
          "Nguyễn Trung Trực",
          "Nguyễn Trung Trực",
          "Quán Thánh",
          "Điện Biên",
          "Quán Thánh",
          "Nguyễn Trung Trực",
          "Điện Biên",
          "Điện Biên",
          "Điện Biên",
          "Giảng Võ",
          "Trúc Bạch",
          "Trúc Bạch",
          "Trúc Bạch",
          "Trúc Bạch",
          "Điện Biên",
          "Trúc Bạch",
          "Trúc Bạch",
          "Trúc Bạch",
          "Trúc Bạch",
          "Trúc Bạch",
          "Phúc Xá",
          "Kim Mã",
          "Trúc Bạch",
          "Trúc Bạch",
          "Quán Thánh",
          "Quán Thánh",
          "Ngọc Khánh",
          "Trúc Bạch",
          "Trúc Bạch",
          "Ngọc Hà",
          "Nguyễn Trung Trực",
          "Quán Thánh",
          "Nguyễn Trung Trực",
          "Điện Biên",
          "Trúc Bạch",
          "Quán Thánh",
          "Trúc Bạch"
         ],
         "xaxis": "x",
         "y": [
          1,
          1,
          1,
          1,
          1,
          1,
          1,
          1,
          1,
          1,
          1,
          1,
          1,
          1,
          1,
          1,
          1,
          1,
          1,
          1,
          1,
          1,
          1,
          1,
          1,
          1,
          1,
          1,
          1,
          1,
          1,
          1,
          1,
          1,
          1,
          1,
          1,
          1,
          1,
          1,
          1,
          1,
          1,
          1,
          1,
          1,
          1,
          1,
          1,
          1,
          1,
          1,
          1,
          1,
          1,
          1,
          1,
          1,
          1
         ],
         "yaxis": "y"
        },
        {
         "alignmentgroup": "True",
         "hovertemplate": "color=2<br>Ward=%{x}<br>count=%{y}<extra></extra>",
         "legendgroup": "2",
         "marker": {
          "color": "yellow",
          "pattern": {
           "shape": ""
          }
         },
         "name": "2",
         "offsetgroup": "2",
         "orientation": "v",
         "showlegend": true,
         "textposition": "auto",
         "type": "bar",
         "x": [
          "Điện Biên",
          "Cống Vị",
          "Điện Biên",
          "Điện Biên",
          "Điện Biên",
          "Ngọc Khánh",
          "Ngọc Khánh",
          "Điện Biên",
          "Điện Biên",
          "Quán Thánh",
          "Quán Thánh",
          "Trúc Bạch",
          "Trúc Bạch",
          "Trúc Bạch",
          "Cống Vị",
          "Ngọc Khánh",
          "Ngọc Khánh",
          "Điện Biên",
          "Điện Biên",
          "Điện Biên",
          "Điện Biên",
          "Điện Biên",
          "Liễu Giai",
          "Vĩnh Phúc",
          "Vĩnh Phúc",
          "Đội Cấn",
          "Kim Mã",
          "Giảng Võ",
          "Giảng Võ",
          "Giảng Võ",
          "Giảng Võ",
          "Kim Mã",
          "Nguyễn Trung Trực",
          "Nguyễn Trung Trực",
          "Nguyễn Trung Trực",
          "Nguyễn Trung Trực",
          "Nguyễn Trung Trực",
          "Quán Thánh",
          "Quán Thánh",
          "Nguyễn Trung Trực",
          "Nguyễn Trung Trực",
          "Nguyễn Trung Trực",
          "Nguyễn Trung Trực",
          "Nguyễn Trung Trực",
          "Điện Biên",
          "Điện Biên",
          "Điện Biên",
          "Quán Thánh",
          "Quán Thánh",
          "Liễu Giai",
          "Ngọc Hà",
          "Ngọc Hà",
          "Vĩnh Phúc",
          "Nguyễn Trung Trực",
          "Nguyễn Trung Trực",
          "Quán Thánh",
          "Phúc Xá",
          "Điện Biên",
          "Điện Biên",
          "Giảng Võ",
          "Kim Mã",
          "Kim Mã",
          "Ngọc Khánh",
          "Thành Công",
          "Điện Biên",
          "Điện Biên",
          "Giảng Võ",
          "Giảng Võ",
          "Ngọc Khánh",
          "Quán Thánh",
          "Ngọc Khánh",
          "Ngọc Khánh",
          "Thành Công",
          "Kim Mã",
          "Điện Biên",
          "Trúc Bạch",
          "Quán Thánh",
          "Quán Thánh",
          "Quán Thánh",
          "Liễu Giai",
          "Kim Mã",
          "Kim Mã",
          "Quán Thánh",
          "Quán Thánh",
          "Trúc Bạch",
          "Điện Biên",
          "Điện Biên",
          "Điện Biên",
          "Điện Biên",
          "Điện Biên",
          "Liễu Giai"
         ],
         "xaxis": "x",
         "y": [
          1,
          1,
          1,
          1,
          1,
          1,
          1,
          1,
          1,
          1,
          1,
          1,
          1,
          1,
          1,
          1,
          1,
          1,
          1,
          1,
          1,
          1,
          1,
          1,
          1,
          1,
          1,
          1,
          1,
          1,
          1,
          1,
          1,
          1,
          1,
          1,
          1,
          1,
          1,
          1,
          1,
          1,
          1,
          1,
          1,
          1,
          1,
          1,
          1,
          1,
          1,
          1,
          1,
          1,
          1,
          1,
          1,
          1,
          1,
          1,
          1,
          1,
          1,
          1,
          1,
          1,
          1,
          1,
          1,
          1,
          1,
          1,
          1,
          1,
          1,
          1,
          1,
          1,
          1,
          1,
          1,
          1,
          1,
          1,
          1,
          1,
          1,
          1,
          1,
          1,
          1
         ],
         "yaxis": "y"
        },
        {
         "alignmentgroup": "True",
         "hovertemplate": "color=3<br>Ward=%{x}<br>count=%{y}<extra></extra>",
         "legendgroup": "3",
         "marker": {
          "color": "red",
          "pattern": {
           "shape": ""
          }
         },
         "name": "3",
         "offsetgroup": "3",
         "orientation": "v",
         "showlegend": true,
         "textposition": "auto",
         "type": "bar",
         "x": [
          "Cống Vị",
          "Ngọc Khánh",
          "Ngọc Khánh",
          "Vĩnh Phúc",
          "Điện Biên",
          "Điện Biên",
          "Trúc Bạch",
          "Cống Vị",
          "Ngọc Khánh",
          "Giảng Võ",
          "Ngọc Khánh",
          "Thành Công",
          "Thành Công",
          "Điện Biên",
          "Điện Biên",
          "Điện Biên",
          "Điện Biên",
          "Cống Vị",
          "Cống Vị",
          "Đội Cấn",
          "Liễu Giai",
          "Liễu Giai",
          "Liễu Giai",
          "Kim Mã",
          "Quán Thánh",
          "Quán Thánh",
          "Nguyễn Trung Trực",
          "Ngọc Hà",
          "Quán Thánh",
          "Điện Biên",
          "Điện Biên",
          "Thành Công",
          "Thành Công",
          "Thành Công",
          "Giảng Võ",
          "Kim Mã",
          "Ngọc Khánh",
          "Cống Vị",
          "Cống Vị",
          "Điện Biên",
          "Điện Biên",
          "Liễu Giai",
          "Cống Vị",
          "Ngọc Khánh",
          "Ngọc Khánh",
          "Cống Vị",
          "Trúc Bạch"
         ],
         "xaxis": "x",
         "y": [
          1,
          1,
          1,
          1,
          1,
          1,
          1,
          1,
          1,
          1,
          1,
          1,
          1,
          1,
          1,
          1,
          1,
          1,
          1,
          1,
          1,
          1,
          1,
          1,
          1,
          1,
          1,
          1,
          1,
          1,
          1,
          1,
          1,
          1,
          1,
          1,
          1,
          1,
          1,
          1,
          1,
          1,
          1,
          1,
          1,
          1,
          1
         ],
         "yaxis": "y"
        }
       ],
       "layout": {
        "barmode": "relative",
        "legend": {
         "title": {
          "text": "color"
         },
         "tracegroupgap": 0
        },
        "margin": {
         "t": 60
        },
        "template": {
         "data": {
          "bar": [
           {
            "error_x": {
             "color": "#2a3f5f"
            },
            "error_y": {
             "color": "#2a3f5f"
            },
            "marker": {
             "line": {
              "color": "#E5ECF6",
              "width": 0.5
             },
             "pattern": {
              "fillmode": "overlay",
              "size": 10,
              "solidity": 0.2
             }
            },
            "type": "bar"
           }
          ],
          "barpolar": [
           {
            "marker": {
             "line": {
              "color": "#E5ECF6",
              "width": 0.5
             },
             "pattern": {
              "fillmode": "overlay",
              "size": 10,
              "solidity": 0.2
             }
            },
            "type": "barpolar"
           }
          ],
          "carpet": [
           {
            "aaxis": {
             "endlinecolor": "#2a3f5f",
             "gridcolor": "white",
             "linecolor": "white",
             "minorgridcolor": "white",
             "startlinecolor": "#2a3f5f"
            },
            "baxis": {
             "endlinecolor": "#2a3f5f",
             "gridcolor": "white",
             "linecolor": "white",
             "minorgridcolor": "white",
             "startlinecolor": "#2a3f5f"
            },
            "type": "carpet"
           }
          ],
          "choropleth": [
           {
            "colorbar": {
             "outlinewidth": 0,
             "ticks": ""
            },
            "type": "choropleth"
           }
          ],
          "contour": [
           {
            "colorbar": {
             "outlinewidth": 0,
             "ticks": ""
            },
            "colorscale": [
             [
              0,
              "#0d0887"
             ],
             [
              0.1111111111111111,
              "#46039f"
             ],
             [
              0.2222222222222222,
              "#7201a8"
             ],
             [
              0.3333333333333333,
              "#9c179e"
             ],
             [
              0.4444444444444444,
              "#bd3786"
             ],
             [
              0.5555555555555556,
              "#d8576b"
             ],
             [
              0.6666666666666666,
              "#ed7953"
             ],
             [
              0.7777777777777778,
              "#fb9f3a"
             ],
             [
              0.8888888888888888,
              "#fdca26"
             ],
             [
              1,
              "#f0f921"
             ]
            ],
            "type": "contour"
           }
          ],
          "contourcarpet": [
           {
            "colorbar": {
             "outlinewidth": 0,
             "ticks": ""
            },
            "type": "contourcarpet"
           }
          ],
          "heatmap": [
           {
            "colorbar": {
             "outlinewidth": 0,
             "ticks": ""
            },
            "colorscale": [
             [
              0,
              "#0d0887"
             ],
             [
              0.1111111111111111,
              "#46039f"
             ],
             [
              0.2222222222222222,
              "#7201a8"
             ],
             [
              0.3333333333333333,
              "#9c179e"
             ],
             [
              0.4444444444444444,
              "#bd3786"
             ],
             [
              0.5555555555555556,
              "#d8576b"
             ],
             [
              0.6666666666666666,
              "#ed7953"
             ],
             [
              0.7777777777777778,
              "#fb9f3a"
             ],
             [
              0.8888888888888888,
              "#fdca26"
             ],
             [
              1,
              "#f0f921"
             ]
            ],
            "type": "heatmap"
           }
          ],
          "heatmapgl": [
           {
            "colorbar": {
             "outlinewidth": 0,
             "ticks": ""
            },
            "colorscale": [
             [
              0,
              "#0d0887"
             ],
             [
              0.1111111111111111,
              "#46039f"
             ],
             [
              0.2222222222222222,
              "#7201a8"
             ],
             [
              0.3333333333333333,
              "#9c179e"
             ],
             [
              0.4444444444444444,
              "#bd3786"
             ],
             [
              0.5555555555555556,
              "#d8576b"
             ],
             [
              0.6666666666666666,
              "#ed7953"
             ],
             [
              0.7777777777777778,
              "#fb9f3a"
             ],
             [
              0.8888888888888888,
              "#fdca26"
             ],
             [
              1,
              "#f0f921"
             ]
            ],
            "type": "heatmapgl"
           }
          ],
          "histogram": [
           {
            "marker": {
             "pattern": {
              "fillmode": "overlay",
              "size": 10,
              "solidity": 0.2
             }
            },
            "type": "histogram"
           }
          ],
          "histogram2d": [
           {
            "colorbar": {
             "outlinewidth": 0,
             "ticks": ""
            },
            "colorscale": [
             [
              0,
              "#0d0887"
             ],
             [
              0.1111111111111111,
              "#46039f"
             ],
             [
              0.2222222222222222,
              "#7201a8"
             ],
             [
              0.3333333333333333,
              "#9c179e"
             ],
             [
              0.4444444444444444,
              "#bd3786"
             ],
             [
              0.5555555555555556,
              "#d8576b"
             ],
             [
              0.6666666666666666,
              "#ed7953"
             ],
             [
              0.7777777777777778,
              "#fb9f3a"
             ],
             [
              0.8888888888888888,
              "#fdca26"
             ],
             [
              1,
              "#f0f921"
             ]
            ],
            "type": "histogram2d"
           }
          ],
          "histogram2dcontour": [
           {
            "colorbar": {
             "outlinewidth": 0,
             "ticks": ""
            },
            "colorscale": [
             [
              0,
              "#0d0887"
             ],
             [
              0.1111111111111111,
              "#46039f"
             ],
             [
              0.2222222222222222,
              "#7201a8"
             ],
             [
              0.3333333333333333,
              "#9c179e"
             ],
             [
              0.4444444444444444,
              "#bd3786"
             ],
             [
              0.5555555555555556,
              "#d8576b"
             ],
             [
              0.6666666666666666,
              "#ed7953"
             ],
             [
              0.7777777777777778,
              "#fb9f3a"
             ],
             [
              0.8888888888888888,
              "#fdca26"
             ],
             [
              1,
              "#f0f921"
             ]
            ],
            "type": "histogram2dcontour"
           }
          ],
          "mesh3d": [
           {
            "colorbar": {
             "outlinewidth": 0,
             "ticks": ""
            },
            "type": "mesh3d"
           }
          ],
          "parcoords": [
           {
            "line": {
             "colorbar": {
              "outlinewidth": 0,
              "ticks": ""
             }
            },
            "type": "parcoords"
           }
          ],
          "pie": [
           {
            "automargin": true,
            "type": "pie"
           }
          ],
          "scatter": [
           {
            "fillpattern": {
             "fillmode": "overlay",
             "size": 10,
             "solidity": 0.2
            },
            "type": "scatter"
           }
          ],
          "scatter3d": [
           {
            "line": {
             "colorbar": {
              "outlinewidth": 0,
              "ticks": ""
             }
            },
            "marker": {
             "colorbar": {
              "outlinewidth": 0,
              "ticks": ""
             }
            },
            "type": "scatter3d"
           }
          ],
          "scattercarpet": [
           {
            "marker": {
             "colorbar": {
              "outlinewidth": 0,
              "ticks": ""
             }
            },
            "type": "scattercarpet"
           }
          ],
          "scattergeo": [
           {
            "marker": {
             "colorbar": {
              "outlinewidth": 0,
              "ticks": ""
             }
            },
            "type": "scattergeo"
           }
          ],
          "scattergl": [
           {
            "marker": {
             "colorbar": {
              "outlinewidth": 0,
              "ticks": ""
             }
            },
            "type": "scattergl"
           }
          ],
          "scattermapbox": [
           {
            "marker": {
             "colorbar": {
              "outlinewidth": 0,
              "ticks": ""
             }
            },
            "type": "scattermapbox"
           }
          ],
          "scatterpolar": [
           {
            "marker": {
             "colorbar": {
              "outlinewidth": 0,
              "ticks": ""
             }
            },
            "type": "scatterpolar"
           }
          ],
          "scatterpolargl": [
           {
            "marker": {
             "colorbar": {
              "outlinewidth": 0,
              "ticks": ""
             }
            },
            "type": "scatterpolargl"
           }
          ],
          "scatterternary": [
           {
            "marker": {
             "colorbar": {
              "outlinewidth": 0,
              "ticks": ""
             }
            },
            "type": "scatterternary"
           }
          ],
          "surface": [
           {
            "colorbar": {
             "outlinewidth": 0,
             "ticks": ""
            },
            "colorscale": [
             [
              0,
              "#0d0887"
             ],
             [
              0.1111111111111111,
              "#46039f"
             ],
             [
              0.2222222222222222,
              "#7201a8"
             ],
             [
              0.3333333333333333,
              "#9c179e"
             ],
             [
              0.4444444444444444,
              "#bd3786"
             ],
             [
              0.5555555555555556,
              "#d8576b"
             ],
             [
              0.6666666666666666,
              "#ed7953"
             ],
             [
              0.7777777777777778,
              "#fb9f3a"
             ],
             [
              0.8888888888888888,
              "#fdca26"
             ],
             [
              1,
              "#f0f921"
             ]
            ],
            "type": "surface"
           }
          ],
          "table": [
           {
            "cells": {
             "fill": {
              "color": "#EBF0F8"
             },
             "line": {
              "color": "white"
             }
            },
            "header": {
             "fill": {
              "color": "#C8D4E3"
             },
             "line": {
              "color": "white"
             }
            },
            "type": "table"
           }
          ]
         },
         "layout": {
          "annotationdefaults": {
           "arrowcolor": "#2a3f5f",
           "arrowhead": 0,
           "arrowwidth": 1
          },
          "autotypenumbers": "strict",
          "coloraxis": {
           "colorbar": {
            "outlinewidth": 0,
            "ticks": ""
           }
          },
          "colorscale": {
           "diverging": [
            [
             0,
             "#8e0152"
            ],
            [
             0.1,
             "#c51b7d"
            ],
            [
             0.2,
             "#de77ae"
            ],
            [
             0.3,
             "#f1b6da"
            ],
            [
             0.4,
             "#fde0ef"
            ],
            [
             0.5,
             "#f7f7f7"
            ],
            [
             0.6,
             "#e6f5d0"
            ],
            [
             0.7,
             "#b8e186"
            ],
            [
             0.8,
             "#7fbc41"
            ],
            [
             0.9,
             "#4d9221"
            ],
            [
             1,
             "#276419"
            ]
           ],
           "sequential": [
            [
             0,
             "#0d0887"
            ],
            [
             0.1111111111111111,
             "#46039f"
            ],
            [
             0.2222222222222222,
             "#7201a8"
            ],
            [
             0.3333333333333333,
             "#9c179e"
            ],
            [
             0.4444444444444444,
             "#bd3786"
            ],
            [
             0.5555555555555556,
             "#d8576b"
            ],
            [
             0.6666666666666666,
             "#ed7953"
            ],
            [
             0.7777777777777778,
             "#fb9f3a"
            ],
            [
             0.8888888888888888,
             "#fdca26"
            ],
            [
             1,
             "#f0f921"
            ]
           ],
           "sequentialminus": [
            [
             0,
             "#0d0887"
            ],
            [
             0.1111111111111111,
             "#46039f"
            ],
            [
             0.2222222222222222,
             "#7201a8"
            ],
            [
             0.3333333333333333,
             "#9c179e"
            ],
            [
             0.4444444444444444,
             "#bd3786"
            ],
            [
             0.5555555555555556,
             "#d8576b"
            ],
            [
             0.6666666666666666,
             "#ed7953"
            ],
            [
             0.7777777777777778,
             "#fb9f3a"
            ],
            [
             0.8888888888888888,
             "#fdca26"
            ],
            [
             1,
             "#f0f921"
            ]
           ]
          },
          "colorway": [
           "#636efa",
           "#EF553B",
           "#00cc96",
           "#ab63fa",
           "#FFA15A",
           "#19d3f3",
           "#FF6692",
           "#B6E880",
           "#FF97FF",
           "#FECB52"
          ],
          "font": {
           "color": "#2a3f5f"
          },
          "geo": {
           "bgcolor": "white",
           "lakecolor": "white",
           "landcolor": "#E5ECF6",
           "showlakes": true,
           "showland": true,
           "subunitcolor": "white"
          },
          "hoverlabel": {
           "align": "left"
          },
          "hovermode": "closest",
          "mapbox": {
           "style": "light"
          },
          "paper_bgcolor": "white",
          "plot_bgcolor": "#E5ECF6",
          "polar": {
           "angularaxis": {
            "gridcolor": "white",
            "linecolor": "white",
            "ticks": ""
           },
           "bgcolor": "#E5ECF6",
           "radialaxis": {
            "gridcolor": "white",
            "linecolor": "white",
            "ticks": ""
           }
          },
          "scene": {
           "xaxis": {
            "backgroundcolor": "#E5ECF6",
            "gridcolor": "white",
            "gridwidth": 2,
            "linecolor": "white",
            "showbackground": true,
            "ticks": "",
            "zerolinecolor": "white"
           },
           "yaxis": {
            "backgroundcolor": "#E5ECF6",
            "gridcolor": "white",
            "gridwidth": 2,
            "linecolor": "white",
            "showbackground": true,
            "ticks": "",
            "zerolinecolor": "white"
           },
           "zaxis": {
            "backgroundcolor": "#E5ECF6",
            "gridcolor": "white",
            "gridwidth": 2,
            "linecolor": "white",
            "showbackground": true,
            "ticks": "",
            "zerolinecolor": "white"
           }
          },
          "shapedefaults": {
           "line": {
            "color": "#2a3f5f"
           }
          },
          "ternary": {
           "aaxis": {
            "gridcolor": "white",
            "linecolor": "white",
            "ticks": ""
           },
           "baxis": {
            "gridcolor": "white",
            "linecolor": "white",
            "ticks": ""
           },
           "bgcolor": "#E5ECF6",
           "caxis": {
            "gridcolor": "white",
            "linecolor": "white",
            "ticks": ""
           }
          },
          "title": {
           "x": 0.05
          },
          "xaxis": {
           "automargin": true,
           "gridcolor": "white",
           "linecolor": "white",
           "ticks": "",
           "title": {
            "standoff": 15
           },
           "zerolinecolor": "white",
           "zerolinewidth": 2
          },
          "yaxis": {
           "automargin": true,
           "gridcolor": "white",
           "linecolor": "white",
           "ticks": "",
           "title": {
            "standoff": 15
           },
           "zerolinecolor": "white",
           "zerolinewidth": 2
          }
         }
        },
        "xaxis": {
         "anchor": "y",
         "domain": [
          0,
          1
         ],
         "title": {
          "text": "Ward"
         }
        },
        "yaxis": {
         "anchor": "x",
         "domain": [
          0,
          1
         ],
         "title": {
          "text": "count"
         }
        }
       }
      }
     },
     "metadata": {},
     "output_type": "display_data"
    }
   ],
   "source": [
    "fig = px.bar(new_df, x=\"Ward\", color=new_df[\"Traffic Level\"].astype(str), color_discrete_map={\"3\": \"red\",\"1\": \"green\",\"2\": \"yellow\"})\n",
    "fig.show()"
   ]
  },
  {
   "cell_type": "code",
   "execution_count": 46,
   "id": "ded5351d-31ab-42ec-8028-df61bb17f651",
   "metadata": {},
   "outputs": [
    {
     "data": {
      "text/html": [
       "<div>\n",
       "<style scoped>\n",
       "    .dataframe tbody tr th:only-of-type {\n",
       "        vertical-align: middle;\n",
       "    }\n",
       "\n",
       "    .dataframe tbody tr th {\n",
       "        vertical-align: top;\n",
       "    }\n",
       "\n",
       "    .dataframe thead th {\n",
       "        text-align: right;\n",
       "    }\n",
       "</style>\n",
       "<table border=\"1\" class=\"dataframe\">\n",
       "  <thead>\n",
       "    <tr style=\"text-align: right;\">\n",
       "      <th></th>\n",
       "      <th>Longitude</th>\n",
       "      <th>Latitude</th>\n",
       "      <th>Traffic Level</th>\n",
       "    </tr>\n",
       "  </thead>\n",
       "  <tbody>\n",
       "    <tr>\n",
       "      <th>0</th>\n",
       "      <td>21.046224</td>\n",
       "      <td>105.849289</td>\n",
       "      <td>1</td>\n",
       "    </tr>\n",
       "    <tr>\n",
       "      <th>1</th>\n",
       "      <td>21.042412</td>\n",
       "      <td>105.852127</td>\n",
       "      <td>1</td>\n",
       "    </tr>\n",
       "    <tr>\n",
       "      <th>2</th>\n",
       "      <td>21.046067</td>\n",
       "      <td>105.849022</td>\n",
       "      <td>1</td>\n",
       "    </tr>\n",
       "    <tr>\n",
       "      <th>3</th>\n",
       "      <td>21.034974</td>\n",
       "      <td>105.835874</td>\n",
       "      <td>1</td>\n",
       "    </tr>\n",
       "    <tr>\n",
       "      <th>4</th>\n",
       "      <td>21.033849</td>\n",
       "      <td>105.835607</td>\n",
       "      <td>2</td>\n",
       "    </tr>\n",
       "    <tr>\n",
       "      <th>5</th>\n",
       "      <td>21.035962</td>\n",
       "      <td>105.839265</td>\n",
       "      <td>1</td>\n",
       "    </tr>\n",
       "    <tr>\n",
       "      <th>6</th>\n",
       "      <td>21.035980</td>\n",
       "      <td>105.838074</td>\n",
       "      <td>1</td>\n",
       "    </tr>\n",
       "    <tr>\n",
       "      <th>7</th>\n",
       "      <td>21.036582</td>\n",
       "      <td>105.836578</td>\n",
       "      <td>1</td>\n",
       "    </tr>\n",
       "    <tr>\n",
       "      <th>8</th>\n",
       "      <td>21.037553</td>\n",
       "      <td>105.831080</td>\n",
       "      <td>1</td>\n",
       "    </tr>\n",
       "    <tr>\n",
       "      <th>9</th>\n",
       "      <td>21.037688</td>\n",
       "      <td>105.807348</td>\n",
       "      <td>3</td>\n",
       "    </tr>\n",
       "  </tbody>\n",
       "</table>\n",
       "</div>"
      ],
      "text/plain": [
       "   Longitude    Latitude  Traffic Level\n",
       "0  21.046224  105.849289              1\n",
       "1  21.042412  105.852127              1\n",
       "2  21.046067  105.849022              1\n",
       "3  21.034974  105.835874              1\n",
       "4  21.033849  105.835607              2\n",
       "5  21.035962  105.839265              1\n",
       "6  21.035980  105.838074              1\n",
       "7  21.036582  105.836578              1\n",
       "8  21.037553  105.831080              1\n",
       "9  21.037688  105.807348              3"
      ]
     },
     "execution_count": 46,
     "metadata": {},
     "output_type": "execute_result"
    }
   ],
   "source": [
    "#Cordinates and Traffic Level\n",
    "main = new_df.iloc[:,[7,8,9]]\n",
    "main.head(10)"
   ]
  },
  {
   "cell_type": "code",
   "execution_count": 47,
   "id": "b7f08fc0-0b74-45fa-8a30-ee175eb305fe",
   "metadata": {},
   "outputs": [
    {
     "data": {
      "text/html": [
       "<div>\n",
       "<style scoped>\n",
       "    .dataframe tbody tr th:only-of-type {\n",
       "        vertical-align: middle;\n",
       "    }\n",
       "\n",
       "    .dataframe tbody tr th {\n",
       "        vertical-align: top;\n",
       "    }\n",
       "\n",
       "    .dataframe thead th {\n",
       "        text-align: right;\n",
       "    }\n",
       "</style>\n",
       "<table border=\"1\" class=\"dataframe\">\n",
       "  <thead>\n",
       "    <tr style=\"text-align: right;\">\n",
       "      <th></th>\n",
       "      <th>Longitude</th>\n",
       "      <th>Latitude</th>\n",
       "    </tr>\n",
       "  </thead>\n",
       "  <tbody>\n",
       "    <tr>\n",
       "      <th>0</th>\n",
       "      <td>21.046224</td>\n",
       "      <td>105.849289</td>\n",
       "    </tr>\n",
       "    <tr>\n",
       "      <th>1</th>\n",
       "      <td>21.042412</td>\n",
       "      <td>105.852127</td>\n",
       "    </tr>\n",
       "    <tr>\n",
       "      <th>2</th>\n",
       "      <td>21.046067</td>\n",
       "      <td>105.849022</td>\n",
       "    </tr>\n",
       "    <tr>\n",
       "      <th>3</th>\n",
       "      <td>21.034974</td>\n",
       "      <td>105.835874</td>\n",
       "    </tr>\n",
       "    <tr>\n",
       "      <th>5</th>\n",
       "      <td>21.035962</td>\n",
       "      <td>105.839265</td>\n",
       "    </tr>\n",
       "    <tr>\n",
       "      <th>6</th>\n",
       "      <td>21.035980</td>\n",
       "      <td>105.838074</td>\n",
       "    </tr>\n",
       "    <tr>\n",
       "      <th>7</th>\n",
       "      <td>21.036582</td>\n",
       "      <td>105.836578</td>\n",
       "    </tr>\n",
       "    <tr>\n",
       "      <th>8</th>\n",
       "      <td>21.037553</td>\n",
       "      <td>105.831080</td>\n",
       "    </tr>\n",
       "    <tr>\n",
       "      <th>20</th>\n",
       "      <td>21.042534</td>\n",
       "      <td>105.841838</td>\n",
       "    </tr>\n",
       "    <tr>\n",
       "      <th>21</th>\n",
       "      <td>21.043551</td>\n",
       "      <td>105.842065</td>\n",
       "    </tr>\n",
       "  </tbody>\n",
       "</table>\n",
       "</div>"
      ],
      "text/plain": [
       "    Longitude    Latitude\n",
       "0   21.046224  105.849289\n",
       "1   21.042412  105.852127\n",
       "2   21.046067  105.849022\n",
       "3   21.034974  105.835874\n",
       "5   21.035962  105.839265\n",
       "6   21.035980  105.838074\n",
       "7   21.036582  105.836578\n",
       "8   21.037553  105.831080\n",
       "20  21.042534  105.841838\n",
       "21  21.043551  105.842065"
      ]
     },
     "execution_count": 47,
     "metadata": {},
     "output_type": "execute_result"
    }
   ],
   "source": [
    "#Cordinates for Traffic Level 1 \n",
    "TF_1 = main[main['Traffic Level'] == 1].iloc[:,[0,1]]\n",
    "TF_1.head(10)"
   ]
  },
  {
   "cell_type": "code",
   "execution_count": 48,
   "id": "9821aaf0-4e60-4466-bba1-a1f55684435f",
   "metadata": {
    "tags": []
   },
   "outputs": [
    {
     "data": {
      "text/html": [
       "<div>\n",
       "<style scoped>\n",
       "    .dataframe tbody tr th:only-of-type {\n",
       "        vertical-align: middle;\n",
       "    }\n",
       "\n",
       "    .dataframe tbody tr th {\n",
       "        vertical-align: top;\n",
       "    }\n",
       "\n",
       "    .dataframe thead th {\n",
       "        text-align: right;\n",
       "    }\n",
       "</style>\n",
       "<table border=\"1\" class=\"dataframe\">\n",
       "  <thead>\n",
       "    <tr style=\"text-align: right;\">\n",
       "      <th></th>\n",
       "      <th>Longitude</th>\n",
       "      <th>Latitude</th>\n",
       "    </tr>\n",
       "  </thead>\n",
       "  <tbody>\n",
       "    <tr>\n",
       "      <th>4</th>\n",
       "      <td>21.033849</td>\n",
       "      <td>105.835607</td>\n",
       "    </tr>\n",
       "    <tr>\n",
       "      <th>10</th>\n",
       "      <td>21.036802</td>\n",
       "      <td>105.806949</td>\n",
       "    </tr>\n",
       "    <tr>\n",
       "      <th>14</th>\n",
       "      <td>21.030388</td>\n",
       "      <td>105.838591</td>\n",
       "    </tr>\n",
       "    <tr>\n",
       "      <th>15</th>\n",
       "      <td>21.029578</td>\n",
       "      <td>105.841557</td>\n",
       "    </tr>\n",
       "    <tr>\n",
       "      <th>16</th>\n",
       "      <td>21.030178</td>\n",
       "      <td>105.836997</td>\n",
       "    </tr>\n",
       "    <tr>\n",
       "      <th>18</th>\n",
       "      <td>21.028600</td>\n",
       "      <td>105.805231</td>\n",
       "    </tr>\n",
       "    <tr>\n",
       "      <th>19</th>\n",
       "      <td>21.028430</td>\n",
       "      <td>105.805509</td>\n",
       "    </tr>\n",
       "    <tr>\n",
       "      <th>25</th>\n",
       "      <td>21.034975</td>\n",
       "      <td>105.836843</td>\n",
       "    </tr>\n",
       "    <tr>\n",
       "      <th>26</th>\n",
       "      <td>21.033652</td>\n",
       "      <td>105.836641</td>\n",
       "    </tr>\n",
       "    <tr>\n",
       "      <th>33</th>\n",
       "      <td>21.040651</td>\n",
       "      <td>105.842084</td>\n",
       "    </tr>\n",
       "  </tbody>\n",
       "</table>\n",
       "</div>"
      ],
      "text/plain": [
       "    Longitude    Latitude\n",
       "4   21.033849  105.835607\n",
       "10  21.036802  105.806949\n",
       "14  21.030388  105.838591\n",
       "15  21.029578  105.841557\n",
       "16  21.030178  105.836997\n",
       "18  21.028600  105.805231\n",
       "19  21.028430  105.805509\n",
       "25  21.034975  105.836843\n",
       "26  21.033652  105.836641\n",
       "33  21.040651  105.842084"
      ]
     },
     "execution_count": 48,
     "metadata": {},
     "output_type": "execute_result"
    }
   ],
   "source": [
    "#Cordinates for Traffic Level 2\n",
    "TF_2 = main[main['Traffic Level'] == 2].iloc[:,[0,1]]\n",
    "TF_2.head(10)"
   ]
  },
  {
   "cell_type": "code",
   "execution_count": 49,
   "id": "ac0aa9c9-b758-4f82-8e74-e4d571330137",
   "metadata": {
    "tags": []
   },
   "outputs": [
    {
     "data": {
      "text/html": [
       "<div>\n",
       "<style scoped>\n",
       "    .dataframe tbody tr th:only-of-type {\n",
       "        vertical-align: middle;\n",
       "    }\n",
       "\n",
       "    .dataframe tbody tr th {\n",
       "        vertical-align: top;\n",
       "    }\n",
       "\n",
       "    .dataframe thead th {\n",
       "        text-align: right;\n",
       "    }\n",
       "</style>\n",
       "<table border=\"1\" class=\"dataframe\">\n",
       "  <thead>\n",
       "    <tr style=\"text-align: right;\">\n",
       "      <th></th>\n",
       "      <th>Longitude</th>\n",
       "      <th>Latitude</th>\n",
       "    </tr>\n",
       "  </thead>\n",
       "  <tbody>\n",
       "    <tr>\n",
       "      <th>9</th>\n",
       "      <td>21.037688</td>\n",
       "      <td>105.807348</td>\n",
       "    </tr>\n",
       "    <tr>\n",
       "      <th>11</th>\n",
       "      <td>21.034335</td>\n",
       "      <td>105.805245</td>\n",
       "    </tr>\n",
       "    <tr>\n",
       "      <th>12</th>\n",
       "      <td>21.029744</td>\n",
       "      <td>105.802636</td>\n",
       "    </tr>\n",
       "    <tr>\n",
       "      <th>13</th>\n",
       "      <td>21.047508</td>\n",
       "      <td>105.806128</td>\n",
       "    </tr>\n",
       "    <tr>\n",
       "      <th>27</th>\n",
       "      <td>21.031582</td>\n",
       "      <td>105.836236</td>\n",
       "    </tr>\n",
       "    <tr>\n",
       "      <th>28</th>\n",
       "      <td>21.030390</td>\n",
       "      <td>105.836007</td>\n",
       "    </tr>\n",
       "    <tr>\n",
       "      <th>38</th>\n",
       "      <td>21.045600</td>\n",
       "      <td>105.843339</td>\n",
       "    </tr>\n",
       "    <tr>\n",
       "      <th>44</th>\n",
       "      <td>21.032382</td>\n",
       "      <td>105.809576</td>\n",
       "    </tr>\n",
       "    <tr>\n",
       "      <th>48</th>\n",
       "      <td>21.030593</td>\n",
       "      <td>105.815841</td>\n",
       "    </tr>\n",
       "    <tr>\n",
       "      <th>49</th>\n",
       "      <td>21.023419</td>\n",
       "      <td>105.819744</td>\n",
       "    </tr>\n",
       "  </tbody>\n",
       "</table>\n",
       "</div>"
      ],
      "text/plain": [
       "    Longitude    Latitude\n",
       "9   21.037688  105.807348\n",
       "11  21.034335  105.805245\n",
       "12  21.029744  105.802636\n",
       "13  21.047508  105.806128\n",
       "27  21.031582  105.836236\n",
       "28  21.030390  105.836007\n",
       "38  21.045600  105.843339\n",
       "44  21.032382  105.809576\n",
       "48  21.030593  105.815841\n",
       "49  21.023419  105.819744"
      ]
     },
     "execution_count": 49,
     "metadata": {},
     "output_type": "execute_result"
    }
   ],
   "source": [
    "#Cordinates for Traffic Level 3\n",
    "TF_3 = main[main['Traffic Level'] == 3].iloc[:,[0,1]]\n",
    "TF_3.head(10)"
   ]
  },
  {
   "cell_type": "markdown",
   "id": "e4e290ab-ff67-4ec4-baf0-85e297de3ee9",
   "metadata": {
    "tags": []
   },
   "source": [
    "#Training Model for Traffic Level 1\n",
    "model1 = DBSCAN(0.005,min_samples=5).fit(cluster1)\n",
    "TF_1['labels'] = model1.labels_\n",
    "print((TF_1['labels']).value_counts())\n",
    "score1 = ss(cluster1, TF_1['labels'])\n",
    "score1"
   ]
  },
  {
   "cell_type": "markdown",
   "id": "9196024d-819f-42d9-9728-c8d3ea43e389",
   "metadata": {
    "tags": []
   },
   "source": [
    "after_fig1 = px.scatter(TF_1, \n",
    "                        x = \"Latitude\",\n",
    "                        y = \"Longitude\", \n",
    "                        color=TF_1['labels'].astype(str),\n",
    "                        labels={\"color\" : \"Cluster\"},\n",
    "                      ) #Default eps, min\n",
    "after_fig1.update_layout(\n",
    "            title={\n",
    "            'text' : \"Area with traffic level 1\",\n",
    "            'x':0.5,\n",
    "            'xanchor': 'center',\n",
    "        })\n",
    "after_fig1"
   ]
  },
  {
   "cell_type": "markdown",
   "id": "67ee8251-dad5-4b87-b583-01cec9c224dd",
   "metadata": {
    "tags": []
   },
   "source": [
    "#Training Model for Traffic Level 2\n",
    "model2 = DBSCAN(0.005, min_samples=5).fit(cluster2)\n",
    "TF_2['labels'] = model2.labels_\n",
    "print(TF_2['labels'].value_counts())\n",
    "score2 = ss(cluster2, TF_2['labels'])\n",
    "score2"
   ]
  },
  {
   "cell_type": "markdown",
   "id": "ef202984-9dc5-42ab-83aa-d80f280b7a6f",
   "metadata": {
    "tags": []
   },
   "source": [
    "after_fig2 = px.scatter(TF_2,\n",
    "                        x = \"Latitude\" , \n",
    "                        y = \"Longitude\", \n",
    "                        color=TF_2['labels'].astype(str),\n",
    "                        labels={\"color\" : \"Cluster\"},\n",
    "                        )\n",
    "after_fig2.update_layout(\n",
    "            title={\n",
    "            'text' : \"Area with traffic level 2\",\n",
    "            'x':0.5,\n",
    "            'xanchor': 'center',\n",
    "        })\n",
    "after_fig2"
   ]
  },
  {
   "cell_type": "markdown",
   "id": "b5865645-0785-4415-b100-0e67d4ed474f",
   "metadata": {
    "tags": []
   },
   "source": [
    "#Training Model for Traffic Level 3\n",
    "model3 = DBSCAN(0.005,min_samples=5).fit(cluster3) \n",
    "TF_3['labels']= model3.labels_\n",
    "print(TF_3['labels'].value_counts())\n",
    "score3 = ss(cluster3, TF_3['labels'])\n",
    "score3"
   ]
  },
  {
   "cell_type": "markdown",
   "id": "e001ecb0-69fd-4ef7-a348-4170b7a06486",
   "metadata": {
    "tags": []
   },
   "source": [
    "after_fig3 = px.scatter(TF_3, \n",
    "                        x = \"Latitude\",\n",
    "                        y = \"Longitude\", \n",
    "                        color=TF_3['labels'].astype(str),\n",
    "                        labels={\"color\" : \"Cluster\"})\n",
    "after_fig3.update_layout(\n",
    "            title={\n",
    "            'text' : \"Area with traffic level 3\",\n",
    "            'x':0.5,\n",
    "            'xanchor': 'center',\n",
    "        })\n",
    "after_fig3"
   ]
  },
  {
   "cell_type": "code",
   "execution_count": 50,
   "id": "2c736ee0",
   "metadata": {},
   "outputs": [],
   "source": [
    "#Setting Param ranges\n",
    "cluster1 = TF_1.to_numpy()\n",
    "cluster2 = TF_2.to_numpy()\n",
    "cluster3 = TF_3.to_numpy()\n",
    "epsilon1 = np.linspace(0.0003, 0.0049, num=1000).tolist()\n",
    "epsilon2 = np.linspace(0.0013, 0.0073, num=1000).tolist()\n",
    "epsilon3 = np.linspace(0.001, 0.0098, num=1000).tolist()\n",
    "min_samples = [3,4,5,6,7]"
   ]
  },
  {
   "cell_type": "code",
   "execution_count": 51,
   "id": "f10a7c6c-01e3-4f4a-8692-2a4515478e61",
   "metadata": {},
   "outputs": [],
   "source": [
    "#Function to search through Parameters\n",
    "def getScore(dataset,epss,min_sampless,min_score,min_num_clus):\n",
    "    if epss == epsilon1:\n",
    "        cluster = cluster1\n",
    "    elif epss == epsilon2:\n",
    "        cluster = cluster2\n",
    "    elif epss == epsilon3:\n",
    "        cluster = cluster3\n",
    "    loop_count = 1\n",
    "    #Loop through parameters from combinations\n",
    "    for i, (epsilon, min_sample) in enumerate(list(it.product(epss, min_sampless))):\n",
    "        #Fit model\n",
    "        model = DBSCAN(eps = epsilon, min_samples = min_sample).fit(cluster)\n",
    "        #Get lables\n",
    "        dataset['labels'] = model.labels_\n",
    "        num_clus = len(dataset['labels'].value_counts()) \n",
    "        #Get scores\n",
    "        if num_clus > 2:\n",
    "            score = ss(cluster, dataset['labels'])\n",
    "            if score >= min_score and num_clus > min_num_clus: \n",
    "                print(\"Loop number:\",loop_count,\"| Parameters:\", epsilon,\",\", min_sample,\"| Score for Trafic Level 1:\", score,\"| Number of clusters:\", num_clus)\n",
    "        loop_count += 1"
   ]
  },
  {
   "cell_type": "code",
   "execution_count": 52,
   "id": "802a0324",
   "metadata": {},
   "outputs": [
    {
     "name": "stdout",
     "output_type": "stream",
     "text": [
      "Loop number: 2890 | Parameters: 0.0029568568568568566 , 7 | Score for Trafic Level 1: 0.4148832460474392 | Number of clusters: 4\n",
      "Loop number: 2895 | Parameters: 0.0029614614614614614 , 7 | Score for Trafic Level 1: 0.4148832460474392 | Number of clusters: 4\n",
      "Loop number: 2900 | Parameters: 0.002966066066066066 , 7 | Score for Trafic Level 1: 0.4148832460474392 | Number of clusters: 4\n",
      "Loop number: 2905 | Parameters: 0.0029706706706706704 , 7 | Score for Trafic Level 1: 0.4148832460474392 | Number of clusters: 4\n",
      "Loop number: 2910 | Parameters: 0.002975275275275275 , 7 | Score for Trafic Level 1: 0.4148832460474392 | Number of clusters: 4\n",
      "Loop number: 2915 | Parameters: 0.00297987987987988 , 7 | Score for Trafic Level 1: 0.4148832460474392 | Number of clusters: 4\n",
      "Loop number: 2920 | Parameters: 0.0029844844844844846 , 7 | Score for Trafic Level 1: 0.4148832460474392 | Number of clusters: 4\n",
      "Loop number: 2925 | Parameters: 0.002989089089089089 , 7 | Score for Trafic Level 1: 0.4148832460474392 | Number of clusters: 4\n"
     ]
    }
   ],
   "source": [
    "getScore(TF_1,epsilon1,min_samples,min_score=0.414,min_num_clus=3)"
   ]
  },
  {
   "cell_type": "code",
   "execution_count": 53,
   "id": "b66d7175",
   "metadata": {},
   "outputs": [
    {
     "name": "stdout",
     "output_type": "stream",
     "text": [
      "Loop number: 2917 | Parameters: 0.0048015015015015015 , 4 | Score for Trafic Level 1: 0.4610507666492643 | Number of clusters: 4\n",
      "Loop number: 2922 | Parameters: 0.004807507507507507 , 4 | Score for Trafic Level 1: 0.4610507666492643 | Number of clusters: 4\n",
      "Loop number: 2927 | Parameters: 0.004813513513513513 , 4 | Score for Trafic Level 1: 0.4610507666492643 | Number of clusters: 4\n",
      "Loop number: 2932 | Parameters: 0.004819519519519519 , 4 | Score for Trafic Level 1: 0.4610507666492643 | Number of clusters: 4\n",
      "Loop number: 2937 | Parameters: 0.004825525525525526 , 4 | Score for Trafic Level 1: 0.4610507666492643 | Number of clusters: 4\n",
      "Loop number: 2942 | Parameters: 0.0048315315315315315 , 4 | Score for Trafic Level 1: 0.4610507666492643 | Number of clusters: 4\n",
      "Loop number: 2947 | Parameters: 0.004837537537537537 , 4 | Score for Trafic Level 1: 0.4610507666492643 | Number of clusters: 4\n"
     ]
    }
   ],
   "source": [
    "getScore(TF_2,epsilon2,min_samples,min_score=0.461,min_num_clus=3)"
   ]
  },
  {
   "cell_type": "code",
   "execution_count": 54,
   "id": "e028fdc9",
   "metadata": {},
   "outputs": [
    {
     "name": "stdout",
     "output_type": "stream",
     "text": [
      "Loop number: 2726 | Parameters: 0.005800800800800801 , 3 | Score for Trafic Level 1: 0.5171859719938379 | Number of clusters: 4\n",
      "Loop number: 2731 | Parameters: 0.00580960960960961 , 3 | Score for Trafic Level 1: 0.5171859719938379 | Number of clusters: 4\n",
      "Loop number: 2736 | Parameters: 0.005818418418418418 , 3 | Score for Trafic Level 1: 0.5171859719938379 | Number of clusters: 4\n",
      "Loop number: 2741 | Parameters: 0.0058272272272272265 , 3 | Score for Trafic Level 1: 0.5171859719938379 | Number of clusters: 4\n",
      "Loop number: 2746 | Parameters: 0.0058360360360360354 , 3 | Score for Trafic Level 1: 0.5171859719938379 | Number of clusters: 4\n",
      "Loop number: 2751 | Parameters: 0.005844844844844844 , 3 | Score for Trafic Level 1: 0.5171859719938379 | Number of clusters: 4\n",
      "Loop number: 2756 | Parameters: 0.005853653653653653 , 3 | Score for Trafic Level 1: 0.5171859719938379 | Number of clusters: 4\n",
      "Loop number: 2761 | Parameters: 0.005862462462462462 , 3 | Score for Trafic Level 1: 0.5171859719938379 | Number of clusters: 4\n",
      "Loop number: 2766 | Parameters: 0.005871271271271271 , 3 | Score for Trafic Level 1: 0.5171859719938379 | Number of clusters: 4\n",
      "Loop number: 2771 | Parameters: 0.00588008008008008 , 3 | Score for Trafic Level 1: 0.5171859719938379 | Number of clusters: 4\n",
      "Loop number: 2776 | Parameters: 0.005888888888888889 , 3 | Score for Trafic Level 1: 0.5171859719938379 | Number of clusters: 4\n",
      "Loop number: 2781 | Parameters: 0.005897697697697698 , 3 | Score for Trafic Level 1: 0.5171859719938379 | Number of clusters: 4\n",
      "Loop number: 2786 | Parameters: 0.005906506506506506 , 3 | Score for Trafic Level 1: 0.5171859719938379 | Number of clusters: 4\n"
     ]
    }
   ],
   "source": [
    "getScore(TF_3,epsilon3,min_samples,min_score=0.517,min_num_clus=3)"
   ]
  },
  {
   "cell_type": "code",
   "execution_count": 66,
   "id": "7f2faeb4",
   "metadata": {},
   "outputs": [
    {
     "name": "stdout",
     "output_type": "stream",
     "text": [
      " 1    28\n",
      " 0    15\n",
      "-1    10\n",
      " 2     6\n",
      "Name: labels, dtype: int64\n",
      "Silhouette score: 0.4148832460474392\n"
     ]
    }
   ],
   "source": [
    "#Training Model for Traffic Level 1\n",
    "model1 = DBSCAN(eps=0.00296,min_samples=7).fit(cluster1)\n",
    "TF_1['labels'] = model1.labels_\n",
    "print((TF_1['labels']).value_counts())\n",
    "score1 = ss(cluster1, TF_1['labels'])\n",
    "print(\"Silhouette score:\", score1)"
   ]
  },
  {
   "cell_type": "code",
   "execution_count": 56,
   "id": "8f49d208",
   "metadata": {},
   "outputs": [
    {
     "data": {
      "application/vnd.plotly.v1+json": {
       "config": {
        "plotlyServerURL": "https://plot.ly"
       },
       "data": [
        {
         "hovertemplate": "Cluster=-1<br>Latitude=%{x}<br>Longitude=%{y}<extra></extra>",
         "legendgroup": "-1",
         "marker": {
          "color": "red",
          "symbol": "circle"
         },
         "mode": "markers",
         "name": "-1",
         "orientation": "v",
         "showlegend": true,
         "type": "scatter",
         "x": [
          105.849289,
          105.852127,
          105.849022,
          105.83108,
          105.837094,
          105.81725,
          105.847588,
          105.812259,
          105.841196,
          105.838963
         ],
         "xaxis": "x",
         "y": [
          21.046224,
          21.042412,
          21.046067,
          21.037553,
          21.031483,
          21.030448,
          21.047524,
          21.028839,
          21.035667,
          21.04952
         ],
         "yaxis": "y"
        },
        {
         "hovertemplate": "Cluster=0<br>Latitude=%{x}<br>Longitude=%{y}<extra></extra>",
         "legendgroup": "0",
         "marker": {
          "color": "#636EFA",
          "symbol": "circle"
         },
         "mode": "markers",
         "name": "0",
         "orientation": "v",
         "showlegend": true,
         "type": "scatter",
         "x": [
          105.835874,
          105.839265,
          105.838074,
          105.836578,
          105.833888,
          105.834841,
          105.836341,
          105.835663,
          105.837502,
          105.834579,
          105.837538,
          105.832902,
          105.831365,
          105.833555,
          105.833394
         ],
         "xaxis": "x",
         "y": [
          21.034974,
          21.035962,
          21.03598,
          21.036582,
          21.03537,
          21.035173,
          21.035568,
          21.039088,
          21.038814,
          21.034033,
          21.033453,
          21.0329,
          21.032961,
          21.033303,
          21.032889
         ],
         "yaxis": "y"
        },
        {
         "hovertemplate": "Cluster=1<br>Latitude=%{x}<br>Longitude=%{y}<extra></extra>",
         "legendgroup": "1",
         "marker": {
          "color": "#00cc96",
          "symbol": "circle"
         },
         "mode": "markers",
         "name": "1",
         "orientation": "v",
         "showlegend": true,
         "type": "scatter",
         "x": [
          105.841838,
          105.842065,
          105.842343,
          105.84237,
          105.842768,
          105.841353,
          105.841038,
          105.841567,
          105.838036,
          105.837999,
          105.841124,
          105.841366,
          105.841327,
          105.841482,
          105.840834,
          105.840311,
          105.840634,
          105.840317,
          105.840769,
          105.842074,
          105.840902,
          105.840192,
          105.837986,
          105.84098,
          105.841085,
          105.84609,
          105.844601,
          105.843814
         ],
         "xaxis": "x",
         "y": [
          21.042534,
          21.043551,
          21.0446,
          21.044883,
          21.046469,
          21.042619,
          21.040868,
          21.043679,
          21.04274,
          21.041394,
          21.047146,
          21.045481,
          21.046711,
          21.046202,
          21.046557,
          21.046387,
          21.045312,
          21.045883,
          21.047028,
          21.046316,
          21.046041,
          21.043315,
          21.041348,
          21.045402,
          21.044697,
          21.042162,
          21.043763,
          21.042099
         ],
         "yaxis": "y"
        },
        {
         "hovertemplate": "Cluster=2<br>Latitude=%{x}<br>Longitude=%{y}<extra></extra>",
         "legendgroup": "2",
         "marker": {
          "color": "#ab63fa",
          "symbol": "circle"
         },
         "mode": "markers",
         "name": "2",
         "orientation": "v",
         "showlegend": true,
         "type": "scatter",
         "x": [
          105.848554,
          105.84921,
          105.847502,
          105.847608,
          105.848288,
          105.848943
         ],
         "xaxis": "x",
         "y": [
          21.040326,
          21.04047,
          21.040904,
          21.040351,
          21.041098,
          21.04126
         ],
         "yaxis": "y"
        }
       ],
       "layout": {
        "legend": {
         "title": {
          "text": "Cluster"
         },
         "tracegroupgap": 0
        },
        "margin": {
         "t": 60
        },
        "template": {
         "data": {
          "bar": [
           {
            "error_x": {
             "color": "#2a3f5f"
            },
            "error_y": {
             "color": "#2a3f5f"
            },
            "marker": {
             "line": {
              "color": "#E5ECF6",
              "width": 0.5
             },
             "pattern": {
              "fillmode": "overlay",
              "size": 10,
              "solidity": 0.2
             }
            },
            "type": "bar"
           }
          ],
          "barpolar": [
           {
            "marker": {
             "line": {
              "color": "#E5ECF6",
              "width": 0.5
             },
             "pattern": {
              "fillmode": "overlay",
              "size": 10,
              "solidity": 0.2
             }
            },
            "type": "barpolar"
           }
          ],
          "carpet": [
           {
            "aaxis": {
             "endlinecolor": "#2a3f5f",
             "gridcolor": "white",
             "linecolor": "white",
             "minorgridcolor": "white",
             "startlinecolor": "#2a3f5f"
            },
            "baxis": {
             "endlinecolor": "#2a3f5f",
             "gridcolor": "white",
             "linecolor": "white",
             "minorgridcolor": "white",
             "startlinecolor": "#2a3f5f"
            },
            "type": "carpet"
           }
          ],
          "choropleth": [
           {
            "colorbar": {
             "outlinewidth": 0,
             "ticks": ""
            },
            "type": "choropleth"
           }
          ],
          "contour": [
           {
            "colorbar": {
             "outlinewidth": 0,
             "ticks": ""
            },
            "colorscale": [
             [
              0,
              "#0d0887"
             ],
             [
              0.1111111111111111,
              "#46039f"
             ],
             [
              0.2222222222222222,
              "#7201a8"
             ],
             [
              0.3333333333333333,
              "#9c179e"
             ],
             [
              0.4444444444444444,
              "#bd3786"
             ],
             [
              0.5555555555555556,
              "#d8576b"
             ],
             [
              0.6666666666666666,
              "#ed7953"
             ],
             [
              0.7777777777777778,
              "#fb9f3a"
             ],
             [
              0.8888888888888888,
              "#fdca26"
             ],
             [
              1,
              "#f0f921"
             ]
            ],
            "type": "contour"
           }
          ],
          "contourcarpet": [
           {
            "colorbar": {
             "outlinewidth": 0,
             "ticks": ""
            },
            "type": "contourcarpet"
           }
          ],
          "heatmap": [
           {
            "colorbar": {
             "outlinewidth": 0,
             "ticks": ""
            },
            "colorscale": [
             [
              0,
              "#0d0887"
             ],
             [
              0.1111111111111111,
              "#46039f"
             ],
             [
              0.2222222222222222,
              "#7201a8"
             ],
             [
              0.3333333333333333,
              "#9c179e"
             ],
             [
              0.4444444444444444,
              "#bd3786"
             ],
             [
              0.5555555555555556,
              "#d8576b"
             ],
             [
              0.6666666666666666,
              "#ed7953"
             ],
             [
              0.7777777777777778,
              "#fb9f3a"
             ],
             [
              0.8888888888888888,
              "#fdca26"
             ],
             [
              1,
              "#f0f921"
             ]
            ],
            "type": "heatmap"
           }
          ],
          "heatmapgl": [
           {
            "colorbar": {
             "outlinewidth": 0,
             "ticks": ""
            },
            "colorscale": [
             [
              0,
              "#0d0887"
             ],
             [
              0.1111111111111111,
              "#46039f"
             ],
             [
              0.2222222222222222,
              "#7201a8"
             ],
             [
              0.3333333333333333,
              "#9c179e"
             ],
             [
              0.4444444444444444,
              "#bd3786"
             ],
             [
              0.5555555555555556,
              "#d8576b"
             ],
             [
              0.6666666666666666,
              "#ed7953"
             ],
             [
              0.7777777777777778,
              "#fb9f3a"
             ],
             [
              0.8888888888888888,
              "#fdca26"
             ],
             [
              1,
              "#f0f921"
             ]
            ],
            "type": "heatmapgl"
           }
          ],
          "histogram": [
           {
            "marker": {
             "pattern": {
              "fillmode": "overlay",
              "size": 10,
              "solidity": 0.2
             }
            },
            "type": "histogram"
           }
          ],
          "histogram2d": [
           {
            "colorbar": {
             "outlinewidth": 0,
             "ticks": ""
            },
            "colorscale": [
             [
              0,
              "#0d0887"
             ],
             [
              0.1111111111111111,
              "#46039f"
             ],
             [
              0.2222222222222222,
              "#7201a8"
             ],
             [
              0.3333333333333333,
              "#9c179e"
             ],
             [
              0.4444444444444444,
              "#bd3786"
             ],
             [
              0.5555555555555556,
              "#d8576b"
             ],
             [
              0.6666666666666666,
              "#ed7953"
             ],
             [
              0.7777777777777778,
              "#fb9f3a"
             ],
             [
              0.8888888888888888,
              "#fdca26"
             ],
             [
              1,
              "#f0f921"
             ]
            ],
            "type": "histogram2d"
           }
          ],
          "histogram2dcontour": [
           {
            "colorbar": {
             "outlinewidth": 0,
             "ticks": ""
            },
            "colorscale": [
             [
              0,
              "#0d0887"
             ],
             [
              0.1111111111111111,
              "#46039f"
             ],
             [
              0.2222222222222222,
              "#7201a8"
             ],
             [
              0.3333333333333333,
              "#9c179e"
             ],
             [
              0.4444444444444444,
              "#bd3786"
             ],
             [
              0.5555555555555556,
              "#d8576b"
             ],
             [
              0.6666666666666666,
              "#ed7953"
             ],
             [
              0.7777777777777778,
              "#fb9f3a"
             ],
             [
              0.8888888888888888,
              "#fdca26"
             ],
             [
              1,
              "#f0f921"
             ]
            ],
            "type": "histogram2dcontour"
           }
          ],
          "mesh3d": [
           {
            "colorbar": {
             "outlinewidth": 0,
             "ticks": ""
            },
            "type": "mesh3d"
           }
          ],
          "parcoords": [
           {
            "line": {
             "colorbar": {
              "outlinewidth": 0,
              "ticks": ""
             }
            },
            "type": "parcoords"
           }
          ],
          "pie": [
           {
            "automargin": true,
            "type": "pie"
           }
          ],
          "scatter": [
           {
            "fillpattern": {
             "fillmode": "overlay",
             "size": 10,
             "solidity": 0.2
            },
            "type": "scatter"
           }
          ],
          "scatter3d": [
           {
            "line": {
             "colorbar": {
              "outlinewidth": 0,
              "ticks": ""
             }
            },
            "marker": {
             "colorbar": {
              "outlinewidth": 0,
              "ticks": ""
             }
            },
            "type": "scatter3d"
           }
          ],
          "scattercarpet": [
           {
            "marker": {
             "colorbar": {
              "outlinewidth": 0,
              "ticks": ""
             }
            },
            "type": "scattercarpet"
           }
          ],
          "scattergeo": [
           {
            "marker": {
             "colorbar": {
              "outlinewidth": 0,
              "ticks": ""
             }
            },
            "type": "scattergeo"
           }
          ],
          "scattergl": [
           {
            "marker": {
             "colorbar": {
              "outlinewidth": 0,
              "ticks": ""
             }
            },
            "type": "scattergl"
           }
          ],
          "scattermapbox": [
           {
            "marker": {
             "colorbar": {
              "outlinewidth": 0,
              "ticks": ""
             }
            },
            "type": "scattermapbox"
           }
          ],
          "scatterpolar": [
           {
            "marker": {
             "colorbar": {
              "outlinewidth": 0,
              "ticks": ""
             }
            },
            "type": "scatterpolar"
           }
          ],
          "scatterpolargl": [
           {
            "marker": {
             "colorbar": {
              "outlinewidth": 0,
              "ticks": ""
             }
            },
            "type": "scatterpolargl"
           }
          ],
          "scatterternary": [
           {
            "marker": {
             "colorbar": {
              "outlinewidth": 0,
              "ticks": ""
             }
            },
            "type": "scatterternary"
           }
          ],
          "surface": [
           {
            "colorbar": {
             "outlinewidth": 0,
             "ticks": ""
            },
            "colorscale": [
             [
              0,
              "#0d0887"
             ],
             [
              0.1111111111111111,
              "#46039f"
             ],
             [
              0.2222222222222222,
              "#7201a8"
             ],
             [
              0.3333333333333333,
              "#9c179e"
             ],
             [
              0.4444444444444444,
              "#bd3786"
             ],
             [
              0.5555555555555556,
              "#d8576b"
             ],
             [
              0.6666666666666666,
              "#ed7953"
             ],
             [
              0.7777777777777778,
              "#fb9f3a"
             ],
             [
              0.8888888888888888,
              "#fdca26"
             ],
             [
              1,
              "#f0f921"
             ]
            ],
            "type": "surface"
           }
          ],
          "table": [
           {
            "cells": {
             "fill": {
              "color": "#EBF0F8"
             },
             "line": {
              "color": "white"
             }
            },
            "header": {
             "fill": {
              "color": "#C8D4E3"
             },
             "line": {
              "color": "white"
             }
            },
            "type": "table"
           }
          ]
         },
         "layout": {
          "annotationdefaults": {
           "arrowcolor": "#2a3f5f",
           "arrowhead": 0,
           "arrowwidth": 1
          },
          "autotypenumbers": "strict",
          "coloraxis": {
           "colorbar": {
            "outlinewidth": 0,
            "ticks": ""
           }
          },
          "colorscale": {
           "diverging": [
            [
             0,
             "#8e0152"
            ],
            [
             0.1,
             "#c51b7d"
            ],
            [
             0.2,
             "#de77ae"
            ],
            [
             0.3,
             "#f1b6da"
            ],
            [
             0.4,
             "#fde0ef"
            ],
            [
             0.5,
             "#f7f7f7"
            ],
            [
             0.6,
             "#e6f5d0"
            ],
            [
             0.7,
             "#b8e186"
            ],
            [
             0.8,
             "#7fbc41"
            ],
            [
             0.9,
             "#4d9221"
            ],
            [
             1,
             "#276419"
            ]
           ],
           "sequential": [
            [
             0,
             "#0d0887"
            ],
            [
             0.1111111111111111,
             "#46039f"
            ],
            [
             0.2222222222222222,
             "#7201a8"
            ],
            [
             0.3333333333333333,
             "#9c179e"
            ],
            [
             0.4444444444444444,
             "#bd3786"
            ],
            [
             0.5555555555555556,
             "#d8576b"
            ],
            [
             0.6666666666666666,
             "#ed7953"
            ],
            [
             0.7777777777777778,
             "#fb9f3a"
            ],
            [
             0.8888888888888888,
             "#fdca26"
            ],
            [
             1,
             "#f0f921"
            ]
           ],
           "sequentialminus": [
            [
             0,
             "#0d0887"
            ],
            [
             0.1111111111111111,
             "#46039f"
            ],
            [
             0.2222222222222222,
             "#7201a8"
            ],
            [
             0.3333333333333333,
             "#9c179e"
            ],
            [
             0.4444444444444444,
             "#bd3786"
            ],
            [
             0.5555555555555556,
             "#d8576b"
            ],
            [
             0.6666666666666666,
             "#ed7953"
            ],
            [
             0.7777777777777778,
             "#fb9f3a"
            ],
            [
             0.8888888888888888,
             "#fdca26"
            ],
            [
             1,
             "#f0f921"
            ]
           ]
          },
          "colorway": [
           "#636efa",
           "#EF553B",
           "#00cc96",
           "#ab63fa",
           "#FFA15A",
           "#19d3f3",
           "#FF6692",
           "#B6E880",
           "#FF97FF",
           "#FECB52"
          ],
          "font": {
           "color": "#2a3f5f"
          },
          "geo": {
           "bgcolor": "white",
           "lakecolor": "white",
           "landcolor": "#E5ECF6",
           "showlakes": true,
           "showland": true,
           "subunitcolor": "white"
          },
          "hoverlabel": {
           "align": "left"
          },
          "hovermode": "closest",
          "mapbox": {
           "style": "light"
          },
          "paper_bgcolor": "white",
          "plot_bgcolor": "#E5ECF6",
          "polar": {
           "angularaxis": {
            "gridcolor": "white",
            "linecolor": "white",
            "ticks": ""
           },
           "bgcolor": "#E5ECF6",
           "radialaxis": {
            "gridcolor": "white",
            "linecolor": "white",
            "ticks": ""
           }
          },
          "scene": {
           "xaxis": {
            "backgroundcolor": "#E5ECF6",
            "gridcolor": "white",
            "gridwidth": 2,
            "linecolor": "white",
            "showbackground": true,
            "ticks": "",
            "zerolinecolor": "white"
           },
           "yaxis": {
            "backgroundcolor": "#E5ECF6",
            "gridcolor": "white",
            "gridwidth": 2,
            "linecolor": "white",
            "showbackground": true,
            "ticks": "",
            "zerolinecolor": "white"
           },
           "zaxis": {
            "backgroundcolor": "#E5ECF6",
            "gridcolor": "white",
            "gridwidth": 2,
            "linecolor": "white",
            "showbackground": true,
            "ticks": "",
            "zerolinecolor": "white"
           }
          },
          "shapedefaults": {
           "line": {
            "color": "#2a3f5f"
           }
          },
          "ternary": {
           "aaxis": {
            "gridcolor": "white",
            "linecolor": "white",
            "ticks": ""
           },
           "baxis": {
            "gridcolor": "white",
            "linecolor": "white",
            "ticks": ""
           },
           "bgcolor": "#E5ECF6",
           "caxis": {
            "gridcolor": "white",
            "linecolor": "white",
            "ticks": ""
           }
          },
          "title": {
           "x": 0.05
          },
          "xaxis": {
           "automargin": true,
           "gridcolor": "white",
           "linecolor": "white",
           "ticks": "",
           "title": {
            "standoff": 15
           },
           "zerolinecolor": "white",
           "zerolinewidth": 2
          },
          "yaxis": {
           "automargin": true,
           "gridcolor": "white",
           "linecolor": "white",
           "ticks": "",
           "title": {
            "standoff": 15
           },
           "zerolinecolor": "white",
           "zerolinewidth": 2
          }
         }
        },
        "title": {
         "text": "Area with traffic level 1 with eps = 0.00296, min_samples = 7",
         "x": 0.5,
         "xanchor": "center"
        },
        "xaxis": {
         "anchor": "y",
         "domain": [
          0,
          1
         ],
         "title": {
          "text": "Latitude"
         }
        },
        "yaxis": {
         "anchor": "x",
         "domain": [
          0,
          1
         ],
         "title": {
          "text": "Longitude"
         }
        }
       }
      }
     },
     "metadata": {},
     "output_type": "display_data"
    }
   ],
   "source": [
    "#Plot for Model 1\n",
    "after_fig1 = px.scatter(TF_1, \n",
    "                        x = \"Latitude\",\n",
    "                        y = \"Longitude\", \n",
    "                        color=TF_1['labels'].astype(str),\n",
    "                        color_discrete_map={'-1':'red', '0': '#636EFA'},\n",
    "                        labels={\"color\" : \"Cluster\"},\n",
    "                      ) \n",
    "after_fig1.update_layout(\n",
    "            title={\n",
    "            'text' : \"Area with traffic level 1 with eps = 0.00296, min_samples = 7\",\n",
    "            'x':0.5,\n",
    "            'xanchor': 'center',\n",
    "        })\n"
   ]
  },
  {
   "cell_type": "code",
   "execution_count": 57,
   "id": "d02f1bb2",
   "metadata": {},
   "outputs": [
    {
     "name": "stdout",
     "output_type": "stream",
     "text": [
      " 0    62\n",
      " 1    14\n",
      "-1     8\n",
      " 2     7\n",
      "Name: labels, dtype: int64\n",
      "Silhouette score: 0.4610507666492643\n"
     ]
    }
   ],
   "source": [
    "#Training Model for Traffic Level 2\n",
    "model2 = DBSCAN(0.00481, min_samples=4).fit(cluster2)\n",
    "TF_2['labels'] = model2.labels_\n",
    "print(TF_2['labels'].value_counts())\n",
    "score2 = ss(cluster2, TF_2['labels'])\n",
    "print(\"Silhouette score:\", score2)"
   ]
  },
  {
   "cell_type": "code",
   "execution_count": 58,
   "id": "377c69b1",
   "metadata": {},
   "outputs": [
    {
     "data": {
      "application/vnd.plotly.v1+json": {
       "config": {
        "plotlyServerURL": "https://plot.ly"
       },
       "data": [
        {
         "hovertemplate": "Cluster=0<br>Latitude=%{x}<br>Longitude=%{y}<extra></extra>",
         "legendgroup": "0",
         "marker": {
          "color": "#636efa",
          "symbol": "circle"
         },
         "mode": "markers",
         "name": "0",
         "orientation": "v",
         "showlegend": true,
         "type": "scatter",
         "x": [
          105.835607,
          105.838591,
          105.841557,
          105.836997,
          105.836843,
          105.836641,
          105.842084,
          105.84255,
          105.842776,
          105.84306,
          105.843725,
          105.843114,
          105.838927,
          105.840417,
          105.836998,
          105.83703,
          105.827152,
          105.826983,
          105.829951,
          105.845221,
          105.845619,
          105.845771,
          105.845964,
          105.845961,
          105.843836,
          105.844596,
          105.847757,
          105.849865,
          105.847217,
          105.847124,
          105.847082,
          105.838432,
          105.838655,
          105.838847,
          105.839556,
          105.840052,
          105.848202,
          105.84778,
          105.845573,
          105.845777,
          105.834034,
          105.836199,
          105.828686,
          105.828713,
          105.833617,
          105.832742,
          105.84015,
          105.830283,
          105.840365,
          105.844244,
          105.845967,
          105.846729,
          105.845211,
          105.830085,
          105.8314,
          105.836351,
          105.835974,
          105.842799,
          105.844725,
          105.843887,
          105.844335,
          105.844738
         ],
         "xaxis": "x",
         "y": [
          21.033849,
          21.030388,
          21.029578,
          21.030178,
          21.034975,
          21.033652,
          21.040651,
          21.042374,
          21.043368,
          21.044372,
          21.046691,
          21.028378,
          21.032876,
          21.031355,
          21.035044,
          21.038832,
          21.034687,
          21.032177,
          21.032083,
          21.042312,
          21.0434,
          21.043911,
          21.044425,
          21.044674,
          21.040331,
          21.041229,
          21.040055,
          21.040731,
          21.04193,
          21.043212,
          21.043623,
          21.029821,
          21.03115,
          21.033289,
          21.038477,
          21.040972,
          21.042379,
          21.04213,
          21.040513,
          21.045337,
          21.031024,
          21.041652,
          21.032481,
          21.032391,
          21.034259,
          21.031364,
          21.042744,
          21.032092,
          21.030825,
          21.042822,
          21.039906,
          21.039774,
          21.040737,
          21.032759,
          21.032511,
          21.044019,
          21.04275,
          21.030314,
          21.03405,
          21.030093,
          21.029998,
          21.029973
         ],
         "yaxis": "y"
        },
        {
         "hovertemplate": "Cluster=-1<br>Latitude=%{x}<br>Longitude=%{y}<extra></extra>",
         "legendgroup": "-1",
         "marker": {
          "color": "#EF553B",
          "symbol": "circle"
         },
         "mode": "markers",
         "name": "-1",
         "orientation": "v",
         "showlegend": true,
         "type": "scatter",
         "x": [
          105.806949,
          105.805231,
          105.805509,
          105.805821,
          105.828618,
          105.816936,
          105.812241,
          105.84004
         ],
         "xaxis": "x",
         "y": [
          21.036802,
          21.0286,
          21.02843,
          21.028637,
          21.039571,
          21.01963,
          21.02036,
          21.050609
         ],
         "yaxis": "y"
        },
        {
         "hovertemplate": "Cluster=1<br>Latitude=%{x}<br>Longitude=%{y}<extra></extra>",
         "legendgroup": "1",
         "marker": {
          "color": "#00cc96",
          "symbol": "circle"
         },
         "mode": "markers",
         "name": "1",
         "orientation": "v",
         "showlegend": true,
         "type": "scatter",
         "x": [
          105.810837,
          105.813106,
          105.823026,
          105.824722,
          105.824846,
          105.82005,
          105.819652,
          105.810589,
          105.822449,
          105.821159,
          105.817733,
          105.812312,
          105.815418,
          105.816966
         ],
         "xaxis": "x",
         "y": [
          21.032034,
          21.031362,
          21.026442,
          21.027896,
          21.027602,
          21.023902,
          21.03081,
          21.029941,
          21.030223,
          21.029143,
          21.027161,
          21.0275,
          21.027155,
          21.03317
         ],
         "yaxis": "y"
        },
        {
         "hovertemplate": "Cluster=2<br>Latitude=%{x}<br>Longitude=%{y}<extra></extra>",
         "legendgroup": "2",
         "marker": {
          "color": "#ab63fa",
          "symbol": "circle"
         },
         "mode": "markers",
         "name": "2",
         "orientation": "v",
         "showlegend": true,
         "type": "scatter",
         "x": [
          105.81401,
          105.814621,
          105.812948,
          105.816603,
          105.818696,
          105.811302,
          105.816084
         ],
         "xaxis": "x",
         "y": [
          21.041481,
          21.042975,
          21.040893,
          21.042339,
          21.042142,
          21.045894,
          21.041097
         ],
         "yaxis": "y"
        }
       ],
       "layout": {
        "legend": {
         "title": {
          "text": "Cluster"
         },
         "tracegroupgap": 0
        },
        "margin": {
         "t": 60
        },
        "template": {
         "data": {
          "bar": [
           {
            "error_x": {
             "color": "#2a3f5f"
            },
            "error_y": {
             "color": "#2a3f5f"
            },
            "marker": {
             "line": {
              "color": "#E5ECF6",
              "width": 0.5
             },
             "pattern": {
              "fillmode": "overlay",
              "size": 10,
              "solidity": 0.2
             }
            },
            "type": "bar"
           }
          ],
          "barpolar": [
           {
            "marker": {
             "line": {
              "color": "#E5ECF6",
              "width": 0.5
             },
             "pattern": {
              "fillmode": "overlay",
              "size": 10,
              "solidity": 0.2
             }
            },
            "type": "barpolar"
           }
          ],
          "carpet": [
           {
            "aaxis": {
             "endlinecolor": "#2a3f5f",
             "gridcolor": "white",
             "linecolor": "white",
             "minorgridcolor": "white",
             "startlinecolor": "#2a3f5f"
            },
            "baxis": {
             "endlinecolor": "#2a3f5f",
             "gridcolor": "white",
             "linecolor": "white",
             "minorgridcolor": "white",
             "startlinecolor": "#2a3f5f"
            },
            "type": "carpet"
           }
          ],
          "choropleth": [
           {
            "colorbar": {
             "outlinewidth": 0,
             "ticks": ""
            },
            "type": "choropleth"
           }
          ],
          "contour": [
           {
            "colorbar": {
             "outlinewidth": 0,
             "ticks": ""
            },
            "colorscale": [
             [
              0,
              "#0d0887"
             ],
             [
              0.1111111111111111,
              "#46039f"
             ],
             [
              0.2222222222222222,
              "#7201a8"
             ],
             [
              0.3333333333333333,
              "#9c179e"
             ],
             [
              0.4444444444444444,
              "#bd3786"
             ],
             [
              0.5555555555555556,
              "#d8576b"
             ],
             [
              0.6666666666666666,
              "#ed7953"
             ],
             [
              0.7777777777777778,
              "#fb9f3a"
             ],
             [
              0.8888888888888888,
              "#fdca26"
             ],
             [
              1,
              "#f0f921"
             ]
            ],
            "type": "contour"
           }
          ],
          "contourcarpet": [
           {
            "colorbar": {
             "outlinewidth": 0,
             "ticks": ""
            },
            "type": "contourcarpet"
           }
          ],
          "heatmap": [
           {
            "colorbar": {
             "outlinewidth": 0,
             "ticks": ""
            },
            "colorscale": [
             [
              0,
              "#0d0887"
             ],
             [
              0.1111111111111111,
              "#46039f"
             ],
             [
              0.2222222222222222,
              "#7201a8"
             ],
             [
              0.3333333333333333,
              "#9c179e"
             ],
             [
              0.4444444444444444,
              "#bd3786"
             ],
             [
              0.5555555555555556,
              "#d8576b"
             ],
             [
              0.6666666666666666,
              "#ed7953"
             ],
             [
              0.7777777777777778,
              "#fb9f3a"
             ],
             [
              0.8888888888888888,
              "#fdca26"
             ],
             [
              1,
              "#f0f921"
             ]
            ],
            "type": "heatmap"
           }
          ],
          "heatmapgl": [
           {
            "colorbar": {
             "outlinewidth": 0,
             "ticks": ""
            },
            "colorscale": [
             [
              0,
              "#0d0887"
             ],
             [
              0.1111111111111111,
              "#46039f"
             ],
             [
              0.2222222222222222,
              "#7201a8"
             ],
             [
              0.3333333333333333,
              "#9c179e"
             ],
             [
              0.4444444444444444,
              "#bd3786"
             ],
             [
              0.5555555555555556,
              "#d8576b"
             ],
             [
              0.6666666666666666,
              "#ed7953"
             ],
             [
              0.7777777777777778,
              "#fb9f3a"
             ],
             [
              0.8888888888888888,
              "#fdca26"
             ],
             [
              1,
              "#f0f921"
             ]
            ],
            "type": "heatmapgl"
           }
          ],
          "histogram": [
           {
            "marker": {
             "pattern": {
              "fillmode": "overlay",
              "size": 10,
              "solidity": 0.2
             }
            },
            "type": "histogram"
           }
          ],
          "histogram2d": [
           {
            "colorbar": {
             "outlinewidth": 0,
             "ticks": ""
            },
            "colorscale": [
             [
              0,
              "#0d0887"
             ],
             [
              0.1111111111111111,
              "#46039f"
             ],
             [
              0.2222222222222222,
              "#7201a8"
             ],
             [
              0.3333333333333333,
              "#9c179e"
             ],
             [
              0.4444444444444444,
              "#bd3786"
             ],
             [
              0.5555555555555556,
              "#d8576b"
             ],
             [
              0.6666666666666666,
              "#ed7953"
             ],
             [
              0.7777777777777778,
              "#fb9f3a"
             ],
             [
              0.8888888888888888,
              "#fdca26"
             ],
             [
              1,
              "#f0f921"
             ]
            ],
            "type": "histogram2d"
           }
          ],
          "histogram2dcontour": [
           {
            "colorbar": {
             "outlinewidth": 0,
             "ticks": ""
            },
            "colorscale": [
             [
              0,
              "#0d0887"
             ],
             [
              0.1111111111111111,
              "#46039f"
             ],
             [
              0.2222222222222222,
              "#7201a8"
             ],
             [
              0.3333333333333333,
              "#9c179e"
             ],
             [
              0.4444444444444444,
              "#bd3786"
             ],
             [
              0.5555555555555556,
              "#d8576b"
             ],
             [
              0.6666666666666666,
              "#ed7953"
             ],
             [
              0.7777777777777778,
              "#fb9f3a"
             ],
             [
              0.8888888888888888,
              "#fdca26"
             ],
             [
              1,
              "#f0f921"
             ]
            ],
            "type": "histogram2dcontour"
           }
          ],
          "mesh3d": [
           {
            "colorbar": {
             "outlinewidth": 0,
             "ticks": ""
            },
            "type": "mesh3d"
           }
          ],
          "parcoords": [
           {
            "line": {
             "colorbar": {
              "outlinewidth": 0,
              "ticks": ""
             }
            },
            "type": "parcoords"
           }
          ],
          "pie": [
           {
            "automargin": true,
            "type": "pie"
           }
          ],
          "scatter": [
           {
            "fillpattern": {
             "fillmode": "overlay",
             "size": 10,
             "solidity": 0.2
            },
            "type": "scatter"
           }
          ],
          "scatter3d": [
           {
            "line": {
             "colorbar": {
              "outlinewidth": 0,
              "ticks": ""
             }
            },
            "marker": {
             "colorbar": {
              "outlinewidth": 0,
              "ticks": ""
             }
            },
            "type": "scatter3d"
           }
          ],
          "scattercarpet": [
           {
            "marker": {
             "colorbar": {
              "outlinewidth": 0,
              "ticks": ""
             }
            },
            "type": "scattercarpet"
           }
          ],
          "scattergeo": [
           {
            "marker": {
             "colorbar": {
              "outlinewidth": 0,
              "ticks": ""
             }
            },
            "type": "scattergeo"
           }
          ],
          "scattergl": [
           {
            "marker": {
             "colorbar": {
              "outlinewidth": 0,
              "ticks": ""
             }
            },
            "type": "scattergl"
           }
          ],
          "scattermapbox": [
           {
            "marker": {
             "colorbar": {
              "outlinewidth": 0,
              "ticks": ""
             }
            },
            "type": "scattermapbox"
           }
          ],
          "scatterpolar": [
           {
            "marker": {
             "colorbar": {
              "outlinewidth": 0,
              "ticks": ""
             }
            },
            "type": "scatterpolar"
           }
          ],
          "scatterpolargl": [
           {
            "marker": {
             "colorbar": {
              "outlinewidth": 0,
              "ticks": ""
             }
            },
            "type": "scatterpolargl"
           }
          ],
          "scatterternary": [
           {
            "marker": {
             "colorbar": {
              "outlinewidth": 0,
              "ticks": ""
             }
            },
            "type": "scatterternary"
           }
          ],
          "surface": [
           {
            "colorbar": {
             "outlinewidth": 0,
             "ticks": ""
            },
            "colorscale": [
             [
              0,
              "#0d0887"
             ],
             [
              0.1111111111111111,
              "#46039f"
             ],
             [
              0.2222222222222222,
              "#7201a8"
             ],
             [
              0.3333333333333333,
              "#9c179e"
             ],
             [
              0.4444444444444444,
              "#bd3786"
             ],
             [
              0.5555555555555556,
              "#d8576b"
             ],
             [
              0.6666666666666666,
              "#ed7953"
             ],
             [
              0.7777777777777778,
              "#fb9f3a"
             ],
             [
              0.8888888888888888,
              "#fdca26"
             ],
             [
              1,
              "#f0f921"
             ]
            ],
            "type": "surface"
           }
          ],
          "table": [
           {
            "cells": {
             "fill": {
              "color": "#EBF0F8"
             },
             "line": {
              "color": "white"
             }
            },
            "header": {
             "fill": {
              "color": "#C8D4E3"
             },
             "line": {
              "color": "white"
             }
            },
            "type": "table"
           }
          ]
         },
         "layout": {
          "annotationdefaults": {
           "arrowcolor": "#2a3f5f",
           "arrowhead": 0,
           "arrowwidth": 1
          },
          "autotypenumbers": "strict",
          "coloraxis": {
           "colorbar": {
            "outlinewidth": 0,
            "ticks": ""
           }
          },
          "colorscale": {
           "diverging": [
            [
             0,
             "#8e0152"
            ],
            [
             0.1,
             "#c51b7d"
            ],
            [
             0.2,
             "#de77ae"
            ],
            [
             0.3,
             "#f1b6da"
            ],
            [
             0.4,
             "#fde0ef"
            ],
            [
             0.5,
             "#f7f7f7"
            ],
            [
             0.6,
             "#e6f5d0"
            ],
            [
             0.7,
             "#b8e186"
            ],
            [
             0.8,
             "#7fbc41"
            ],
            [
             0.9,
             "#4d9221"
            ],
            [
             1,
             "#276419"
            ]
           ],
           "sequential": [
            [
             0,
             "#0d0887"
            ],
            [
             0.1111111111111111,
             "#46039f"
            ],
            [
             0.2222222222222222,
             "#7201a8"
            ],
            [
             0.3333333333333333,
             "#9c179e"
            ],
            [
             0.4444444444444444,
             "#bd3786"
            ],
            [
             0.5555555555555556,
             "#d8576b"
            ],
            [
             0.6666666666666666,
             "#ed7953"
            ],
            [
             0.7777777777777778,
             "#fb9f3a"
            ],
            [
             0.8888888888888888,
             "#fdca26"
            ],
            [
             1,
             "#f0f921"
            ]
           ],
           "sequentialminus": [
            [
             0,
             "#0d0887"
            ],
            [
             0.1111111111111111,
             "#46039f"
            ],
            [
             0.2222222222222222,
             "#7201a8"
            ],
            [
             0.3333333333333333,
             "#9c179e"
            ],
            [
             0.4444444444444444,
             "#bd3786"
            ],
            [
             0.5555555555555556,
             "#d8576b"
            ],
            [
             0.6666666666666666,
             "#ed7953"
            ],
            [
             0.7777777777777778,
             "#fb9f3a"
            ],
            [
             0.8888888888888888,
             "#fdca26"
            ],
            [
             1,
             "#f0f921"
            ]
           ]
          },
          "colorway": [
           "#636efa",
           "#EF553B",
           "#00cc96",
           "#ab63fa",
           "#FFA15A",
           "#19d3f3",
           "#FF6692",
           "#B6E880",
           "#FF97FF",
           "#FECB52"
          ],
          "font": {
           "color": "#2a3f5f"
          },
          "geo": {
           "bgcolor": "white",
           "lakecolor": "white",
           "landcolor": "#E5ECF6",
           "showlakes": true,
           "showland": true,
           "subunitcolor": "white"
          },
          "hoverlabel": {
           "align": "left"
          },
          "hovermode": "closest",
          "mapbox": {
           "style": "light"
          },
          "paper_bgcolor": "white",
          "plot_bgcolor": "#E5ECF6",
          "polar": {
           "angularaxis": {
            "gridcolor": "white",
            "linecolor": "white",
            "ticks": ""
           },
           "bgcolor": "#E5ECF6",
           "radialaxis": {
            "gridcolor": "white",
            "linecolor": "white",
            "ticks": ""
           }
          },
          "scene": {
           "xaxis": {
            "backgroundcolor": "#E5ECF6",
            "gridcolor": "white",
            "gridwidth": 2,
            "linecolor": "white",
            "showbackground": true,
            "ticks": "",
            "zerolinecolor": "white"
           },
           "yaxis": {
            "backgroundcolor": "#E5ECF6",
            "gridcolor": "white",
            "gridwidth": 2,
            "linecolor": "white",
            "showbackground": true,
            "ticks": "",
            "zerolinecolor": "white"
           },
           "zaxis": {
            "backgroundcolor": "#E5ECF6",
            "gridcolor": "white",
            "gridwidth": 2,
            "linecolor": "white",
            "showbackground": true,
            "ticks": "",
            "zerolinecolor": "white"
           }
          },
          "shapedefaults": {
           "line": {
            "color": "#2a3f5f"
           }
          },
          "ternary": {
           "aaxis": {
            "gridcolor": "white",
            "linecolor": "white",
            "ticks": ""
           },
           "baxis": {
            "gridcolor": "white",
            "linecolor": "white",
            "ticks": ""
           },
           "bgcolor": "#E5ECF6",
           "caxis": {
            "gridcolor": "white",
            "linecolor": "white",
            "ticks": ""
           }
          },
          "title": {
           "x": 0.05
          },
          "xaxis": {
           "automargin": true,
           "gridcolor": "white",
           "linecolor": "white",
           "ticks": "",
           "title": {
            "standoff": 15
           },
           "zerolinecolor": "white",
           "zerolinewidth": 2
          },
          "yaxis": {
           "automargin": true,
           "gridcolor": "white",
           "linecolor": "white",
           "ticks": "",
           "title": {
            "standoff": 15
           },
           "zerolinecolor": "white",
           "zerolinewidth": 2
          }
         }
        },
        "title": {
         "text": "Area with traffic level 2 with eps = 0.00481, min_samples = 4",
         "x": 0.5,
         "xanchor": "center"
        },
        "xaxis": {
         "anchor": "y",
         "domain": [
          0,
          1
         ],
         "title": {
          "text": "Latitude"
         }
        },
        "yaxis": {
         "anchor": "x",
         "domain": [
          0,
          1
         ],
         "title": {
          "text": "Longitude"
         }
        }
       }
      }
     },
     "metadata": {},
     "output_type": "display_data"
    }
   ],
   "source": [
    "#Plot for Model 2\n",
    "after_fig2 = px.scatter(TF_2,\n",
    "                        x = \"Latitude\" , \n",
    "                        y = \"Longitude\", \n",
    "                        color=TF_2['labels'].astype(str),\n",
    "                        labels={\"color\" : \"Cluster\"},\n",
    "                        )\n",
    "after_fig2.update_layout(\n",
    "            title={\n",
    "            'text' : \"Area with traffic level 2 with eps = 0.00481, min_samples = 4\",\n",
    "            'x':0.5,\n",
    "            'xanchor': 'center',\n",
    "        })\n",
    "after_fig2"
   ]
  },
  {
   "cell_type": "code",
   "execution_count": 59,
   "id": "1c0ed1c4",
   "metadata": {},
   "outputs": [
    {
     "name": "stdout",
     "output_type": "stream",
     "text": [
      " 0    28\n",
      " 1    10\n",
      " 2     5\n",
      "-1     4\n",
      "Name: labels, dtype: int64\n",
      "Silhouette score: 0.5171859719938379\n"
     ]
    }
   ],
   "source": [
    "#Training Model for Traffic Level 3\n",
    "model3 = DBSCAN(0.0058,min_samples=3).fit(cluster3) \n",
    "TF_3['labels']= model3.labels_\n",
    "print(TF_3['labels'].value_counts())\n",
    "score3 = ss(cluster3, TF_3['labels'])\n",
    "print(\"Silhouette score:\", score3)"
   ]
  },
  {
   "cell_type": "code",
   "execution_count": 60,
   "id": "bb5ab56c",
   "metadata": {},
   "outputs": [
    {
     "data": {
      "application/vnd.plotly.v1+json": {
       "config": {
        "plotlyServerURL": "https://plot.ly"
       },
       "data": [
        {
         "hovertemplate": "Cluster=0<br>Latitude=%{x}<br>Longitude=%{y}<extra></extra>",
         "legendgroup": "0",
         "marker": {
          "color": "#636efa",
          "symbol": "circle"
         },
         "mode": "markers",
         "name": "0",
         "orientation": "v",
         "showlegend": true,
         "type": "scatter",
         "x": [
          105.807348,
          105.805245,
          105.802636,
          105.809576,
          105.815841,
          105.819744,
          105.811353,
          105.811542,
          105.816397,
          105.813382,
          105.810512,
          105.817837,
          105.815192,
          105.814822,
          105.827205,
          105.81181,
          105.808448,
          105.814942,
          105.821698,
          105.817272,
          105.8131,
          105.810572,
          105.814386,
          105.814029,
          105.810359,
          105.811511,
          105.811716,
          105.811661
         ],
         "xaxis": "x",
         "y": [
          21.037688,
          21.034335,
          21.029744,
          21.032382,
          21.030593,
          21.023419,
          21.025028,
          21.024753,
          21.023892,
          21.037977,
          21.037806,
          21.035549,
          21.037077,
          21.037339,
          21.029649,
          21.018159,
          21.019851,
          21.016867,
          21.031178,
          21.030753,
          21.03035,
          21.036139,
          21.035724,
          21.033896,
          21.034866,
          21.025275,
          21.026312,
          21.034492
         ],
         "yaxis": "y"
        },
        {
         "hovertemplate": "Cluster=-1<br>Latitude=%{x}<br>Longitude=%{y}<extra></extra>",
         "legendgroup": "-1",
         "marker": {
          "color": "#EF553B",
          "symbol": "circle"
         },
         "mode": "markers",
         "name": "-1",
         "orientation": "v",
         "showlegend": true,
         "type": "scatter",
         "x": [
          105.806128,
          105.83508,
          105.836402,
          105.839279
         ],
         "xaxis": "x",
         "y": [
          21.047508,
          21.041846,
          21.042687,
          21.0499
         ],
         "yaxis": "y"
        },
        {
         "hovertemplate": "Cluster=1<br>Latitude=%{x}<br>Longitude=%{y}<extra></extra>",
         "legendgroup": "1",
         "marker": {
          "color": "#00cc96",
          "symbol": "circle"
         },
         "mode": "markers",
         "name": "1",
         "orientation": "v",
         "showlegend": true,
         "type": "scatter",
         "x": [
          105.836236,
          105.836007,
          105.842539,
          105.841645,
          105.841138,
          105.838517,
          105.831691,
          105.834192,
          105.841527,
          105.833159
         ],
         "xaxis": "x",
         "y": [
          21.031582,
          21.03039,
          21.029268,
          21.029943,
          21.03065,
          21.033316,
          21.03437,
          21.032001,
          21.028851,
          21.032189
         ],
         "yaxis": "y"
        },
        {
         "hovertemplate": "Cluster=2<br>Latitude=%{x}<br>Longitude=%{y}<extra></extra>",
         "legendgroup": "2",
         "marker": {
          "color": "#ab63fa",
          "symbol": "circle"
         },
         "mode": "markers",
         "name": "2",
         "orientation": "v",
         "showlegend": true,
         "type": "scatter",
         "x": [
          105.843339,
          105.847122,
          105.847135,
          105.84718,
          105.845352
         ],
         "xaxis": "x",
         "y": [
          21.0456,
          21.04027,
          21.039903,
          21.04365,
          21.040059
         ],
         "yaxis": "y"
        }
       ],
       "layout": {
        "legend": {
         "title": {
          "text": "Cluster"
         },
         "tracegroupgap": 0
        },
        "margin": {
         "t": 60
        },
        "template": {
         "data": {
          "bar": [
           {
            "error_x": {
             "color": "#2a3f5f"
            },
            "error_y": {
             "color": "#2a3f5f"
            },
            "marker": {
             "line": {
              "color": "#E5ECF6",
              "width": 0.5
             },
             "pattern": {
              "fillmode": "overlay",
              "size": 10,
              "solidity": 0.2
             }
            },
            "type": "bar"
           }
          ],
          "barpolar": [
           {
            "marker": {
             "line": {
              "color": "#E5ECF6",
              "width": 0.5
             },
             "pattern": {
              "fillmode": "overlay",
              "size": 10,
              "solidity": 0.2
             }
            },
            "type": "barpolar"
           }
          ],
          "carpet": [
           {
            "aaxis": {
             "endlinecolor": "#2a3f5f",
             "gridcolor": "white",
             "linecolor": "white",
             "minorgridcolor": "white",
             "startlinecolor": "#2a3f5f"
            },
            "baxis": {
             "endlinecolor": "#2a3f5f",
             "gridcolor": "white",
             "linecolor": "white",
             "minorgridcolor": "white",
             "startlinecolor": "#2a3f5f"
            },
            "type": "carpet"
           }
          ],
          "choropleth": [
           {
            "colorbar": {
             "outlinewidth": 0,
             "ticks": ""
            },
            "type": "choropleth"
           }
          ],
          "contour": [
           {
            "colorbar": {
             "outlinewidth": 0,
             "ticks": ""
            },
            "colorscale": [
             [
              0,
              "#0d0887"
             ],
             [
              0.1111111111111111,
              "#46039f"
             ],
             [
              0.2222222222222222,
              "#7201a8"
             ],
             [
              0.3333333333333333,
              "#9c179e"
             ],
             [
              0.4444444444444444,
              "#bd3786"
             ],
             [
              0.5555555555555556,
              "#d8576b"
             ],
             [
              0.6666666666666666,
              "#ed7953"
             ],
             [
              0.7777777777777778,
              "#fb9f3a"
             ],
             [
              0.8888888888888888,
              "#fdca26"
             ],
             [
              1,
              "#f0f921"
             ]
            ],
            "type": "contour"
           }
          ],
          "contourcarpet": [
           {
            "colorbar": {
             "outlinewidth": 0,
             "ticks": ""
            },
            "type": "contourcarpet"
           }
          ],
          "heatmap": [
           {
            "colorbar": {
             "outlinewidth": 0,
             "ticks": ""
            },
            "colorscale": [
             [
              0,
              "#0d0887"
             ],
             [
              0.1111111111111111,
              "#46039f"
             ],
             [
              0.2222222222222222,
              "#7201a8"
             ],
             [
              0.3333333333333333,
              "#9c179e"
             ],
             [
              0.4444444444444444,
              "#bd3786"
             ],
             [
              0.5555555555555556,
              "#d8576b"
             ],
             [
              0.6666666666666666,
              "#ed7953"
             ],
             [
              0.7777777777777778,
              "#fb9f3a"
             ],
             [
              0.8888888888888888,
              "#fdca26"
             ],
             [
              1,
              "#f0f921"
             ]
            ],
            "type": "heatmap"
           }
          ],
          "heatmapgl": [
           {
            "colorbar": {
             "outlinewidth": 0,
             "ticks": ""
            },
            "colorscale": [
             [
              0,
              "#0d0887"
             ],
             [
              0.1111111111111111,
              "#46039f"
             ],
             [
              0.2222222222222222,
              "#7201a8"
             ],
             [
              0.3333333333333333,
              "#9c179e"
             ],
             [
              0.4444444444444444,
              "#bd3786"
             ],
             [
              0.5555555555555556,
              "#d8576b"
             ],
             [
              0.6666666666666666,
              "#ed7953"
             ],
             [
              0.7777777777777778,
              "#fb9f3a"
             ],
             [
              0.8888888888888888,
              "#fdca26"
             ],
             [
              1,
              "#f0f921"
             ]
            ],
            "type": "heatmapgl"
           }
          ],
          "histogram": [
           {
            "marker": {
             "pattern": {
              "fillmode": "overlay",
              "size": 10,
              "solidity": 0.2
             }
            },
            "type": "histogram"
           }
          ],
          "histogram2d": [
           {
            "colorbar": {
             "outlinewidth": 0,
             "ticks": ""
            },
            "colorscale": [
             [
              0,
              "#0d0887"
             ],
             [
              0.1111111111111111,
              "#46039f"
             ],
             [
              0.2222222222222222,
              "#7201a8"
             ],
             [
              0.3333333333333333,
              "#9c179e"
             ],
             [
              0.4444444444444444,
              "#bd3786"
             ],
             [
              0.5555555555555556,
              "#d8576b"
             ],
             [
              0.6666666666666666,
              "#ed7953"
             ],
             [
              0.7777777777777778,
              "#fb9f3a"
             ],
             [
              0.8888888888888888,
              "#fdca26"
             ],
             [
              1,
              "#f0f921"
             ]
            ],
            "type": "histogram2d"
           }
          ],
          "histogram2dcontour": [
           {
            "colorbar": {
             "outlinewidth": 0,
             "ticks": ""
            },
            "colorscale": [
             [
              0,
              "#0d0887"
             ],
             [
              0.1111111111111111,
              "#46039f"
             ],
             [
              0.2222222222222222,
              "#7201a8"
             ],
             [
              0.3333333333333333,
              "#9c179e"
             ],
             [
              0.4444444444444444,
              "#bd3786"
             ],
             [
              0.5555555555555556,
              "#d8576b"
             ],
             [
              0.6666666666666666,
              "#ed7953"
             ],
             [
              0.7777777777777778,
              "#fb9f3a"
             ],
             [
              0.8888888888888888,
              "#fdca26"
             ],
             [
              1,
              "#f0f921"
             ]
            ],
            "type": "histogram2dcontour"
           }
          ],
          "mesh3d": [
           {
            "colorbar": {
             "outlinewidth": 0,
             "ticks": ""
            },
            "type": "mesh3d"
           }
          ],
          "parcoords": [
           {
            "line": {
             "colorbar": {
              "outlinewidth": 0,
              "ticks": ""
             }
            },
            "type": "parcoords"
           }
          ],
          "pie": [
           {
            "automargin": true,
            "type": "pie"
           }
          ],
          "scatter": [
           {
            "fillpattern": {
             "fillmode": "overlay",
             "size": 10,
             "solidity": 0.2
            },
            "type": "scatter"
           }
          ],
          "scatter3d": [
           {
            "line": {
             "colorbar": {
              "outlinewidth": 0,
              "ticks": ""
             }
            },
            "marker": {
             "colorbar": {
              "outlinewidth": 0,
              "ticks": ""
             }
            },
            "type": "scatter3d"
           }
          ],
          "scattercarpet": [
           {
            "marker": {
             "colorbar": {
              "outlinewidth": 0,
              "ticks": ""
             }
            },
            "type": "scattercarpet"
           }
          ],
          "scattergeo": [
           {
            "marker": {
             "colorbar": {
              "outlinewidth": 0,
              "ticks": ""
             }
            },
            "type": "scattergeo"
           }
          ],
          "scattergl": [
           {
            "marker": {
             "colorbar": {
              "outlinewidth": 0,
              "ticks": ""
             }
            },
            "type": "scattergl"
           }
          ],
          "scattermapbox": [
           {
            "marker": {
             "colorbar": {
              "outlinewidth": 0,
              "ticks": ""
             }
            },
            "type": "scattermapbox"
           }
          ],
          "scatterpolar": [
           {
            "marker": {
             "colorbar": {
              "outlinewidth": 0,
              "ticks": ""
             }
            },
            "type": "scatterpolar"
           }
          ],
          "scatterpolargl": [
           {
            "marker": {
             "colorbar": {
              "outlinewidth": 0,
              "ticks": ""
             }
            },
            "type": "scatterpolargl"
           }
          ],
          "scatterternary": [
           {
            "marker": {
             "colorbar": {
              "outlinewidth": 0,
              "ticks": ""
             }
            },
            "type": "scatterternary"
           }
          ],
          "surface": [
           {
            "colorbar": {
             "outlinewidth": 0,
             "ticks": ""
            },
            "colorscale": [
             [
              0,
              "#0d0887"
             ],
             [
              0.1111111111111111,
              "#46039f"
             ],
             [
              0.2222222222222222,
              "#7201a8"
             ],
             [
              0.3333333333333333,
              "#9c179e"
             ],
             [
              0.4444444444444444,
              "#bd3786"
             ],
             [
              0.5555555555555556,
              "#d8576b"
             ],
             [
              0.6666666666666666,
              "#ed7953"
             ],
             [
              0.7777777777777778,
              "#fb9f3a"
             ],
             [
              0.8888888888888888,
              "#fdca26"
             ],
             [
              1,
              "#f0f921"
             ]
            ],
            "type": "surface"
           }
          ],
          "table": [
           {
            "cells": {
             "fill": {
              "color": "#EBF0F8"
             },
             "line": {
              "color": "white"
             }
            },
            "header": {
             "fill": {
              "color": "#C8D4E3"
             },
             "line": {
              "color": "white"
             }
            },
            "type": "table"
           }
          ]
         },
         "layout": {
          "annotationdefaults": {
           "arrowcolor": "#2a3f5f",
           "arrowhead": 0,
           "arrowwidth": 1
          },
          "autotypenumbers": "strict",
          "coloraxis": {
           "colorbar": {
            "outlinewidth": 0,
            "ticks": ""
           }
          },
          "colorscale": {
           "diverging": [
            [
             0,
             "#8e0152"
            ],
            [
             0.1,
             "#c51b7d"
            ],
            [
             0.2,
             "#de77ae"
            ],
            [
             0.3,
             "#f1b6da"
            ],
            [
             0.4,
             "#fde0ef"
            ],
            [
             0.5,
             "#f7f7f7"
            ],
            [
             0.6,
             "#e6f5d0"
            ],
            [
             0.7,
             "#b8e186"
            ],
            [
             0.8,
             "#7fbc41"
            ],
            [
             0.9,
             "#4d9221"
            ],
            [
             1,
             "#276419"
            ]
           ],
           "sequential": [
            [
             0,
             "#0d0887"
            ],
            [
             0.1111111111111111,
             "#46039f"
            ],
            [
             0.2222222222222222,
             "#7201a8"
            ],
            [
             0.3333333333333333,
             "#9c179e"
            ],
            [
             0.4444444444444444,
             "#bd3786"
            ],
            [
             0.5555555555555556,
             "#d8576b"
            ],
            [
             0.6666666666666666,
             "#ed7953"
            ],
            [
             0.7777777777777778,
             "#fb9f3a"
            ],
            [
             0.8888888888888888,
             "#fdca26"
            ],
            [
             1,
             "#f0f921"
            ]
           ],
           "sequentialminus": [
            [
             0,
             "#0d0887"
            ],
            [
             0.1111111111111111,
             "#46039f"
            ],
            [
             0.2222222222222222,
             "#7201a8"
            ],
            [
             0.3333333333333333,
             "#9c179e"
            ],
            [
             0.4444444444444444,
             "#bd3786"
            ],
            [
             0.5555555555555556,
             "#d8576b"
            ],
            [
             0.6666666666666666,
             "#ed7953"
            ],
            [
             0.7777777777777778,
             "#fb9f3a"
            ],
            [
             0.8888888888888888,
             "#fdca26"
            ],
            [
             1,
             "#f0f921"
            ]
           ]
          },
          "colorway": [
           "#636efa",
           "#EF553B",
           "#00cc96",
           "#ab63fa",
           "#FFA15A",
           "#19d3f3",
           "#FF6692",
           "#B6E880",
           "#FF97FF",
           "#FECB52"
          ],
          "font": {
           "color": "#2a3f5f"
          },
          "geo": {
           "bgcolor": "white",
           "lakecolor": "white",
           "landcolor": "#E5ECF6",
           "showlakes": true,
           "showland": true,
           "subunitcolor": "white"
          },
          "hoverlabel": {
           "align": "left"
          },
          "hovermode": "closest",
          "mapbox": {
           "style": "light"
          },
          "paper_bgcolor": "white",
          "plot_bgcolor": "#E5ECF6",
          "polar": {
           "angularaxis": {
            "gridcolor": "white",
            "linecolor": "white",
            "ticks": ""
           },
           "bgcolor": "#E5ECF6",
           "radialaxis": {
            "gridcolor": "white",
            "linecolor": "white",
            "ticks": ""
           }
          },
          "scene": {
           "xaxis": {
            "backgroundcolor": "#E5ECF6",
            "gridcolor": "white",
            "gridwidth": 2,
            "linecolor": "white",
            "showbackground": true,
            "ticks": "",
            "zerolinecolor": "white"
           },
           "yaxis": {
            "backgroundcolor": "#E5ECF6",
            "gridcolor": "white",
            "gridwidth": 2,
            "linecolor": "white",
            "showbackground": true,
            "ticks": "",
            "zerolinecolor": "white"
           },
           "zaxis": {
            "backgroundcolor": "#E5ECF6",
            "gridcolor": "white",
            "gridwidth": 2,
            "linecolor": "white",
            "showbackground": true,
            "ticks": "",
            "zerolinecolor": "white"
           }
          },
          "shapedefaults": {
           "line": {
            "color": "#2a3f5f"
           }
          },
          "ternary": {
           "aaxis": {
            "gridcolor": "white",
            "linecolor": "white",
            "ticks": ""
           },
           "baxis": {
            "gridcolor": "white",
            "linecolor": "white",
            "ticks": ""
           },
           "bgcolor": "#E5ECF6",
           "caxis": {
            "gridcolor": "white",
            "linecolor": "white",
            "ticks": ""
           }
          },
          "title": {
           "x": 0.05
          },
          "xaxis": {
           "automargin": true,
           "gridcolor": "white",
           "linecolor": "white",
           "ticks": "",
           "title": {
            "standoff": 15
           },
           "zerolinecolor": "white",
           "zerolinewidth": 2
          },
          "yaxis": {
           "automargin": true,
           "gridcolor": "white",
           "linecolor": "white",
           "ticks": "",
           "title": {
            "standoff": 15
           },
           "zerolinecolor": "white",
           "zerolinewidth": 2
          }
         }
        },
        "title": {
         "text": "Area with traffic level 3 with eps = 0.0058, min_samples = 3",
         "x": 0.5,
         "xanchor": "center"
        },
        "xaxis": {
         "anchor": "y",
         "domain": [
          0,
          1
         ],
         "title": {
          "text": "Latitude"
         }
        },
        "yaxis": {
         "anchor": "x",
         "domain": [
          0,
          1
         ],
         "title": {
          "text": "Longitude"
         }
        }
       }
      }
     },
     "metadata": {},
     "output_type": "display_data"
    }
   ],
   "source": [
    "#Plot for Model 3\n",
    "after_fig3 = px.scatter(TF_3,\n",
    "                        x = \"Latitude\" , \n",
    "                        y = \"Longitude\", \n",
    "                        color=TF_3['labels'].astype(str),\n",
    "                        labels={\"color\" : \"Cluster\"},\n",
    "                        )\n",
    "after_fig3.update_layout(\n",
    "            title={\n",
    "            'text' : \"Area with traffic level 3 with eps = 0.0058, min_samples = 3\",\n",
    "            'x':0.5,\n",
    "            'xanchor': 'center',\n",
    "        })\n",
    "after_fig3"
   ]
  },
  {
   "cell_type": "code",
   "execution_count": 61,
   "id": "5519eb1a",
   "metadata": {},
   "outputs": [],
   "source": [
    "#Function to create map \n",
    "def createMap(dataset1, dataset2, dataset3):\n",
    "    m = folium.Map(location=[21.034388, 105.831716], zoom_start=14, tiles='cartodbpositron')\n",
    "    group_tf_1 = folium.FeatureGroup(\"Traffic Level 1\").add_to(m)\n",
    "    group_tf_2 = folium.FeatureGroup(\"Traffic Level 2\").add_to(m)\n",
    "    group_tf_3 = folium.FeatureGroup(\"Traffic Level 3\").add_to(m)\n",
    "    labs1 = dataset1['labels'].to_numpy()\n",
    "    labs2 = dataset2['labels'].to_numpy()\n",
    "    labs3 = dataset3['labels'].to_numpy()\n",
    "    long_lat1 = dataset1.iloc[:,[0,1]].to_numpy()\n",
    "    long_lat2 = dataset2.iloc[:,[0,1]].to_numpy()\n",
    "    long_lat3 = dataset3.iloc[:,[0,1]].to_numpy()\n",
    "    for i in range (0, len(labs1)):\n",
    "        if labs1[i] == 0:\n",
    "            folium.CircleMarker(long_lat1[i], radius= 1, color=\"#636EFA\",  fill_opacity=0.9).add_to(group_tf_1)\n",
    "        if labs1[i] == 1:\n",
    "            folium.CircleMarker(long_lat1[i], radius= 1, color=\"#00CC96\",  fill_opacity=0.9).add_to(group_tf_1)\n",
    "        if labs1[i] == 2: \n",
    "            folium.CircleMarker(long_lat1[i], radius= 1, color=\"#AB63FA\",  fill_opacity=0.9).add_to(group_tf_1)\n",
    "        if labs1[i] == -1: \n",
    "            folium.CircleMarker(long_lat1[i], radius= 1, color=\"#EF553B\",  fill_opacity=0.9).add_to(group_tf_1)\n",
    "    for i in range (0, len(labs2)):\n",
    "        if labs2[i] == 0:\n",
    "            folium.CircleMarker(long_lat2[i], radius= 1, color=\"#636EFA\",  fill_opacity=0.9).add_to(group_tf_2)\n",
    "        if labs2[i] == 1:\n",
    "            folium.CircleMarker(long_lat2[i], radius= 1, color=\"#00CC96\",  fill_opacity=0.9).add_to(group_tf_2)\n",
    "        if labs2[i] == 2: \n",
    "            folium.CircleMarker(long_lat2[i], radius= 1, color=\"#AB63FA\",  fill_opacity=0.9).add_to(group_tf_2)\n",
    "        if labs2[i] == -1: \n",
    "            folium.CircleMarker(long_lat2[i], radius= 1, color=\"#EF553B\",  fill_opacity=0.9).add_to(group_tf_2)\n",
    "    for i in range (0, len(labs3)):\n",
    "        if labs3[i] == 0:\n",
    "            folium.CircleMarker(long_lat3[i], radius= 1, color=\"#636EFA\",  fill_opacity=0.9).add_to(group_tf_3)\n",
    "        if labs3[i] == 1:\n",
    "            folium.CircleMarker(long_lat3[i], radius= 1, color=\"#00CC96\",  fill_opacity=0.9).add_to(group_tf_3)\n",
    "        if labs3[i] == 2: \n",
    "            folium.CircleMarker(long_lat3[i], radius= 1, color=\"#AB63FA\",  fill_opacity=0.9).add_to(group_tf_3)\n",
    "        if labs3[i] == -1: \n",
    "            folium.CircleMarker(long_lat3[i], radius= 1, color=\"#EF553B\",  fill_opacity=0.9).add_to(group_tf_3)\n",
    "    GroupedLayerControl(\n",
    "        groups={'Traffic Levels': [group_tf_1, group_tf_2,group_tf_3]},\n",
    "        collapsed=False,\n",
    "    ).add_to(m)\n",
    "    folium.LayerControl(collapsed=False)\n",
    "    return m\n"
   ]
  },
  {
   "cell_type": "code",
   "execution_count": 62,
   "id": "f5c81148",
   "metadata": {},
   "outputs": [],
   "source": [
    "FinalMap=createMap(TF_1, TF_2,TF_3)"
   ]
  },
  {
   "cell_type": "code",
   "execution_count": 63,
   "id": "56994307",
   "metadata": {},
   "outputs": [
    {
     "data": {
      "text/plain": [
       "True"
      ]
     },
     "execution_count": 63,
     "metadata": {},
     "output_type": "execute_result"
    }
   ],
   "source": [
    "FinalMap.save('traffic_map.html')\n",
    "webbrowser.open('traffic_map.html')"
   ]
  }
 ],
 "metadata": {
  "kernelspec": {
   "display_name": "Python 3 (ipykernel)",
   "language": "python",
   "name": "python3"
  },
  "language_info": {
   "codemirror_mode": {
    "name": "ipython",
    "version": 3
   },
   "file_extension": ".py",
   "mimetype": "text/x-python",
   "name": "python",
   "nbconvert_exporter": "python",
   "pygments_lexer": "ipython3",
   "version": "3.11.4"
  }
 },
 "nbformat": 4,
 "nbformat_minor": 5
}
